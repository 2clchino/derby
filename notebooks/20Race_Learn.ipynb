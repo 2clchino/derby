{
 "cells": [
  {
   "cell_type": "markdown",
   "metadata": {},
   "source": [
    "### モジュールインポート"
   ]
  },
  {
   "cell_type": "code",
   "execution_count": 1,
   "metadata": {},
   "outputs": [],
   "source": [
    "import csv\n",
    "import requests\n",
    "import bs4\n",
    "import re\n",
    "import os\n",
    "import time\n",
    "import numpy as np\n",
    "import pandas as pd\n",
    "import matplotlib.pyplot as plt\n",
    "import seaborn as sns\n",
    "from enum import Enum\n",
    "import derby_func as func\n",
    "import collections\n",
    "from sklearn import preprocessing"
   ]
  },
  {
   "cell_type": "markdown",
   "metadata": {},
   "source": [
    "### 定数宣言"
   ]
  },
  {
   "cell_type": "markdown",
   "metadata": {},
   "source": [
    "RACE_CNT の値で過去何年分のレースを訓練データとするかを選択"
   ]
  },
  {
   "cell_type": "code",
   "execution_count": 2,
   "metadata": {},
   "outputs": [],
   "source": [
    "RACE = \"/race/\"\n",
    "CSV_DIR = \"csv\"\n",
    "RACE_CNT = 21"
   ]
  },
  {
   "cell_type": "markdown",
   "metadata": {},
   "source": [
    "id=xxxx に予想したいレース ID を入力 (有馬記念なら 0133)"
   ]
  },
  {
   "cell_type": "code",
   "execution_count": 3,
   "metadata": {},
   "outputs": [],
   "source": [
    "PRED_RACE = 'id=0059'"
   ]
  },
  {
   "cell_type": "code",
   "execution_count": 4,
   "metadata": {},
   "outputs": [],
   "source": [
    "PAGE = 'https://race.netkeiba.com/special/index.html?' + PRED_RACE\n",
    "URL_RACE = \"https://race.netkeiba.com/race/shutuba.html?race_id=\"\n",
    "TRAIN_RACE_ID = func.get_train_race_id(func.get_text_from_page(PAGE), min_cnt =0, max_cnt = RACE_CNT)\n",
    "PRED_RACE_ID = func.get_pred_race_id(func.get_text_from_page(PAGE))"
   ]
  },
  {
   "cell_type": "code",
   "execution_count": 5,
   "metadata": {},
   "outputs": [],
   "source": [
    "RACE_NAME = func.get_name_from_text(func.get_text_from_page(URL_RACE + PRED_RACE_ID)).replace(' - netkeiba.com', '').split('(')[0]"
   ]
  },
  {
   "cell_type": "code",
   "execution_count": 6,
   "metadata": {},
   "outputs": [],
   "source": [
    "TRAIN_RACE_DATA_PATH = CSV_DIR+ RACE + RACE_NAME + \"/\"\n",
    "TRAIN_HORSE_DATA_PATH = CSV_DIR + \"/horse/\"\n",
    "RACE_DATA_COLUMNS = func.race_data_columns()\n",
    "HORSE_DATA_COLUMNS = func.horse_data_columns()\n",
    "JOCKEY_DATA_COLUMNS = func.jockey_data_columns()\n",
    "RACE_RANK = func.race_rank()"
   ]
  },
  {
   "cell_type": "code",
   "execution_count": 7,
   "metadata": {},
   "outputs": [
    {
     "data": {
      "text/plain": [
       "['202205021211',\n",
       " '202105021211',\n",
       " '202005021211',\n",
       " '201905021211',\n",
       " '201805021210',\n",
       " '201705021210',\n",
       " '201605021210',\n",
       " '201505021210',\n",
       " '201405021210',\n",
       " '201305021210',\n",
       " '201205021210',\n",
       " '201105030411',\n",
       " '201005030410',\n",
       " '200905030410',\n",
       " '200805030410',\n",
       " '200705030410',\n",
       " '200605030410',\n",
       " '200505030410',\n",
       " '200405030410',\n",
       " '200305020410',\n",
       " '200205040410']"
      ]
     },
     "execution_count": 7,
     "metadata": {},
     "output_type": "execute_result"
    }
   ],
   "source": [
    "TRAIN_RACE_ID"
   ]
  },
  {
   "cell_type": "code",
   "execution_count": 8,
   "metadata": {},
   "outputs": [
    {
     "data": {
      "text/plain": [
       "21"
      ]
     },
     "execution_count": 8,
     "metadata": {},
     "output_type": "execute_result"
    }
   ],
   "source": [
    "len(TRAIN_RACE_ID)"
   ]
  },
  {
   "cell_type": "code",
   "execution_count": 9,
   "metadata": {},
   "outputs": [],
   "source": [
    "RACE_CNT = len(TRAIN_RACE_ID)"
   ]
  },
  {
   "cell_type": "markdown",
   "metadata": {},
   "source": [
    "### DataFrame読み込み、前処理"
   ]
  },
  {
   "cell_type": "code",
   "execution_count": 10,
   "metadata": {},
   "outputs": [],
   "source": [
    "df_races = []\n",
    "db_horses = {}\n",
    "for i in range(len(TRAIN_RACE_ID)):\n",
    "    df_races.append(pd.read_csv(TRAIN_RACE_DATA_PATH + str(int(TRAIN_RACE_ID[len(TRAIN_RACE_ID) - 1][:4]) + i) + \".csv\", header=None, names = RACE_DATA_COLUMNS, encoding='shift_jis'))"
   ]
  },
  {
   "cell_type": "code",
   "execution_count": 11,
   "metadata": {},
   "outputs": [
    {
     "data": {
      "text/plain": [
       "21"
      ]
     },
     "execution_count": 11,
     "metadata": {},
     "output_type": "execute_result"
    }
   ],
   "source": [
    "len(df_races)"
   ]
  },
  {
   "cell_type": "code",
   "execution_count": 12,
   "metadata": {},
   "outputs": [],
   "source": [
    "def race_score_define(row):\n",
    "    rank_score = 0\n",
    "    for rank in RACE_RANK:\n",
    "        if (rank.rank in row['race_name']):\n",
    "            rank_score = rank.score\n",
    "    return rank_score"
   ]
  },
  {
   "cell_type": "code",
   "execution_count": 13,
   "metadata": {},
   "outputs": [],
   "source": [
    "def load_horse_data(row, num):\n",
    "    load_path = TRAIN_HORSE_DATA_PATH + str(int(TRAIN_RACE_ID[len(TRAIN_RACE_ID) - 1][:4]) + int(num)) + RACE_NAME + \"/\" + str(row['horse_name']) + \".csv\"\n",
    "    path = str(int(TRAIN_RACE_ID[len(TRAIN_RACE_ID) - 1][:4]) + int(num)) + row['horse_name']\n",
    "    df_tmp = pd.read_csv(load_path, header=None, names = HORSE_DATA_COLUMNS, encoding='shift_jis')\n",
    "    df_tmp = df_tmp.drop(columns=['time_score', \"ground_score\", 'popularity', 'odds', 'R', 'winner', 'reward', \"video\" ,\"coment\", \"coment_2\",])\n",
    "    df_tmp.dropna(how='all', axis = 1, inplace=True)\n",
    "    df_tmp['ground_type'] = df_tmp.apply(lambda x: x['distance'][:1], axis = 1)\n",
    "    df_tmp['distance'] = df_tmp.apply(lambda x: x['distance'][1:], axis = 1)\n",
    "    df_tmp['race_rank_score'] = df_tmp.apply(race_score_define, axis = 1)\n",
    "    df_tmp.dropna(how='any', axis = 0, inplace=True)\n",
    "    db_horses[path] = df_tmp.reset_index()\n",
    "    return path"
   ]
  },
  {
   "cell_type": "code",
   "execution_count": 14,
   "metadata": {},
   "outputs": [],
   "source": [
    "def search_past_races(row, num):\n",
    "    df_horse = db_horses[row['horse_data_key']]\n",
    "    df_horse['race_date_judge'] = df_horse.apply(lambda x: True if str(x['race_id']) == str(TRAIN_RACE_ID[len(TRAIN_RACE_ID) - 1 - num]) else False, axis = 1)\n",
    "    index = df_horse[df_horse['race_date_judge'] == True].index\n",
    "    df_horse = df_horse.iloc[index[0] + 1:]\n",
    "    db_horses[row['horse_data_key']] = df_horse\n",
    "    if (df_horse.shape[0] > 0):\n",
    "        return index[0]\n",
    "    else :\n",
    "        return 0"
   ]
  },
  {
   "cell_type": "code",
   "execution_count": 15,
   "metadata": {},
   "outputs": [],
   "source": [
    "def rank_to_int(df):\n",
    "    df_2 = df.copy()\n",
    "    df_2 = df_2[(df_2['rank'] != \"取\") & (df_2['rank'] != \"中\") & (df_2['rank'] != \"除\") & (df_2['rank'] != \"失\")]\n",
    "    df_2['rank'] = df_2['rank'].apply(lambda x: int(re.sub(r\"\\D\", \"\", str(x))))\n",
    "    return df_2"
   ]
  },
  {
   "cell_type": "code",
   "execution_count": 16,
   "metadata": {},
   "outputs": [],
   "source": [
    "def calc_past_rank_ave(row):\n",
    "    df_horse = db_horses[row['horse_data_key']]\n",
    "    df_horse = rank_to_int(df_horse)\n",
    "    df_horse['race_score'] = df_horse.apply(lambda x: 0 if x['rank'] > 5 else (x['race_rank_score'] * (4 - x['rank']) * 10) / x['head_count'], axis = 1)\n",
    "    mean = df_horse['rank'].mean(axis = 0)\n",
    "    db_horses[row['horse_data_key']] = df_horse\n",
    "    return mean"
   ]
  },
  {
   "cell_type": "code",
   "execution_count": 17,
   "metadata": {},
   "outputs": [],
   "source": [
    "def feature_creation(df_race_tmp, num = 1):\n",
    "    df = df_race_tmp.copy()\n",
    "    df = df[df['race_count'] > 0]\n",
    "    df['past_rank_ave'] = df.apply(calc_past_rank_ave, axis = 1)\n",
    "    df['before_race_rank'] = df.apply(lambda x: int(db_horses[x['horse_data_key']]['rank'][x['race_count'] + num]), axis = 1)\n",
    "    df['past_rank_std'] = df.apply(lambda x: db_horses[x['horse_data_key']]['rank'].std(axis = 0), axis = 1)\n",
    "    df['med_race_score'] = df.apply(lambda x: db_horses[x['horse_data_key']]['race_score'].median(axis = 0), axis = 1)\n",
    "    return df.fillna(0)"
   ]
  },
  {
   "cell_type": "code",
   "execution_count": 22,
   "metadata": {},
   "outputs": [],
   "source": [
    "def add_jockey_info(row):\n",
    "    _id = str(str(row['jockey_id']).zfill(5))\n",
    "    load_path = \"csv/jockey/\" + _id + \".csv\"\n",
    "    df_joc = pd.read_csv(load_path, header=None, names = JOCKEY_DATA_COLUMNS, encoding='shift_jis')\n",
    "    return float(df_joc[df_joc[\"year\"] == str(int(row['horse_data_key'][:4]))][\"3-2-1_rate\"])"
   ]
  },
  {
   "cell_type": "code",
   "execution_count": 24,
   "metadata": {
    "scrolled": true
   },
   "outputs": [
    {
     "data": {
      "text/html": [
       "<div>\n",
       "<style scoped>\n",
       "    .dataframe tbody tr th:only-of-type {\n",
       "        vertical-align: middle;\n",
       "    }\n",
       "\n",
       "    .dataframe tbody tr th {\n",
       "        vertical-align: top;\n",
       "    }\n",
       "\n",
       "    .dataframe thead th {\n",
       "        text-align: right;\n",
       "    }\n",
       "</style>\n",
       "<table border=\"1\" class=\"dataframe\">\n",
       "  <thead>\n",
       "    <tr style=\"text-align: right;\">\n",
       "      <th></th>\n",
       "      <th>rank</th>\n",
       "      <th>frame_number</th>\n",
       "      <th>horse_number</th>\n",
       "      <th>horse_name</th>\n",
       "      <th>aptitude_course</th>\n",
       "      <th>aptitude_distance</th>\n",
       "      <th>aptitude_run</th>\n",
       "      <th>aptitude_growth</th>\n",
       "      <th>aptitude_ground</th>\n",
       "      <th>age</th>\n",
       "      <th>...</th>\n",
       "      <th>odds</th>\n",
       "      <th>popularity</th>\n",
       "      <th>horse_weight</th>\n",
       "      <th>horse_data_key</th>\n",
       "      <th>race_count</th>\n",
       "      <th>jockey_rate</th>\n",
       "      <th>past_rank_ave</th>\n",
       "      <th>before_race_rank</th>\n",
       "      <th>past_rank_std</th>\n",
       "      <th>med_race_score</th>\n",
       "    </tr>\n",
       "  </thead>\n",
       "  <tbody>\n",
       "    <tr>\n",
       "      <th>1</th>\n",
       "      <td>2</td>\n",
       "      <td>6</td>\n",
       "      <td>11</td>\n",
       "      <td>シンボリクリスエス</td>\n",
       "      <td>107</td>\n",
       "      <td>45</td>\n",
       "      <td>29</td>\n",
       "      <td>44</td>\n",
       "      <td>60</td>\n",
       "      <td>牡3</td>\n",
       "      <td>...</td>\n",
       "      <td>6.2</td>\n",
       "      <td>3</td>\n",
       "      <td>520(-6)</td>\n",
       "      <td>2002シンボリクリスエス</td>\n",
       "      <td>8</td>\n",
       "      <td>0.398</td>\n",
       "      <td>1.833333</td>\n",
       "      <td>1</td>\n",
       "      <td>0.983192</td>\n",
       "      <td>15.476190</td>\n",
       "    </tr>\n",
       "    <tr>\n",
       "      <th>2</th>\n",
       "      <td>3</td>\n",
       "      <td>4</td>\n",
       "      <td>8</td>\n",
       "      <td>マチカネアカツキ</td>\n",
       "      <td>108</td>\n",
       "      <td>60</td>\n",
       "      <td>100</td>\n",
       "      <td>72</td>\n",
       "      <td>64</td>\n",
       "      <td>牡3</td>\n",
       "      <td>...</td>\n",
       "      <td>16.7</td>\n",
       "      <td>6</td>\n",
       "      <td>512(-4)</td>\n",
       "      <td>2002マチカネアカツキ</td>\n",
       "      <td>4</td>\n",
       "      <td>0.526</td>\n",
       "      <td>1.750000</td>\n",
       "      <td>2</td>\n",
       "      <td>0.462910</td>\n",
       "      <td>59.027778</td>\n",
       "    </tr>\n",
       "    <tr>\n",
       "      <th>3</th>\n",
       "      <td>4</td>\n",
       "      <td>5</td>\n",
       "      <td>10</td>\n",
       "      <td>メガスターダム</td>\n",
       "      <td>111</td>\n",
       "      <td>41</td>\n",
       "      <td>94</td>\n",
       "      <td>52</td>\n",
       "      <td>61</td>\n",
       "      <td>牡3</td>\n",
       "      <td>...</td>\n",
       "      <td>27.5</td>\n",
       "      <td>9</td>\n",
       "      <td>490(-2)</td>\n",
       "      <td>2002メガスターダム</td>\n",
       "      <td>8</td>\n",
       "      <td>0.269</td>\n",
       "      <td>3.583333</td>\n",
       "      <td>1</td>\n",
       "      <td>2.466441</td>\n",
       "      <td>3.125000</td>\n",
       "    </tr>\n",
       "    <tr>\n",
       "      <th>4</th>\n",
       "      <td>5</td>\n",
       "      <td>8</td>\n",
       "      <td>18</td>\n",
       "      <td>ゴールドアリュール</td>\n",
       "      <td>22</td>\n",
       "      <td>56</td>\n",
       "      <td>109</td>\n",
       "      <td>55</td>\n",
       "      <td>85</td>\n",
       "      <td>牡3</td>\n",
       "      <td>...</td>\n",
       "      <td>48.1</td>\n",
       "      <td>13</td>\n",
       "      <td>498(-4)</td>\n",
       "      <td>2002ゴールドアリュール</td>\n",
       "      <td>6</td>\n",
       "      <td>0.220</td>\n",
       "      <td>2.625000</td>\n",
       "      <td>1</td>\n",
       "      <td>1.597990</td>\n",
       "      <td>7.417582</td>\n",
       "    </tr>\n",
       "    <tr>\n",
       "      <th>5</th>\n",
       "      <td>6</td>\n",
       "      <td>3</td>\n",
       "      <td>5</td>\n",
       "      <td>アドマイヤドン</td>\n",
       "      <td>35</td>\n",
       "      <td>58</td>\n",
       "      <td>62</td>\n",
       "      <td>54</td>\n",
       "      <td>87</td>\n",
       "      <td>牡3</td>\n",
       "      <td>...</td>\n",
       "      <td>25.1</td>\n",
       "      <td>8</td>\n",
       "      <td>440(-10)</td>\n",
       "      <td>2002アドマイヤドン</td>\n",
       "      <td>15</td>\n",
       "      <td>0.360</td>\n",
       "      <td>2.600000</td>\n",
       "      <td>7</td>\n",
       "      <td>2.607681</td>\n",
       "      <td>36.363636</td>\n",
       "    </tr>\n",
       "  </tbody>\n",
       "</table>\n",
       "<p>5 rows × 22 columns</p>\n",
       "</div>"
      ],
      "text/plain": [
       "   rank  frame_number  horse_number horse_name  aptitude_course  \\\n",
       "1     2             6            11  シンボリクリスエス              107   \n",
       "2     3             4             8   マチカネアカツキ              108   \n",
       "3     4             5            10    メガスターダム              111   \n",
       "4     5             8            18  ゴールドアリュール               22   \n",
       "5     6             3             5    アドマイヤドン               35   \n",
       "\n",
       "   aptitude_distance  aptitude_run  aptitude_growth  aptitude_ground age  ...  \\\n",
       "1                 45            29               44               60  牡3  ...   \n",
       "2                 60           100               72               64  牡3  ...   \n",
       "3                 41            94               52               61  牡3  ...   \n",
       "4                 56           109               55               85  牡3  ...   \n",
       "5                 58            62               54               87  牡3  ...   \n",
       "\n",
       "   odds  popularity  horse_weight  horse_data_key race_count jockey_rate  \\\n",
       "1   6.2           3       520(-6)   2002シンボリクリスエス          8       0.398   \n",
       "2  16.7           6       512(-4)    2002マチカネアカツキ          4       0.526   \n",
       "3  27.5           9       490(-2)     2002メガスターダム          8       0.269   \n",
       "4  48.1          13       498(-4)   2002ゴールドアリュール          6       0.220   \n",
       "5  25.1           8      440(-10)     2002アドマイヤドン         15       0.360   \n",
       "\n",
       "   past_rank_ave  before_race_rank  past_rank_std  med_race_score  \n",
       "1       1.833333                 1       0.983192       15.476190  \n",
       "2       1.750000                 2       0.462910       59.027778  \n",
       "3       3.583333                 1       2.466441        3.125000  \n",
       "4       2.625000                 1       1.597990        7.417582  \n",
       "5       2.600000                 7       2.607681       36.363636  \n",
       "\n",
       "[5 rows x 22 columns]"
      ]
     },
     "execution_count": 24,
     "metadata": {},
     "output_type": "execute_result"
    }
   ],
   "source": [
    "df_races_2 = df_races.copy()\n",
    "drop_columns = ['trainer', 'owner', 'jockey', 'reward', 'difference', 'lap_time', 'final_3F', 'time', 'time_score']\n",
    "for i in range(len(TRAIN_RACE_ID)):\n",
    "    df_races_2[i].fillna({'time_score': '**'})\n",
    "    df_races_2[i].dropna(how='all', axis = 1, inplace=True)\n",
    "    df_races_2[i] = rank_to_int(df_races_2[i])\n",
    "    df_races_2[i] = df_races_2[i].drop(columns = drop_columns, errors = 'ignore')\n",
    "    df_races_2[i]['horse_data_key'] = df_races_2[i].apply(load_horse_data, num = i, axis = 1)\n",
    "    df_races_2[i]['race_count'] = df_races_2[i].apply(search_past_races, num = i, axis = 1)\n",
    "    df_races_2[i]['jockey_rate'] = df_races_2[i].apply(add_jockey_info, axis = 1)\n",
    "    df_races_2[i] = feature_creation(df_races_2[i])\n",
    "df_races_2[0].head(5)"
   ]
  },
  {
   "cell_type": "markdown",
   "metadata": {},
   "source": [
    "### レースの特徴表示"
   ]
  },
  {
   "cell_type": "code",
   "execution_count": 25,
   "metadata": {
    "scrolled": true
   },
   "outputs": [
    {
     "data": {
      "text/plain": [
       "352"
      ]
     },
     "execution_count": 25,
     "metadata": {},
     "output_type": "execute_result"
    }
   ],
   "source": [
    "df_all_races = pd.concat(df_races_2)\n",
    "len(df_all_races)"
   ]
  },
  {
   "cell_type": "code",
   "execution_count": 26,
   "metadata": {},
   "outputs": [],
   "source": [
    "df_all_races_rank = []\n",
    "df_all_races_rank.append(df_all_races[df_all_races['rank'] == 1])\n",
    "df_all_races_rank.append(df_all_races[df_all_races['rank'] <= 3])\n",
    "df_all_races_rank.append(df_all_races)"
   ]
  },
  {
   "cell_type": "code",
   "execution_count": 27,
   "metadata": {},
   "outputs": [],
   "source": [
    "def plot_count_columns(column_name, _bins = 20, _range = (0, 20)):\n",
    "    titles = [\"Rank1\", \"InTicket\", \"All\"]\n",
    "    fig = plt.figure(figsize=(10, 10))\n",
    "    for i in range(len(df_all_races_rank)):\n",
    "        plt.subplot(len(df_all_races_rank), 3, i+1)\n",
    "        plt.title(titles[i] + \"_\" + column_name)\n",
    "        plt.hist(df_all_races_rank[i][column_name], bins=_bins, range = _range)\n",
    "        plt.tight_layout()\n",
    "        print(titles[i] + \"：サンプル数\" + str(len(df_all_races_rank[i])))\n",
    "    plt.style.use('default')\n",
    "    plt.savefig(f\"images/{column_name}.png\", bbox_inches='tight')"
   ]
  },
  {
   "cell_type": "markdown",
   "metadata": {},
   "source": [
    "過去20年で1着及び馬券内だった馬の枠番"
   ]
  },
  {
   "cell_type": "code",
   "execution_count": 28,
   "metadata": {
    "scrolled": false
   },
   "outputs": [
    {
     "name": "stdout",
     "output_type": "stream",
     "text": [
      "Rank1：サンプル数18\n",
      "InTicket：サンプル数57\n",
      "All：サンプル数352\n"
     ]
    },
    {
     "data": {
      "image/png": "[encoded data removed]",
      "text/plain": [
       "<Figure size 1000x1000 with 3 Axes>"
      ]
     },
     "metadata": {},
     "output_type": "display_data"
    }
   ],
   "source": [
    "plot_count_columns('frame_number', 8, (1, 8))"
   ]
  },
  {
   "cell_type": "markdown",
   "metadata": {},
   "source": [
    "過去20年で1着及び馬券内だった馬の距離適性(高いほど短距離得意)"
   ]
  },
  {
   "cell_type": "code",
   "execution_count": 29,
   "metadata": {},
   "outputs": [
    {
     "name": "stdout",
     "output_type": "stream",
     "text": [
      "Rank1：サンプル数18\n",
      "InTicket：サンプル数57\n",
      "All：サンプル数352\n"
     ]
    },
    {
     "data": {
      "image/png": "[encoded data removed]",
      "text/plain": [
       "<Figure size 1000x1000 with 3 Axes>"
      ]
     },
     "metadata": {},
     "output_type": "display_data"
    }
   ],
   "source": [
    "plot_count_columns(\"aptitude_distance\", _range = (0, 120))"
   ]
  },
  {
   "cell_type": "markdown",
   "metadata": {},
   "source": [
    "過去20年で1着及び馬券内だった馬の脚質適性(高いほど逃げ)"
   ]
  },
  {
   "cell_type": "code",
   "execution_count": 30,
   "metadata": {},
   "outputs": [
    {
     "name": "stdout",
     "output_type": "stream",
     "text": [
      "Rank1：サンプル数18\n",
      "InTicket：サンプル数57\n",
      "All：サンプル数352\n"
     ]
    },
    {
     "data": {
      "image/png": "[encoded data removed]",
      "text/plain": [
       "<Figure size 1000x1000 with 3 Axes>"
      ]
     },
     "metadata": {},
     "output_type": "display_data"
    }
   ],
   "source": [
    "plot_count_columns(\"aptitude_run\", _range = (0, 120))"
   ]
  },
  {
   "cell_type": "markdown",
   "metadata": {},
   "source": [
    "過去20年で1着及び馬券内だった馬の成長適性(高いほど早熟)"
   ]
  },
  {
   "cell_type": "code",
   "execution_count": 31,
   "metadata": {},
   "outputs": [
    {
     "name": "stdout",
     "output_type": "stream",
     "text": [
      "Rank1：サンプル数18\n",
      "InTicket：サンプル数57\n",
      "All：サンプル数352\n"
     ]
    },
    {
     "data": {
      "image/png": "[encoded data removed]",
      "text/plain": [
       "<Figure size 1000x1000 with 3 Axes>"
      ]
     },
     "metadata": {},
     "output_type": "display_data"
    }
   ],
   "source": [
    "plot_count_columns(\"aptitude_growth\", _range = (0, 120))"
   ]
  },
  {
   "cell_type": "markdown",
   "metadata": {},
   "source": [
    "過去20年で1着及び馬券内だった馬の馬場適性(高いほど重馬場得意)"
   ]
  },
  {
   "cell_type": "code",
   "execution_count": 32,
   "metadata": {},
   "outputs": [
    {
     "name": "stdout",
     "output_type": "stream",
     "text": [
      "Rank1：サンプル数18\n",
      "InTicket：サンプル数57\n",
      "All：サンプル数352\n"
     ]
    },
    {
     "data": {
      "image/png": "[encoded data removed]",
      "text/plain": [
       "<Figure size 1000x1000 with 3 Axes>"
      ]
     },
     "metadata": {},
     "output_type": "display_data"
    }
   ],
   "source": [
    "plot_count_columns(\"aptitude_ground\", _range = (0, 120))"
   ]
  },
  {
   "cell_type": "markdown",
   "metadata": {},
   "source": [
    "過去20年で1着及び馬券内だった馬の過去レース順位平均値"
   ]
  },
  {
   "cell_type": "code",
   "execution_count": 33,
   "metadata": {},
   "outputs": [
    {
     "name": "stdout",
     "output_type": "stream",
     "text": [
      "Rank1：サンプル数18\n",
      "InTicket：サンプル数57\n",
      "All：サンプル数352\n"
     ]
    },
    {
     "data": {
      "image/png": "[encoded data removed]",
      "text/plain": [
       "<Figure size 1000x1000 with 3 Axes>"
      ]
     },
     "metadata": {},
     "output_type": "display_data"
    }
   ],
   "source": [
    "plot_count_columns(\"past_rank_ave\", 18,_range = (1, 18))"
   ]
  },
  {
   "cell_type": "markdown",
   "metadata": {},
   "source": [
    "過去20年で1着及び馬券内だった馬の前走着順"
   ]
  },
  {
   "cell_type": "code",
   "execution_count": 34,
   "metadata": {},
   "outputs": [
    {
     "name": "stdout",
     "output_type": "stream",
     "text": [
      "Rank1：サンプル数18\n",
      "InTicket：サンプル数57\n",
      "All：サンプル数352\n"
     ]
    },
    {
     "data": {
      "image/png": "[encoded data removed]",
      "text/plain": [
       "<Figure size 1000x1000 with 3 Axes>"
      ]
     },
     "metadata": {},
     "output_type": "display_data"
    }
   ],
   "source": [
    "plot_count_columns(\"before_race_rank\", 18,_range = (1, 18))"
   ]
  },
  {
   "cell_type": "markdown",
   "metadata": {},
   "source": [
    "過去レースの順位データに(G1)などのレースの格を数値化して計算した平均を算出"
   ]
  },
  {
   "cell_type": "code",
   "execution_count": 35,
   "metadata": {},
   "outputs": [
    {
     "name": "stdout",
     "output_type": "stream",
     "text": [
      "Rank1：サンプル数18\n",
      "InTicket：サンプル数57\n",
      "All：サンプル数352\n"
     ]
    },
    {
     "data": {
      "image/png": "[encoded data removed]",
      "text/plain": [
       "<Figure size 1000x1000 with 3 Axes>"
      ]
     },
     "metadata": {},
     "output_type": "display_data"
    }
   ],
   "source": [
    "plot_count_columns(\"med_race_score\", _range = (0, 200))"
   ]
  },
  {
   "cell_type": "code",
   "execution_count": 36,
   "metadata": {},
   "outputs": [
    {
     "name": "stdout",
     "output_type": "stream",
     "text": [
      "Rank1：サンプル数18\n",
      "InTicket：サンプル数57\n",
      "All：サンプル数352\n"
     ]
    },
    {
     "data": {
      "image/png": "[encoded data removed]",
      "text/plain": [
       "<Figure size 1000x1000 with 3 Axes>"
      ]
     },
     "metadata": {},
     "output_type": "display_data"
    }
   ],
   "source": [
    "plot_count_columns(\"jockey_rate\", _range = (0, 1))"
   ]
  },
  {
   "cell_type": "markdown",
   "metadata": {},
   "source": [
    "### 特徴量抽出"
   ]
  },
  {
   "cell_type": "code",
   "execution_count": 37,
   "metadata": {},
   "outputs": [],
   "source": [
    "df_races_train = []\n",
    "df_races_test = []\n",
    "df_races_all = pd.concat(df_races_2)\n",
    "for i in range(len(df_races_2)):\n",
    "    tmp = []\n",
    "    for j in range(len(df_races_2)):\n",
    "        if (i == j):\n",
    "            df_races_test.append(df_races_2[j])\n",
    "        else:\n",
    "            tmp.append(df_races_2[j])\n",
    "    df_races_train.append(pd.concat(tmp))"
   ]
  },
  {
   "cell_type": "code",
   "execution_count": 38,
   "metadata": {},
   "outputs": [],
   "source": [
    "df_races_train_2 = df_races_train.copy()\n",
    "df_races_test_2 = df_races_test.copy()\n",
    "df_races_all_2 = df_races_all.copy()\n",
    "y_trains = []\n",
    "(df_races_all_2, y_all) = func.create_param(df_races_all_2)\n",
    "for i in range(len(df_races_train_2)):\n",
    "    (df_races_train_2[i], df_races_test_2[i], tmp) = func.create_params(df_races_train_2[i], df_races_test_2[i])\n",
    "    y_trains.append(tmp)"
   ]
  },
  {
   "cell_type": "markdown",
   "metadata": {},
   "source": [
    "### 本予想の前に去年のレースを予測してみて正答率を確認する"
   ]
  },
  {
   "cell_type": "code",
   "execution_count": 39,
   "metadata": {},
   "outputs": [],
   "source": [
    "TEST_NUM = 20 # 予想対象レース"
   ]
  },
  {
   "cell_type": "code",
   "execution_count": 40,
   "metadata": {},
   "outputs": [
    {
     "data": {
      "text/html": [
       "<div>\n",
       "<style scoped>\n",
       "    .dataframe tbody tr th:only-of-type {\n",
       "        vertical-align: middle;\n",
       "    }\n",
       "\n",
       "    .dataframe tbody tr th {\n",
       "        vertical-align: top;\n",
       "    }\n",
       "\n",
       "    .dataframe thead th {\n",
       "        text-align: right;\n",
       "    }\n",
       "</style>\n",
       "<table border=\"1\" class=\"dataframe\">\n",
       "  <thead>\n",
       "    <tr style=\"text-align: right;\">\n",
       "      <th></th>\n",
       "      <th>frame_number</th>\n",
       "      <th>aptitude_course</th>\n",
       "      <th>aptitude_distance</th>\n",
       "      <th>aptitude_run</th>\n",
       "      <th>aptitude_growth</th>\n",
       "      <th>aptitude_ground</th>\n",
       "      <th>weight</th>\n",
       "      <th>race_count</th>\n",
       "      <th>jockey_rate</th>\n",
       "      <th>past_rank_ave</th>\n",
       "      <th>before_race_rank</th>\n",
       "      <th>past_rank_std</th>\n",
       "      <th>med_race_score</th>\n",
       "    </tr>\n",
       "  </thead>\n",
       "  <tbody>\n",
       "    <tr>\n",
       "      <th>1</th>\n",
       "      <td>6</td>\n",
       "      <td>107</td>\n",
       "      <td>45</td>\n",
       "      <td>29</td>\n",
       "      <td>44</td>\n",
       "      <td>60</td>\n",
       "      <td>57</td>\n",
       "      <td>8</td>\n",
       "      <td>0.398</td>\n",
       "      <td>1.833333</td>\n",
       "      <td>1</td>\n",
       "      <td>0.983192</td>\n",
       "      <td>15.47619</td>\n",
       "    </tr>\n",
       "  </tbody>\n",
       "</table>\n",
       "</div>"
      ],
      "text/plain": [
       "   frame_number  aptitude_course  aptitude_distance  aptitude_run  \\\n",
       "1             6              107                 45            29   \n",
       "\n",
       "   aptitude_growth  aptitude_ground  weight  race_count  jockey_rate  \\\n",
       "1               44               60      57           8        0.398   \n",
       "\n",
       "   past_rank_ave  before_race_rank  past_rank_std  med_race_score  \n",
       "1       1.833333                 1       0.983192        15.47619  "
      ]
     },
     "execution_count": 40,
     "metadata": {},
     "output_type": "execute_result"
    }
   ],
   "source": [
    "df_races_test_2[0].head(1)"
   ]
  },
  {
   "cell_type": "code",
   "execution_count": 41,
   "metadata": {},
   "outputs": [],
   "source": [
    "y_train = y_trains[TEST_NUM]"
   ]
  },
  {
   "cell_type": "code",
   "execution_count": 42,
   "metadata": {},
   "outputs": [
    {
     "name": "stderr",
     "output_type": "stream",
     "text": [
      "C:\\Users\\mano2\\AppData\\Local\\Temp\\ipykernel_28628\\2626878118.py:1: DeprecationWarning: `np.float` is a deprecated alias for the builtin `float`. To silence this warning, use `float` by itself. Doing this will not modify any behavior and is safe. If you specifically wanted the numpy scalar type, use `np.float64` here.\n",
      "Deprecated in NumPy 1.20; for more details and guidance: https://numpy.org/devdocs/release/1.20.0-notes.html#deprecations\n",
      "  X_train = df_races_train_2[TEST_NUM].values.astype(np.float)\n"
     ]
    },
    {
     "data": {
      "text/plain": [
       "(336, 13)"
      ]
     },
     "execution_count": 42,
     "metadata": {},
     "output_type": "execute_result"
    }
   ],
   "source": [
    "X_train = df_races_train_2[TEST_NUM].values.astype(np.float)\n",
    "X_train.shape"
   ]
  },
  {
   "cell_type": "code",
   "execution_count": 43,
   "metadata": {},
   "outputs": [
    {
     "name": "stderr",
     "output_type": "stream",
     "text": [
      "C:\\Users\\mano2\\AppData\\Local\\Temp\\ipykernel_28628\\32131183.py:1: DeprecationWarning: `np.float` is a deprecated alias for the builtin `float`. To silence this warning, use `float` by itself. Doing this will not modify any behavior and is safe. If you specifically wanted the numpy scalar type, use `np.float64` here.\n",
      "Deprecated in NumPy 1.20; for more details and guidance: https://numpy.org/devdocs/release/1.20.0-notes.html#deprecations\n",
      "  X_test = df_races_test_2[TEST_NUM].values.astype(np.float)\n"
     ]
    },
    {
     "data": {
      "text/plain": [
       "(16, 13)"
      ]
     },
     "execution_count": 43,
     "metadata": {},
     "output_type": "execute_result"
    }
   ],
   "source": [
    "X_test = df_races_test_2[TEST_NUM].values.astype(np.float)\n",
    "X_test.shape"
   ]
  },
  {
   "cell_type": "code",
   "execution_count": 44,
   "metadata": {
    "scrolled": true
   },
   "outputs": [],
   "source": [
    "mm = preprocessing.MinMaxScaler()\n",
    "X_train = mm.fit_transform(X_train)\n",
    "X_test = mm.fit_transform(X_test)"
   ]
  },
  {
   "cell_type": "markdown",
   "metadata": {},
   "source": [
    "### 機械学習開始"
   ]
  },
  {
   "cell_type": "code",
   "execution_count": 45,
   "metadata": {},
   "outputs": [],
   "source": [
    "# 機械学習のモデルを読み込む\n",
    "from sklearn import tree\n",
    "from sklearn import svm\n",
    "from sklearn import ensemble\n",
    "from sklearn import neighbors\n",
    "from sklearn import linear_model\n",
    "\n",
    "# 機械学習のお役立ちモジュールを読み込む\n",
    "from sklearn.model_selection import cross_val_score\n",
    "from sklearn.model_selection import StratifiedKFold\n",
    "from sklearn import metrics"
   ]
  },
  {
   "cell_type": "code",
   "execution_count": 46,
   "metadata": {},
   "outputs": [],
   "source": [
    "def stratified_cv(X, y, clf_class, shuffle=True, n_folds=10, **kwargs):\n",
    "    stratified_k_fold = StratifiedKFold(n_splits = n_folds, shuffle = shuffle).split(X, y)\n",
    "    y_pred = y.copy()\n",
    "    for ii, jj in stratified_k_fold:\n",
    "        X_train, X_test = X[ii], X[jj]\n",
    "        y_train = y[ii]\n",
    "        clf = clf_class(**kwargs)\n",
    "        clf.fit(X_train, y_train)\n",
    "        y_pred[jj] = clf.predict(X_test)\n",
    "    return y_pred"
   ]
  },
  {
   "cell_type": "markdown",
   "metadata": {},
   "source": [
    "5つの学習モデルで正答率比較　(Dump Classifierはすべての入力に0を返すモデル)"
   ]
  },
  {
   "cell_type": "code",
   "execution_count": 47,
   "metadata": {},
   "outputs": [
    {
     "name": "stdout",
     "output_type": "stream",
     "text": [
      "Passive Aggressive Classifier: 0.720\n",
      "Gradient Boosting Classifier:  0.824\n",
      "Support vector machine(SVM):   0.839\n",
      "Random Forest Classifier:      0.830\n",
      "K Nearest Neighbor Classifier: 0.827\n",
      "Dump Classifier: 0.839\n"
     ]
    }
   ],
   "source": [
    "print('Passive Aggressive Classifier: {:.3f}'.format(metrics.accuracy_score(y_train, stratified_cv(X_train, y_train, linear_model.PassiveAggressiveClassifier))))\n",
    "print('Gradient Boosting Classifier:  {:.3f}'.format(metrics.accuracy_score(y_train, stratified_cv(X_train, y_train, ensemble.GradientBoostingClassifier))))\n",
    "print('Support vector machine(SVM):   {:.3f}'.format(metrics.accuracy_score(y_train, stratified_cv(X_train, y_train, svm.SVC))))\n",
    "print('Random Forest Classifier:      {:.3f}'.format(metrics.accuracy_score(y_train, stratified_cv(X_train, y_train, ensemble.RandomForestClassifier))))\n",
    "print('K Nearest Neighbor Classifier: {:.3f}'.format(metrics.accuracy_score(y_train, stratified_cv(X_train, y_train, neighbors.KNeighborsClassifier))))\n",
    "print('Dump Classifier: {:.3f}'.format(metrics.accuracy_score(y_train, [0 for ii in y_train.tolist()])))"
   ]
  },
  {
   "cell_type": "markdown",
   "metadata": {},
   "source": [
    "### 正答率の高かったモデルが予測時に何を重要視したかを出力"
   ]
  },
  {
   "cell_type": "code",
   "execution_count": 48,
   "metadata": {},
   "outputs": [
    {
     "data": {
      "text/html": [
       "<style>#sk-container-id-1 {color: black;background-color: white;}#sk-container-id-1 pre{padding: 0;}#sk-container-id-1 div.sk-toggleable {background-color: white;}#sk-container-id-1 label.sk-toggleable__label {cursor: pointer;display: block;width: 100%;margin-bottom: 0;padding: 0.3em;box-sizing: border-box;text-align: center;}#sk-container-id-1 label.sk-toggleable__label-arrow:before {content: \"▸\";float: left;margin-right: 0.25em;color: #696969;}#sk-container-id-1 label.sk-toggleable__label-arrow:hover:before {color: black;}#sk-container-id-1 div.sk-estimator:hover label.sk-toggleable__label-arrow:before {color: black;}#sk-container-id-1 div.sk-toggleable__content {max-height: 0;max-width: 0;overflow: hidden;text-align: left;background-color: #f0f8ff;}#sk-container-id-1 div.sk-toggleable__content pre {margin: 0.2em;color: black;border-radius: 0.25em;background-color: #f0f8ff;}#sk-container-id-1 input.sk-toggleable__control:checked~div.sk-toggleable__content {max-height: 200px;max-width: 100%;overflow: auto;}#sk-container-id-1 input.sk-toggleable__control:checked~label.sk-toggleable__label-arrow:before {content: \"▾\";}#sk-container-id-1 div.sk-estimator input.sk-toggleable__control:checked~label.sk-toggleable__label {background-color: #d4ebff;}#sk-container-id-1 div.sk-label input.sk-toggleable__control:checked~label.sk-toggleable__label {background-color: #d4ebff;}#sk-container-id-1 input.sk-hidden--visually {border: 0;clip: rect(1px 1px 1px 1px);clip: rect(1px, 1px, 1px, 1px);height: 1px;margin: -1px;overflow: hidden;padding: 0;position: absolute;width: 1px;}#sk-container-id-1 div.sk-estimator {font-family: monospace;background-color: #f0f8ff;border: 1px dotted black;border-radius: 0.25em;box-sizing: border-box;margin-bottom: 0.5em;}#sk-container-id-1 div.sk-estimator:hover {background-color: #d4ebff;}#sk-container-id-1 div.sk-parallel-item::after {content: \"\";width: 100%;border-bottom: 1px solid gray;flex-grow: 1;}#sk-container-id-1 div.sk-label:hover label.sk-toggleable__label {background-color: #d4ebff;}#sk-container-id-1 div.sk-serial::before {content: \"\";position: absolute;border-left: 1px solid gray;box-sizing: border-box;top: 0;bottom: 0;left: 50%;z-index: 0;}#sk-container-id-1 div.sk-serial {display: flex;flex-direction: column;align-items: center;background-color: white;padding-right: 0.2em;padding-left: 0.2em;position: relative;}#sk-container-id-1 div.sk-item {position: relative;z-index: 1;}#sk-container-id-1 div.sk-parallel {display: flex;align-items: stretch;justify-content: center;background-color: white;position: relative;}#sk-container-id-1 div.sk-item::before, #sk-container-id-1 div.sk-parallel-item::before {content: \"\";position: absolute;border-left: 1px solid gray;box-sizing: border-box;top: 0;bottom: 0;left: 50%;z-index: -1;}#sk-container-id-1 div.sk-parallel-item {display: flex;flex-direction: column;z-index: 1;position: relative;background-color: white;}#sk-container-id-1 div.sk-parallel-item:first-child::after {align-self: flex-end;width: 50%;}#sk-container-id-1 div.sk-parallel-item:last-child::after {align-self: flex-start;width: 50%;}#sk-container-id-1 div.sk-parallel-item:only-child::after {width: 0;}#sk-container-id-1 div.sk-dashed-wrapped {border: 1px dashed gray;margin: 0 0.4em 0.5em 0.4em;box-sizing: border-box;padding-bottom: 0.4em;background-color: white;}#sk-container-id-1 div.sk-label label {font-family: monospace;font-weight: bold;display: inline-block;line-height: 1.2em;}#sk-container-id-1 div.sk-label-container {text-align: center;}#sk-container-id-1 div.sk-container {/* jupyter's `normalize.less` sets `[hidden] { display: none; }` but bootstrap.min.css set `[hidden] { display: none !important; }` so we also need the `!important` here to be able to override the default hidden behavior on the sphinx rendered scikit-learn.org. See: https://github.com/scikit-learn/scikit-learn/issues/21755 */display: inline-block !important;position: relative;}#sk-container-id-1 div.sk-text-repr-fallback {display: none;}</style><div id=\"sk-container-id-1\" class=\"sk-top-container\"><div class=\"sk-text-repr-fallback\"><pre>RandomForestClassifier()</pre><b>In a Jupyter environment, please rerun this cell to show the HTML representation or trust the notebook. <br />On GitHub, the HTML representation is unable to render, please try loading this page with nbviewer.org.</b></div><div class=\"sk-container\" hidden><div class=\"sk-item\"><div class=\"sk-estimator sk-toggleable\"><input class=\"sk-toggleable__control sk-hidden--visually\" id=\"sk-estimator-id-1\" type=\"checkbox\" checked><label for=\"sk-estimator-id-1\" class=\"sk-toggleable__label sk-toggleable__label-arrow\">RandomForestClassifier</label><div class=\"sk-toggleable__content\"><pre>RandomForestClassifier()</pre></div></div></div></div></div>"
      ],
      "text/plain": [
       "RandomForestClassifier()"
      ]
     },
     "execution_count": 48,
     "metadata": {},
     "output_type": "execute_result"
    }
   ],
   "source": [
    "# linear_model.PassiveAggressiveClassifier()\n",
    "# ensemble.GradientBoostingClassifier()\n",
    "# svm.SVC()\n",
    "# ensemble.RandomForestClassifier()\n",
    "# neighbors.KNeighborsClassifier()\n",
    "\n",
    "model = ensemble.RandomForestClassifier()\n",
    "model.fit(X_train, y_train)"
   ]
  },
  {
   "cell_type": "code",
   "execution_count": 49,
   "metadata": {},
   "outputs": [
    {
     "data": {
      "image/png": "[encoded data removed]",
      "text/plain": [
       "<Figure size 800x500 with 1 Axes>"
      ]
     },
     "metadata": {},
     "output_type": "display_data"
    },
    {
     "name": "stdout",
     "output_type": "stream",
     "text": [
      "aptitude_distance, perturbation effect: 12.69%\n",
      "aptitude_course, perturbation effect: 10.66%\n",
      "jockey_rate, perturbation effect: 9.73%\n",
      "med_race_score, perturbation effect: 9.73%\n",
      "jockey_rate, perturbation effect: 8.71%\n",
      "med_race_score, perturbation effect: 8.14%\n",
      "race_count, perturbation effect: 7.54%\n",
      "aptitude_ground, perturbation effect: 7.54%\n",
      "before_race_rank, perturbation effect: 6.88%\n",
      "past_rank_std, perturbation effect: 6.88%\n",
      "before_race_rank, perturbation effect: 6.16%\n",
      "past_rank_std, perturbation effect: 5.33%\n",
      "aptitude_growth, perturbation effect: 0.00%\n"
     ]
    }
   ],
   "source": [
    "func.plot_importance(func.calc_importance(model, X_train), df_races_test_2[0].columns.values)\n",
    "func.print_importance(func.calc_importance(model, X_train), df_races_test_2[0].columns.values)"
   ]
  },
  {
   "cell_type": "markdown",
   "metadata": {},
   "source": [
    "予測結果出力"
   ]
  },
  {
   "cell_type": "code",
   "execution_count": 50,
   "metadata": {},
   "outputs": [
    {
     "name": "stdout",
     "output_type": "stream",
     "text": [
      "[0 1 0 0 0 0 0 0 0 0 0 0 0 0 0 0]\n",
      "1    イクイノックス\n",
      "Name: horse_name, dtype: object\n"
     ]
    }
   ],
   "source": [
    "y_pred = model.predict(X_test)\n",
    "print(y_pred)\n",
    "for i in range(len(y_pred)):\n",
    "    if (y_pred[i]):\n",
    "        print(df_races_2[TEST_NUM].iloc[[i]]['horse_name'])"
   ]
  },
  {
   "cell_type": "markdown",
   "metadata": {},
   "source": [
    "### 今年のレースを予測"
   ]
  },
  {
   "cell_type": "code",
   "execution_count": 51,
   "metadata": {},
   "outputs": [],
   "source": [
    "PRED_RACE_COLUMNS = [\n",
    "    \"frame_number\",\n",
    "    \"horse_number\",\n",
    "    \"mark\",\n",
    "    \"horse_name\",\n",
    "    \"url\",\n",
    "    \"aptitude_course\",\n",
    "    \"aptitude_distance\",\n",
    "    \"aptitude_run\",\n",
    "    \"aptitude_growth\",\n",
    "    \"aptitude_ground\",\n",
    "    \"age\",\n",
    "    \"weight\",\n",
    "    \"jockey\",\n",
    "    \"jockey_id\",\n",
    "    \"trainer\",\n",
    "    \"blank_1\",\n",
    "    \"blank_2\",\n",
    "    \"blank_3\",\n",
    "    \"blank_4\",\n",
    "    \"blank_5\"\n",
    "]"
   ]
  },
  {
   "cell_type": "code",
   "execution_count": 52,
   "metadata": {},
   "outputs": [],
   "source": [
    "df_pred_race = pd.read_csv(CSV_DIR+ RACE + str(int(TRAIN_RACE_ID[0][:4]) + 1) + RACE_NAME + \".csv\", header=None, names = PRED_RACE_COLUMNS, encoding='shift_jis')"
   ]
  },
  {
   "cell_type": "code",
   "execution_count": 53,
   "metadata": {
    "scrolled": true
   },
   "outputs": [
    {
     "data": {
      "text/html": [
       "<div>\n",
       "<style scoped>\n",
       "    .dataframe tbody tr th:only-of-type {\n",
       "        vertical-align: middle;\n",
       "    }\n",
       "\n",
       "    .dataframe tbody tr th {\n",
       "        vertical-align: top;\n",
       "    }\n",
       "\n",
       "    .dataframe thead th {\n",
       "        text-align: right;\n",
       "    }\n",
       "</style>\n",
       "<table border=\"1\" class=\"dataframe\">\n",
       "  <thead>\n",
       "    <tr style=\"text-align: right;\">\n",
       "      <th></th>\n",
       "      <th>frame_number</th>\n",
       "      <th>horse_number</th>\n",
       "      <th>mark</th>\n",
       "      <th>horse_name</th>\n",
       "      <th>url</th>\n",
       "      <th>aptitude_course</th>\n",
       "      <th>aptitude_distance</th>\n",
       "      <th>aptitude_run</th>\n",
       "      <th>aptitude_growth</th>\n",
       "      <th>aptitude_ground</th>\n",
       "      <th>age</th>\n",
       "      <th>weight</th>\n",
       "      <th>jockey</th>\n",
       "      <th>jockey_id</th>\n",
       "      <th>trainer</th>\n",
       "      <th>blank_1</th>\n",
       "      <th>blank_2</th>\n",
       "      <th>blank_3</th>\n",
       "      <th>blank_4</th>\n",
       "      <th>blank_5</th>\n",
       "    </tr>\n",
       "  </thead>\n",
       "  <tbody>\n",
       "    <tr>\n",
       "      <th>0</th>\n",
       "      <td>1</td>\n",
       "      <td>1</td>\n",
       "      <td>--◎◯▲△☆&amp;#10003消</td>\n",
       "      <td>ベラジオオペラ</td>\n",
       "      <td>https://db.netkeiba.com/horse/2020102781</td>\n",
       "      <td>116</td>\n",
       "      <td>116</td>\n",
       "      <td>58</td>\n",
       "      <td>58</td>\n",
       "      <td>58</td>\n",
       "      <td>牡3</td>\n",
       "      <td>57.0</td>\n",
       "      <td>横山和</td>\n",
       "      <td>1140</td>\n",
       "      <td>栗東上村</td>\n",
       "      <td>NaN</td>\n",
       "      <td>---.-</td>\n",
       "      <td>**</td>\n",
       "      <td>NaN</td>\n",
       "      <td>NaN</td>\n",
       "    </tr>\n",
       "    <tr>\n",
       "      <th>1</th>\n",
       "      <td>1</td>\n",
       "      <td>2</td>\n",
       "      <td>--◎◯▲△☆&amp;#10003消</td>\n",
       "      <td>スキルヴィング</td>\n",
       "      <td>https://db.netkeiba.com/horse/2020103722</td>\n",
       "      <td>116</td>\n",
       "      <td>19</td>\n",
       "      <td>1</td>\n",
       "      <td>58</td>\n",
       "      <td>58</td>\n",
       "      <td>牡3</td>\n",
       "      <td>57.0</td>\n",
       "      <td>ルメール</td>\n",
       "      <td>5339</td>\n",
       "      <td>美浦木村</td>\n",
       "      <td>NaN</td>\n",
       "      <td>---.-</td>\n",
       "      <td>**</td>\n",
       "      <td>NaN</td>\n",
       "      <td>NaN</td>\n",
       "    </tr>\n",
       "    <tr>\n",
       "      <th>2</th>\n",
       "      <td>2</td>\n",
       "      <td>3</td>\n",
       "      <td>--◎◯▲△☆&amp;#10003消</td>\n",
       "      <td>ホウオウビスケッツ</td>\n",
       "      <td>https://db.netkeiba.com/horse/2020103941</td>\n",
       "      <td>116</td>\n",
       "      <td>58</td>\n",
       "      <td>1</td>\n",
       "      <td>58</td>\n",
       "      <td>1</td>\n",
       "      <td>牡3</td>\n",
       "      <td>57.0</td>\n",
       "      <td>丸田</td>\n",
       "      <td>1117</td>\n",
       "      <td>美浦奥村武</td>\n",
       "      <td>NaN</td>\n",
       "      <td>---.-</td>\n",
       "      <td>**</td>\n",
       "      <td>NaN</td>\n",
       "      <td>NaN</td>\n",
       "    </tr>\n",
       "    <tr>\n",
       "      <th>3</th>\n",
       "      <td>2</td>\n",
       "      <td>4</td>\n",
       "      <td>--◎◯▲△☆&amp;#10003消</td>\n",
       "      <td>トップナイフ</td>\n",
       "      <td>https://db.netkeiba.com/horse/2020106402</td>\n",
       "      <td>87</td>\n",
       "      <td>96</td>\n",
       "      <td>116</td>\n",
       "      <td>96</td>\n",
       "      <td>58</td>\n",
       "      <td>牡3</td>\n",
       "      <td>57.0</td>\n",
       "      <td>横山典</td>\n",
       "      <td>660</td>\n",
       "      <td>栗東昆</td>\n",
       "      <td>NaN</td>\n",
       "      <td>---.-</td>\n",
       "      <td>**</td>\n",
       "      <td>NaN</td>\n",
       "      <td>NaN</td>\n",
       "    </tr>\n",
       "    <tr>\n",
       "      <th>4</th>\n",
       "      <td>3</td>\n",
       "      <td>5</td>\n",
       "      <td>--◎◯▲△☆&amp;#10003消</td>\n",
       "      <td>ソールオリエンス</td>\n",
       "      <td>https://db.netkeiba.com/horse/2020102899</td>\n",
       "      <td>116</td>\n",
       "      <td>41</td>\n",
       "      <td>18</td>\n",
       "      <td>19</td>\n",
       "      <td>98</td>\n",
       "      <td>牡3</td>\n",
       "      <td>57.0</td>\n",
       "      <td>横山武</td>\n",
       "      <td>1170</td>\n",
       "      <td>美浦手塚</td>\n",
       "      <td>NaN</td>\n",
       "      <td>---.-</td>\n",
       "      <td>**</td>\n",
       "      <td>NaN</td>\n",
       "      <td>NaN</td>\n",
       "    </tr>\n",
       "  </tbody>\n",
       "</table>\n",
       "</div>"
      ],
      "text/plain": [
       "   frame_number  horse_number             mark horse_name  \\\n",
       "0             1             1  --◎◯▲△☆&#10003消    ベラジオオペラ   \n",
       "1             1             2  --◎◯▲△☆&#10003消    スキルヴィング   \n",
       "2             2             3  --◎◯▲△☆&#10003消  ホウオウビスケッツ   \n",
       "3             2             4  --◎◯▲△☆&#10003消     トップナイフ   \n",
       "4             3             5  --◎◯▲△☆&#10003消   ソールオリエンス   \n",
       "\n",
       "                                        url  aptitude_course  \\\n",
       "0  https://db.netkeiba.com/horse/2020102781              116   \n",
       "1  https://db.netkeiba.com/horse/2020103722              116   \n",
       "2  https://db.netkeiba.com/horse/2020103941              116   \n",
       "3  https://db.netkeiba.com/horse/2020106402               87   \n",
       "4  https://db.netkeiba.com/horse/2020102899              116   \n",
       "\n",
       "   aptitude_distance  aptitude_run  aptitude_growth  aptitude_ground age  \\\n",
       "0                116            58               58               58  牡3   \n",
       "1                 19             1               58               58  牡3   \n",
       "2                 58             1               58                1  牡3   \n",
       "3                 96           116               96               58  牡3   \n",
       "4                 41            18               19               98  牡3   \n",
       "\n",
       "   weight jockey  jockey_id trainer  blank_1 blank_2 blank_3  blank_4  blank_5  \n",
       "0    57.0    横山和       1140    栗東上村      NaN   ---.-      **      NaN      NaN  \n",
       "1    57.0   ルメール       5339    美浦木村      NaN   ---.-      **      NaN      NaN  \n",
       "2    57.0     丸田       1117   美浦奥村武      NaN   ---.-      **      NaN      NaN  \n",
       "3    57.0    横山典        660     栗東昆      NaN   ---.-      **      NaN      NaN  \n",
       "4    57.0    横山武       1170    美浦手塚      NaN   ---.-      **      NaN      NaN  "
      ]
     },
     "execution_count": 53,
     "metadata": {},
     "output_type": "execute_result"
    }
   ],
   "source": [
    "num = RACE_CNT\n",
    "df_pred_race.head(5)"
   ]
  },
  {
   "cell_type": "code",
   "execution_count": 54,
   "metadata": {},
   "outputs": [],
   "source": [
    "df_pred_race_2 = df_pred_race.copy()\n",
    "drop_columns = ['trainer', 'owner', 'jockey', 'mark', 'url', 'blank_1', 'blank_2', 'blank_3', 'blank_4', 'blank_5']\n",
    "df_pred_race_2.fillna({'time_score': '**'})\n",
    "df_pred_race_2.dropna(how='all', axis = 1, inplace=True)\n",
    "df_pred_race_2 = df_pred_race_2.drop(columns = drop_columns, errors = 'ignore')\n",
    "df_pred_race_2['horse_data_key'] = df_pred_race_2.apply(load_horse_data, num = num, axis = 1)\n",
    "df_pred_race_2['race_count'] = df_pred_race_2.apply(lambda x: int(db_horses[x['horse_data_key']].shape[0]), axis = 1)\n",
    "df_pred_race_2['jockey_rate'] = df_pred_race_2.apply(add_jockey_info, axis = 1)\n",
    "df_pred_race_2 = feature_creation(df_pred_race_2, -1)"
   ]
  },
  {
   "cell_type": "code",
   "execution_count": 55,
   "metadata": {
    "scrolled": true
   },
   "outputs": [
    {
     "data": {
      "text/html": [
       "<div>\n",
       "<style scoped>\n",
       "    .dataframe tbody tr th:only-of-type {\n",
       "        vertical-align: middle;\n",
       "    }\n",
       "\n",
       "    .dataframe tbody tr th {\n",
       "        vertical-align: top;\n",
       "    }\n",
       "\n",
       "    .dataframe thead th {\n",
       "        text-align: right;\n",
       "    }\n",
       "</style>\n",
       "<table border=\"1\" class=\"dataframe\">\n",
       "  <thead>\n",
       "    <tr style=\"text-align: right;\">\n",
       "      <th></th>\n",
       "      <th>frame_number</th>\n",
       "      <th>horse_number</th>\n",
       "      <th>horse_name</th>\n",
       "      <th>aptitude_course</th>\n",
       "      <th>aptitude_distance</th>\n",
       "      <th>aptitude_run</th>\n",
       "      <th>aptitude_growth</th>\n",
       "      <th>aptitude_ground</th>\n",
       "      <th>age</th>\n",
       "      <th>weight</th>\n",
       "      <th>jockey_id</th>\n",
       "      <th>horse_data_key</th>\n",
       "      <th>race_count</th>\n",
       "      <th>jockey_rate</th>\n",
       "      <th>past_rank_ave</th>\n",
       "      <th>before_race_rank</th>\n",
       "      <th>past_rank_std</th>\n",
       "      <th>med_race_score</th>\n",
       "    </tr>\n",
       "  </thead>\n",
       "  <tbody>\n",
       "    <tr>\n",
       "      <th>0</th>\n",
       "      <td>1</td>\n",
       "      <td>1</td>\n",
       "      <td>ベラジオオペラ</td>\n",
       "      <td>116</td>\n",
       "      <td>116</td>\n",
       "      <td>58</td>\n",
       "      <td>58</td>\n",
       "      <td>58</td>\n",
       "      <td>牡3</td>\n",
       "      <td>57.0</td>\n",
       "      <td>1140</td>\n",
       "      <td>2023ベラジオオペラ</td>\n",
       "      <td>4</td>\n",
       "      <td>0.299</td>\n",
       "      <td>3.250000</td>\n",
       "      <td>1</td>\n",
       "      <td>4.500000</td>\n",
       "      <td>27.083333</td>\n",
       "    </tr>\n",
       "    <tr>\n",
       "      <th>1</th>\n",
       "      <td>1</td>\n",
       "      <td>2</td>\n",
       "      <td>スキルヴィング</td>\n",
       "      <td>116</td>\n",
       "      <td>19</td>\n",
       "      <td>1</td>\n",
       "      <td>58</td>\n",
       "      <td>58</td>\n",
       "      <td>牡3</td>\n",
       "      <td>57.0</td>\n",
       "      <td>5339</td>\n",
       "      <td>2023スキルヴィング</td>\n",
       "      <td>4</td>\n",
       "      <td>0.515</td>\n",
       "      <td>1.250000</td>\n",
       "      <td>2</td>\n",
       "      <td>0.500000</td>\n",
       "      <td>20.357143</td>\n",
       "    </tr>\n",
       "    <tr>\n",
       "      <th>2</th>\n",
       "      <td>2</td>\n",
       "      <td>3</td>\n",
       "      <td>ホウオウビスケッツ</td>\n",
       "      <td>116</td>\n",
       "      <td>58</td>\n",
       "      <td>1</td>\n",
       "      <td>58</td>\n",
       "      <td>1</td>\n",
       "      <td>牡3</td>\n",
       "      <td>57.0</td>\n",
       "      <td>1117</td>\n",
       "      <td>2023ホウオウビスケッツ</td>\n",
       "      <td>4</td>\n",
       "      <td>0.118</td>\n",
       "      <td>5.250000</td>\n",
       "      <td>1</td>\n",
       "      <td>7.847505</td>\n",
       "      <td>20.000000</td>\n",
       "    </tr>\n",
       "    <tr>\n",
       "      <th>3</th>\n",
       "      <td>2</td>\n",
       "      <td>4</td>\n",
       "      <td>トップナイフ</td>\n",
       "      <td>87</td>\n",
       "      <td>96</td>\n",
       "      <td>116</td>\n",
       "      <td>96</td>\n",
       "      <td>58</td>\n",
       "      <td>牡3</td>\n",
       "      <td>57.0</td>\n",
       "      <td>660</td>\n",
       "      <td>2023トップナイフ</td>\n",
       "      <td>9</td>\n",
       "      <td>0.331</td>\n",
       "      <td>3.111111</td>\n",
       "      <td>6</td>\n",
       "      <td>2.147350</td>\n",
       "      <td>18.750000</td>\n",
       "    </tr>\n",
       "    <tr>\n",
       "      <th>4</th>\n",
       "      <td>3</td>\n",
       "      <td>5</td>\n",
       "      <td>ソールオリエンス</td>\n",
       "      <td>116</td>\n",
       "      <td>41</td>\n",
       "      <td>18</td>\n",
       "      <td>19</td>\n",
       "      <td>98</td>\n",
       "      <td>牡3</td>\n",
       "      <td>57.0</td>\n",
       "      <td>1170</td>\n",
       "      <td>2023ソールオリエンス</td>\n",
       "      <td>3</td>\n",
       "      <td>0.356</td>\n",
       "      <td>1.000000</td>\n",
       "      <td>1</td>\n",
       "      <td>0.000000</td>\n",
       "      <td>166.666667</td>\n",
       "    </tr>\n",
       "  </tbody>\n",
       "</table>\n",
       "</div>"
      ],
      "text/plain": [
       "   frame_number  horse_number horse_name  aptitude_course  aptitude_distance  \\\n",
       "0             1             1    ベラジオオペラ              116                116   \n",
       "1             1             2    スキルヴィング              116                 19   \n",
       "2             2             3  ホウオウビスケッツ              116                 58   \n",
       "3             2             4     トップナイフ               87                 96   \n",
       "4             3             5   ソールオリエンス              116                 41   \n",
       "\n",
       "   aptitude_run  aptitude_growth  aptitude_ground age  weight  jockey_id  \\\n",
       "0            58               58               58  牡3    57.0       1140   \n",
       "1             1               58               58  牡3    57.0       5339   \n",
       "2             1               58                1  牡3    57.0       1117   \n",
       "3           116               96               58  牡3    57.0        660   \n",
       "4            18               19               98  牡3    57.0       1170   \n",
       "\n",
       "  horse_data_key  race_count  jockey_rate  past_rank_ave  before_race_rank  \\\n",
       "0    2023ベラジオオペラ           4        0.299       3.250000                 1   \n",
       "1    2023スキルヴィング           4        0.515       1.250000                 2   \n",
       "2  2023ホウオウビスケッツ           4        0.118       5.250000                 1   \n",
       "3     2023トップナイフ           9        0.331       3.111111                 6   \n",
       "4   2023ソールオリエンス           3        0.356       1.000000                 1   \n",
       "\n",
       "   past_rank_std  med_race_score  \n",
       "0       4.500000       27.083333  \n",
       "1       0.500000       20.357143  \n",
       "2       7.847505       20.000000  \n",
       "3       2.147350       18.750000  \n",
       "4       0.000000      166.666667  "
      ]
     },
     "execution_count": 55,
     "metadata": {},
     "output_type": "execute_result"
    }
   ],
   "source": [
    "df_pred_race_2.head(5)"
   ]
  },
  {
   "cell_type": "code",
   "execution_count": 56,
   "metadata": {},
   "outputs": [
    {
     "data": {
      "text/html": [
       "<div>\n",
       "<style scoped>\n",
       "    .dataframe tbody tr th:only-of-type {\n",
       "        vertical-align: middle;\n",
       "    }\n",
       "\n",
       "    .dataframe tbody tr th {\n",
       "        vertical-align: top;\n",
       "    }\n",
       "\n",
       "    .dataframe thead th {\n",
       "        text-align: right;\n",
       "    }\n",
       "</style>\n",
       "<table border=\"1\" class=\"dataframe\">\n",
       "  <thead>\n",
       "    <tr style=\"text-align: right;\">\n",
       "      <th></th>\n",
       "      <th>frame_number</th>\n",
       "      <th>aptitude_course</th>\n",
       "      <th>aptitude_distance</th>\n",
       "      <th>aptitude_run</th>\n",
       "      <th>aptitude_growth</th>\n",
       "      <th>aptitude_ground</th>\n",
       "      <th>weight</th>\n",
       "      <th>race_count</th>\n",
       "      <th>jockey_rate</th>\n",
       "      <th>past_rank_ave</th>\n",
       "      <th>before_race_rank</th>\n",
       "      <th>past_rank_std</th>\n",
       "      <th>med_race_score</th>\n",
       "    </tr>\n",
       "  </thead>\n",
       "  <tbody>\n",
       "    <tr>\n",
       "      <th>0</th>\n",
       "      <td>1</td>\n",
       "      <td>116</td>\n",
       "      <td>116</td>\n",
       "      <td>58</td>\n",
       "      <td>58</td>\n",
       "      <td>58</td>\n",
       "      <td>57.0</td>\n",
       "      <td>4</td>\n",
       "      <td>0.299</td>\n",
       "      <td>3.25</td>\n",
       "      <td>1</td>\n",
       "      <td>4.5</td>\n",
       "      <td>27.083333</td>\n",
       "    </tr>\n",
       "  </tbody>\n",
       "</table>\n",
       "</div>"
      ],
      "text/plain": [
       "   frame_number  aptitude_course  aptitude_distance  aptitude_run  \\\n",
       "0             1              116                116            58   \n",
       "\n",
       "   aptitude_growth  aptitude_ground  weight  race_count  jockey_rate  \\\n",
       "0               58               58    57.0           4        0.299   \n",
       "\n",
       "   past_rank_ave  before_race_rank  past_rank_std  med_race_score  \n",
       "0           3.25                 1            4.5       27.083333  "
      ]
     },
     "execution_count": 56,
     "metadata": {},
     "output_type": "execute_result"
    }
   ],
   "source": [
    "df_pred_race_3 = df_pred_race_2.copy()\n",
    "df_pred_race_3 = df_pred_race_3.drop(columns = [\"horse_name\", \"age\", \"horse_data_key\", \"horse_number\", \"jockey_id\"])\n",
    "df_pred_race_3.head(1)"
   ]
  },
  {
   "cell_type": "code",
   "execution_count": 57,
   "metadata": {},
   "outputs": [
    {
     "name": "stderr",
     "output_type": "stream",
     "text": [
      "C:\\Users\\mano2\\AppData\\Local\\Temp\\ipykernel_28628\\2027925873.py:2: DeprecationWarning: `np.float` is a deprecated alias for the builtin `float`. To silence this warning, use `float` by itself. Doing this will not modify any behavior and is safe. If you specifically wanted the numpy scalar type, use `np.float64` here.\n",
      "Deprecated in NumPy 1.20; for more details and guidance: https://numpy.org/devdocs/release/1.20.0-notes.html#deprecations\n",
      "  x_pred = df_pred_race_3.values.astype(np.float)\n"
     ]
    }
   ],
   "source": [
    "df_pred_race_3.shape\n",
    "x_pred = df_pred_race_3.values.astype(np.float)"
   ]
  },
  {
   "cell_type": "code",
   "execution_count": 58,
   "metadata": {},
   "outputs": [
    {
     "name": "stderr",
     "output_type": "stream",
     "text": [
      "C:\\Users\\mano2\\AppData\\Local\\Temp\\ipykernel_28628\\3859458393.py:1: DeprecationWarning: `np.float` is a deprecated alias for the builtin `float`. To silence this warning, use `float` by itself. Doing this will not modify any behavior and is safe. If you specifically wanted the numpy scalar type, use `np.float64` here.\n",
      "Deprecated in NumPy 1.20; for more details and guidance: https://numpy.org/devdocs/release/1.20.0-notes.html#deprecations\n",
      "  X_all = df_races_all_2.values.astype(np.float)\n"
     ]
    }
   ],
   "source": [
    "X_all = df_races_all_2.values.astype(np.float)"
   ]
  },
  {
   "cell_type": "code",
   "execution_count": 59,
   "metadata": {},
   "outputs": [],
   "source": [
    "X_all = mm.fit_transform(X_all)\n",
    "x_pred = mm.fit_transform(x_pred)"
   ]
  },
  {
   "cell_type": "code",
   "execution_count": 60,
   "metadata": {},
   "outputs": [
    {
     "name": "stdout",
     "output_type": "stream",
     "text": [
      "[7, 90, 0, 0, 294, 3, 1, 0, 0, 1, 18, 224, 0, 101, 8, 1, 1, 11]\n",
      "Counter({'ソールオリエンス': 294, 'タスティエーラ': 224, 'ファントムシーフ': 101, 'スキルヴィング': 90, 'ハーツコンチェルト': 18, 'サトノグランツ': 11, 'ノッキングポイント': 8, 'ベラジオオペラ': 7, 'ショウナンバシット': 3, 'フリームファクシ': 1, 'シャザーン': 1, 'パクスオトマニカ': 1, 'ドゥラエレーデ': 1})\n"
     ]
    }
   ],
   "source": [
    "horse_names = df_pred_race_2['horse_name']\n",
    "models = []\n",
    "models.append(linear_model.PassiveAggressiveClassifier())\n",
    "models.append(ensemble.GradientBoostingClassifier())\n",
    "models.append(svm.SVC())\n",
    "models.append(ensemble.RandomForestClassifier())\n",
    "models.append(neighbors.KNeighborsClassifier())\n",
    "names = []\n",
    "preds = np.zeros(len(horse_names), dtype=np.int64)\n",
    "for _ in range(100):\n",
    "    for i in range(len(models)):\n",
    "        models[i].fit(X_all, y_all)\n",
    "        y_pred = models[i].predict(x_pred)\n",
    "        preds = preds + y_pred\n",
    "        for j in range(len(y_pred)):\n",
    "            if (y_pred[j]):\n",
    "                names.append(horse_names[j])\n",
    "print(preds.tolist())\n",
    "print(collections.Counter(names))"
   ]
  },
  {
   "cell_type": "code",
   "execution_count": null,
   "metadata": {},
   "outputs": [],
   "source": []
  },
  {
   "cell_type": "code",
   "execution_count": null,
   "metadata": {},
   "outputs": [],
   "source": []
  },
  {
   "cell_type": "code",
   "execution_count": null,
   "metadata": {},
   "outputs": [],
   "source": []
  },
  {
   "cell_type": "code",
   "execution_count": null,
   "metadata": {},
   "outputs": [],
   "source": []
  },
  {
   "cell_type": "code",
   "execution_count": null,
   "metadata": {},
   "outputs": [],
   "source": []
  }
 ],
 "metadata": {
  "kernelspec": {
   "display_name": "Python 3 (ipykernel)",
   "language": "python",
   "name": "python3"
  },
  "language_info": {
   "codemirror_mode": {
    "name": "ipython",
    "version": 3
   },
   "file_extension": ".py",
   "mimetype": "text/x-python",
   "name": "python",
   "nbconvert_exporter": "python",
   "pygments_lexer": "ipython3",
   "version": "3.10.9"
  }
 },
 "nbformat": 4,
 "nbformat_minor": 4
}
