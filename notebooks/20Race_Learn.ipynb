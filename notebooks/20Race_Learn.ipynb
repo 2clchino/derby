{
 "cells": [
  {
   "cell_type": "markdown",
   "metadata": {},
   "source": [
    "### モジュールインポート"
   ]
  },
  {
   "cell_type": "code",
   "execution_count": 38,
   "metadata": {},
   "outputs": [],
   "source": [
    "import csv\n",
    "import requests\n",
    "import bs4\n",
    "import re\n",
    "import os\n",
    "import time\n",
    "import numpy as np\n",
    "import pandas as pd\n",
    "import matplotlib.pyplot as plt\n",
    "import seaborn as sns\n",
    "from enum import Enum\n",
    "import derby_func as func\n",
    "import collections\n",
    "from sklearn import preprocessing"
   ]
  },
  {
   "cell_type": "markdown",
   "metadata": {},
   "source": [
    "### 定数宣言"
   ]
  },
  {
   "cell_type": "markdown",
   "metadata": {},
   "source": [
    "RACE_CNT の値で過去何年分のレースを訓練データとするかを選択"
   ]
  },
  {
   "cell_type": "code",
   "execution_count": 39,
   "metadata": {},
   "outputs": [],
   "source": [
    "RACE = \"/race/\"\n",
    "CSV_DIR = \"csv\"\n",
    "RACE_CNT = 21"
   ]
  },
  {
   "cell_type": "markdown",
   "metadata": {},
   "source": [
    "id=xxxx に予想したいレース ID を入力 (有馬記念なら 0133)"
   ]
  },
  {
   "cell_type": "code",
   "execution_count": 42,
   "metadata": {},
   "outputs": [],
   "source": [
    "PRED_RACE = 'id=0002'"
   ]
  },
  {
   "cell_type": "code",
   "execution_count": 43,
   "metadata": {},
   "outputs": [],
   "source": [
    "PAGE = 'https://race.netkeiba.com/special/index.html?' + PRED_RACE\n",
    "URL_RACE = \"https://race.netkeiba.com/race/shutuba.html?race_id=\"\n",
    "TRAIN_RACE_ID = func.get_train_race_id(func.get_text_from_page(PAGE), min_cnt =0, max_cnt = RACE_CNT)\n",
    "PRED_RACE_ID = func.get_pred_race_id(func.get_text_from_page(PAGE))"
   ]
  },
  {
   "cell_type": "code",
   "execution_count": 44,
   "metadata": {},
   "outputs": [],
   "source": [
    "RACE_NAME = func.get_name_from_text(func.get_text_from_page(URL_RACE + PRED_RACE_ID)).replace(' - netkeiba.com', '').split('(')[0]"
   ]
  },
  {
   "cell_type": "code",
   "execution_count": 45,
   "metadata": {},
   "outputs": [],
   "source": [
    "TRAIN_RACE_DATA_PATH = CSV_DIR+ RACE + RACE_NAME + \"/\"\n",
    "TRAIN_HORSE_DATA_PATH = CSV_DIR + \"/horse/\"\n",
    "RACE_DATA_COLUMNS = func.race_data_columns()\n",
    "HORSE_DATA_COLUMNS = func.horse_data_columns()\n",
    "JOCKEY_DATA_COLUMNS = func.jockey_data_columns()\n",
    "RACE_RANK = func.race_rank()"
   ]
  },
  {
   "cell_type": "code",
   "execution_count": 46,
   "metadata": {},
   "outputs": [
    {
     "data": {
      "text/plain": [
       "['202207010111',\n",
       " '202107010111',\n",
       " '202008010111',\n",
       " '201908010111',\n",
       " '201808010111',\n",
       " '201708010111',\n",
       " '201608010111',\n",
       " '201508010111',\n",
       " '201408010111',\n",
       " '201308010111',\n",
       " '201208010111',\n",
       " '201108010111',\n",
       " '201008010111',\n",
       " '200908010211',\n",
       " '200808010111',\n",
       " '200708010111',\n",
       " '200608010111',\n",
       " '200508010111',\n",
       " '200408010111',\n",
       " '200308010111',\n",
       " '200208010111']"
      ]
     },
     "execution_count": 46,
     "metadata": {},
     "output_type": "execute_result"
    }
   ],
   "source": [
    "TRAIN_RACE_ID"
   ]
  },
  {
   "cell_type": "code",
   "execution_count": 47,
   "metadata": {},
   "outputs": [
    {
     "data": {
      "text/plain": [
       "21"
      ]
     },
     "execution_count": 47,
     "metadata": {},
     "output_type": "execute_result"
    }
   ],
   "source": [
    "len(TRAIN_RACE_ID)"
   ]
  },
  {
   "cell_type": "code",
   "execution_count": 48,
   "metadata": {},
   "outputs": [],
   "source": [
    "RACE_CNT = len(TRAIN_RACE_ID)"
   ]
  },
  {
   "cell_type": "markdown",
   "metadata": {},
   "source": [
    "### DataFrame読み込み、前処理"
   ]
  },
  {
   "cell_type": "code",
   "execution_count": 49,
   "metadata": {},
   "outputs": [],
   "source": [
    "df_races = []\n",
    "db_horses = {}\n",
    "for i in range(len(TRAIN_RACE_ID)):\n",
    "    df_races.append(pd.read_csv(TRAIN_RACE_DATA_PATH + str(int(TRAIN_RACE_ID[len(TRAIN_RACE_ID) - 1][:4]) + i) + \".csv\", header=None, names = RACE_DATA_COLUMNS, encoding='shift_jis'))"
   ]
  },
  {
   "cell_type": "code",
   "execution_count": 50,
   "metadata": {},
   "outputs": [
    {
     "data": {
      "text/plain": [
       "21"
      ]
     },
     "execution_count": 50,
     "metadata": {},
     "output_type": "execute_result"
    }
   ],
   "source": [
    "len(df_races)"
   ]
  },
  {
   "cell_type": "code",
   "execution_count": 51,
   "metadata": {},
   "outputs": [],
   "source": [
    "def race_score_define(row):\n",
    "    rank_score = 0\n",
    "    for rank in RACE_RANK:\n",
    "        if (rank.rank in row['race_name']):\n",
    "            rank_score = rank.score\n",
    "    return rank_score"
   ]
  },
  {
   "cell_type": "code",
   "execution_count": 52,
   "metadata": {},
   "outputs": [],
   "source": [
    "def load_horse_data(row, num):\n",
    "    load_path = TRAIN_HORSE_DATA_PATH + str(int(TRAIN_RACE_ID[len(TRAIN_RACE_ID) - 1][:4]) + int(num)) + RACE_NAME + \"/\" + str(row['horse_name']) + \".csv\"\n",
    "    path = str(int(TRAIN_RACE_ID[len(TRAIN_RACE_ID) - 1][:4]) + int(num)) + row['horse_name']\n",
    "    df_tmp = pd.read_csv(load_path, header=None, names = HORSE_DATA_COLUMNS, encoding='shift_jis')\n",
    "    df_tmp = df_tmp.drop(columns=['time_score', \"ground_score\", 'popularity', 'odds', 'R', 'winner', 'reward', \"video\" ,\"coment\", \"coment_2\",])\n",
    "    df_tmp.dropna(how='all', axis = 1, inplace=True)\n",
    "    df_tmp['ground_type'] = df_tmp.apply(lambda x: x['distance'][:1], axis = 1)\n",
    "    df_tmp['distance'] = df_tmp.apply(lambda x: x['distance'][1:], axis = 1)\n",
    "    df_tmp['race_rank_score'] = df_tmp.apply(race_score_define, axis = 1)\n",
    "    df_tmp.dropna(how='any', axis = 0, inplace=True)\n",
    "    db_horses[path] = df_tmp.reset_index()\n",
    "    return path"
   ]
  },
  {
   "cell_type": "code",
   "execution_count": 60,
   "metadata": {},
   "outputs": [],
   "source": [
    "def search_past_races(row, num):\n",
    "    df_horse = db_horses[row['horse_data_key']]\n",
    "    df_horse['race_date_judge'] = df_horse.apply(lambda x: True if str(x['race_id']) == str(TRAIN_RACE_ID[len(TRAIN_RACE_ID) - 1 - num]) else False, axis = 1)\n",
    "    index = df_horse[df_horse['race_date_judge'] == True].index\n",
    "    df_horse = df_horse.iloc[index[0] + 1:]\n",
    "    db_horses[row['horse_data_key']] = df_horse\n",
    "    if (df_horse.shape[0] > 0):\n",
    "        return index[0]\n",
    "    else :\n",
    "        return 0"
   ]
  },
  {
   "cell_type": "code",
   "execution_count": 61,
   "metadata": {},
   "outputs": [],
   "source": [
    "def rank_to_int(df):\n",
    "    df_2 = df.copy()\n",
    "    df_2 = df_2[(df_2['rank'] != \"取\") & (df_2['rank'] != \"中\") & (df_2['rank'] != \"除\") & (df_2['rank'] != \"失\")]\n",
    "    df_2['rank'] = df_2['rank'].apply(lambda x: int(re.sub(r\"\\D\", \"\", str(x))))\n",
    "    return df_2"
   ]
  },
  {
   "cell_type": "code",
   "execution_count": 62,
   "metadata": {},
   "outputs": [],
   "source": [
    "def calc_past_rank_ave(row):\n",
    "    df_horse = db_horses[row['horse_data_key']]\n",
    "    df_horse = rank_to_int(df_horse)\n",
    "    df_horse['race_score'] = df_horse.apply(lambda x: 0 if x['rank'] > 5 else (x['race_rank_score'] * (4 - x['rank']) * 10) / x['head_count'], axis = 1)\n",
    "    mean = df_horse['rank'].mean(axis = 0)\n",
    "    db_horses[row['horse_data_key']] = df_horse\n",
    "    return mean"
   ]
  },
  {
   "cell_type": "code",
   "execution_count": 63,
   "metadata": {},
   "outputs": [],
   "source": [
    "def feature_creation(df_race_tmp, num = 1):\n",
    "    df = df_race_tmp.copy()\n",
    "    df = df[df['race_count'] > 0]\n",
    "    df['past_rank_ave'] = df.apply(calc_past_rank_ave, axis = 1)\n",
    "    df['before_race_rank'] = df.apply(lambda x: int(db_horses[x['horse_data_key']]['rank'][x['race_count'] + num]), axis = 1)\n",
    "    df['past_rank_std'] = df.apply(lambda x: db_horses[x['horse_data_key']]['rank'].std(axis = 0), axis = 1)\n",
    "    df['med_race_score'] = df.apply(lambda x: db_horses[x['horse_data_key']]['race_score'].median(axis = 0), axis = 1)\n",
    "    return df.fillna(0)"
   ]
  },
  {
   "cell_type": "code",
   "execution_count": 97,
   "metadata": {},
   "outputs": [],
   "source": [
    "def add_jockey_info(row):\n",
    "    _id = str(str(row['jockey_id']).zfill(5))\n",
    "    load_path = \"csv/jockey/\" + _id + \".csv\"\n",
    "    df_joc = pd.read_csv(load_path, header=None, names = JOCKEY_DATA_COLUMNS, encoding='shift_jis')\n",
    "    return float(df_joc[df_joc[\"year\"] == str(int(row['horse_data_key'][:4])-1)][\"3-2-1_rate\"])"
   ]
  },
  {
   "cell_type": "code",
   "execution_count": 65,
   "metadata": {
    "scrolled": true
   },
   "outputs": [
    {
     "data": {
      "text/html": [
       "<div>\n",
       "<style scoped>\n",
       "    .dataframe tbody tr th:only-of-type {\n",
       "        vertical-align: middle;\n",
       "    }\n",
       "\n",
       "    .dataframe tbody tr th {\n",
       "        vertical-align: top;\n",
       "    }\n",
       "\n",
       "    .dataframe thead th {\n",
       "        text-align: right;\n",
       "    }\n",
       "</style>\n",
       "<table border=\"1\" class=\"dataframe\">\n",
       "  <thead>\n",
       "    <tr style=\"text-align: right;\">\n",
       "      <th></th>\n",
       "      <th>rank</th>\n",
       "      <th>frame_number</th>\n",
       "      <th>horse_number</th>\n",
       "      <th>horse_name</th>\n",
       "      <th>aptitude_course</th>\n",
       "      <th>aptitude_distance</th>\n",
       "      <th>aptitude_run</th>\n",
       "      <th>aptitude_growth</th>\n",
       "      <th>aptitude_ground</th>\n",
       "      <th>age</th>\n",
       "      <th>...</th>\n",
       "      <th>odds</th>\n",
       "      <th>popularity</th>\n",
       "      <th>horse_weight</th>\n",
       "      <th>horse_data_key</th>\n",
       "      <th>race_count</th>\n",
       "      <th>jockey_rate</th>\n",
       "      <th>past_rank_ave</th>\n",
       "      <th>before_race_rank</th>\n",
       "      <th>past_rank_std</th>\n",
       "      <th>med_race_score</th>\n",
       "    </tr>\n",
       "  </thead>\n",
       "  <tbody>\n",
       "    <tr>\n",
       "      <th>0</th>\n",
       "      <td>1</td>\n",
       "      <td>2</td>\n",
       "      <td>2</td>\n",
       "      <td>ダイタクリーヴァ</td>\n",
       "      <td>103</td>\n",
       "      <td>75</td>\n",
       "      <td>74</td>\n",
       "      <td>69</td>\n",
       "      <td>59</td>\n",
       "      <td>牡5</td>\n",
       "      <td>...</td>\n",
       "      <td>1.7</td>\n",
       "      <td>1</td>\n",
       "      <td>500(+2)</td>\n",
       "      <td>2002ダイタクリーヴァ</td>\n",
       "      <td>3</td>\n",
       "      <td>0.560</td>\n",
       "      <td>2.866667</td>\n",
       "      <td>2</td>\n",
       "      <td>3.226379</td>\n",
       "      <td>76.923077</td>\n",
       "    </tr>\n",
       "    <tr>\n",
       "      <th>1</th>\n",
       "      <td>2</td>\n",
       "      <td>8</td>\n",
       "      <td>14</td>\n",
       "      <td>ゴッドオブチャンス</td>\n",
       "      <td>114</td>\n",
       "      <td>110</td>\n",
       "      <td>95</td>\n",
       "      <td>66</td>\n",
       "      <td>58</td>\n",
       "      <td>牡4</td>\n",
       "      <td>...</td>\n",
       "      <td>8.8</td>\n",
       "      <td>3</td>\n",
       "      <td>516(+2)</td>\n",
       "      <td>2002ゴッドオブチャンス</td>\n",
       "      <td>21</td>\n",
       "      <td>0.360</td>\n",
       "      <td>4.416667</td>\n",
       "      <td>13</td>\n",
       "      <td>4.481443</td>\n",
       "      <td>15.192308</td>\n",
       "    </tr>\n",
       "    <tr>\n",
       "      <th>2</th>\n",
       "      <td>3</td>\n",
       "      <td>3</td>\n",
       "      <td>5</td>\n",
       "      <td>ミレニアムバイオ</td>\n",
       "      <td>106</td>\n",
       "      <td>87</td>\n",
       "      <td>22</td>\n",
       "      <td>42</td>\n",
       "      <td>72</td>\n",
       "      <td>牡4</td>\n",
       "      <td>...</td>\n",
       "      <td>6.7</td>\n",
       "      <td>2</td>\n",
       "      <td>484(+2)</td>\n",
       "      <td>2002ミレニアムバイオ</td>\n",
       "      <td>11</td>\n",
       "      <td>0.269</td>\n",
       "      <td>6.285714</td>\n",
       "      <td>1</td>\n",
       "      <td>6.447591</td>\n",
       "      <td>9.375000</td>\n",
       "    </tr>\n",
       "    <tr>\n",
       "      <th>3</th>\n",
       "      <td>4</td>\n",
       "      <td>5</td>\n",
       "      <td>8</td>\n",
       "      <td>ダービーレグノ</td>\n",
       "      <td>112</td>\n",
       "      <td>58</td>\n",
       "      <td>13</td>\n",
       "      <td>55</td>\n",
       "      <td>80</td>\n",
       "      <td>牡4</td>\n",
       "      <td>...</td>\n",
       "      <td>8.8</td>\n",
       "      <td>4</td>\n",
       "      <td>468(+10)</td>\n",
       "      <td>2002ダービーレグノ</td>\n",
       "      <td>29</td>\n",
       "      <td>0.244</td>\n",
       "      <td>6.461538</td>\n",
       "      <td>6</td>\n",
       "      <td>3.821330</td>\n",
       "      <td>0.000000</td>\n",
       "    </tr>\n",
       "    <tr>\n",
       "      <th>4</th>\n",
       "      <td>5</td>\n",
       "      <td>7</td>\n",
       "      <td>12</td>\n",
       "      <td>コンタクト</td>\n",
       "      <td>75</td>\n",
       "      <td>100</td>\n",
       "      <td>77</td>\n",
       "      <td>51</td>\n",
       "      <td>79</td>\n",
       "      <td>牡6</td>\n",
       "      <td>...</td>\n",
       "      <td>18.2</td>\n",
       "      <td>6</td>\n",
       "      <td>460(+2)</td>\n",
       "      <td>2002コンタクト</td>\n",
       "      <td>5</td>\n",
       "      <td>0.216</td>\n",
       "      <td>5.227273</td>\n",
       "      <td>2</td>\n",
       "      <td>4.720087</td>\n",
       "      <td>3.571429</td>\n",
       "    </tr>\n",
       "  </tbody>\n",
       "</table>\n",
       "<p>5 rows × 22 columns</p>\n",
       "</div>"
      ],
      "text/plain": [
       "   rank  frame_number  horse_number horse_name  aptitude_course  \\\n",
       "0     1             2             2   ダイタクリーヴァ              103   \n",
       "1     2             8            14  ゴッドオブチャンス              114   \n",
       "2     3             3             5   ミレニアムバイオ              106   \n",
       "3     4             5             8    ダービーレグノ              112   \n",
       "4     5             7            12      コンタクト               75   \n",
       "\n",
       "   aptitude_distance  aptitude_run  aptitude_growth  aptitude_ground age  ...  \\\n",
       "0                 75            74               69               59  牡5  ...   \n",
       "1                110            95               66               58  牡4  ...   \n",
       "2                 87            22               42               72  牡4  ...   \n",
       "3                 58            13               55               80  牡4  ...   \n",
       "4                100            77               51               79  牡6  ...   \n",
       "\n",
       "   odds  popularity  horse_weight  horse_data_key race_count jockey_rate  \\\n",
       "0   1.7           1       500(+2)    2002ダイタクリーヴァ          3       0.560   \n",
       "1   8.8           3       516(+2)   2002ゴッドオブチャンス         21       0.360   \n",
       "2   6.7           2       484(+2)    2002ミレニアムバイオ         11       0.269   \n",
       "3   8.8           4      468(+10)     2002ダービーレグノ         29       0.244   \n",
       "4  18.2           6       460(+2)       2002コンタクト          5       0.216   \n",
       "\n",
       "   past_rank_ave  before_race_rank  past_rank_std  med_race_score  \n",
       "0       2.866667                 2       3.226379       76.923077  \n",
       "1       4.416667                13       4.481443       15.192308  \n",
       "2       6.285714                 1       6.447591        9.375000  \n",
       "3       6.461538                 6       3.821330        0.000000  \n",
       "4       5.227273                 2       4.720087        3.571429  \n",
       "\n",
       "[5 rows x 22 columns]"
      ]
     },
     "execution_count": 65,
     "metadata": {},
     "output_type": "execute_result"
    }
   ],
   "source": [
    "df_races_2 = df_races.copy()\n",
    "drop_columns = ['trainer', 'owner', 'jockey', 'reward', 'difference', 'lap_time', 'final_3F', 'time', 'time_score']\n",
    "for i in range(len(TRAIN_RACE_ID)):\n",
    "    df_races_2[i].fillna({'time_score': '**'})\n",
    "    df_races_2[i].dropna(how='all', axis = 1, inplace=True)\n",
    "    df_races_2[i] = rank_to_int(df_races_2[i])\n",
    "    df_races_2[i] = df_races_2[i].drop(columns = drop_columns, errors = 'ignore')\n",
    "    df_races_2[i]['horse_data_key'] = df_races_2[i].apply(load_horse_data, num = i, axis = 1)\n",
    "    df_races_2[i]['race_count'] = df_races_2[i].apply(search_past_races, num = i, axis = 1)\n",
    "    df_races_2[i]['jockey_rate'] = df_races_2[i].apply(add_jockey_info, axis = 1)\n",
    "    df_races_2[i] = feature_creation(df_races_2[i])\n",
    "df_races_2[0].head(5)"
   ]
  },
  {
   "cell_type": "markdown",
   "metadata": {},
   "source": [
    "### レースの特徴表示"
   ]
  },
  {
   "cell_type": "code",
   "execution_count": 66,
   "metadata": {
    "scrolled": true
   },
   "outputs": [
    {
     "data": {
      "text/plain": [
       "326"
      ]
     },
     "execution_count": 66,
     "metadata": {},
     "output_type": "execute_result"
    }
   ],
   "source": [
    "df_all_races = pd.concat(df_races_2)\n",
    "len(df_all_races)"
   ]
  },
  {
   "cell_type": "code",
   "execution_count": 67,
   "metadata": {},
   "outputs": [],
   "source": [
    "df_all_races_rank = []\n",
    "df_all_races_rank.append(df_all_races[df_all_races['rank'] == 1])\n",
    "df_all_races_rank.append(df_all_races[df_all_races['rank'] <= 3])\n",
    "df_all_races_rank.append(df_all_races)"
   ]
  },
  {
   "cell_type": "code",
   "execution_count": 68,
   "metadata": {},
   "outputs": [],
   "source": [
    "def plot_count_columns(column_name, _bins = 20, _range = (0, 20)):\n",
    "    titles = [\"Rank1\", \"InTicket\", \"All\"]\n",
    "    fig = plt.figure(figsize=(10, 10))\n",
    "    for i in range(len(df_all_races_rank)):\n",
    "        plt.subplot(len(df_all_races_rank), 3, i+1)\n",
    "        plt.title(titles[i] + \"_\" + column_name)\n",
    "        plt.hist(df_all_races_rank[i][column_name], bins=_bins, range = _range)\n",
    "        plt.tight_layout()\n",
    "        print(titles[i] + \"：サンプル数\" + str(len(df_all_races_rank[i])))\n",
    "    plt.style.use('default')\n",
    "    plt.savefig(f\"images/{column_name}.png\", bbox_inches='tight')"
   ]
  },
  {
   "cell_type": "markdown",
   "metadata": {},
   "source": [
    "過去20年で1着及び馬券内だった馬の枠番"
   ]
  },
  {
   "cell_type": "code",
   "execution_count": 69,
   "metadata": {
    "scrolled": false
   },
   "outputs": [
    {
     "name": "stdout",
     "output_type": "stream",
     "text": [
      "Rank1：サンプル数21\n",
      "InTicket：サンプル数63\n",
      "All：サンプル数326\n"
     ]
    },
    {
     "data": {
      "image/png": "[encoded data removed]",
      "text/plain": [
       "<Figure size 720x720 with 3 Axes>"
      ]
     },
     "metadata": {
      "needs_background": "light"
     },
     "output_type": "display_data"
    }
   ],
   "source": [
    "plot_count_columns('frame_number', 8, (1, 8))"
   ]
  },
  {
   "cell_type": "markdown",
   "metadata": {},
   "source": [
    "過去20年で1着及び馬券内だった馬の距離適性(高いほど短距離得意)"
   ]
  },
  {
   "cell_type": "code",
   "execution_count": 70,
   "metadata": {},
   "outputs": [
    {
     "name": "stdout",
     "output_type": "stream",
     "text": [
      "Rank1：サンプル数21\n",
      "InTicket：サンプル数63\n",
      "All：サンプル数326\n"
     ]
    },
    {
     "data": {
      "image/png": "[encoded data removed]",
      "text/plain": [
       "<Figure size 1000x1000 with 3 Axes>"
      ]
     },
     "metadata": {},
     "output_type": "display_data"
    }
   ],
   "source": [
    "plot_count_columns(\"aptitude_distance\", _range = (0, 120))"
   ]
  },
  {
   "cell_type": "markdown",
   "metadata": {},
   "source": [
    "過去20年で1着及び馬券内だった馬の脚質適性(高いほど逃げ)"
   ]
  },
  {
   "cell_type": "code",
   "execution_count": 71,
   "metadata": {},
   "outputs": [
    {
     "name": "stdout",
     "output_type": "stream",
     "text": [
      "Rank1：サンプル数21\n",
      "InTicket：サンプル数63\n",
      "All：サンプル数326\n"
     ]
    },
    {
     "data": {
      "image/png": "[encoded data removed]",
      "text/plain": [
       "<Figure size 1000x1000 with 3 Axes>"
      ]
     },
     "metadata": {},
     "output_type": "display_data"
    }
   ],
   "source": [
    "plot_count_columns(\"aptitude_run\", _range = (0, 120))"
   ]
  },
  {
   "cell_type": "markdown",
   "metadata": {},
   "source": [
    "過去20年で1着及び馬券内だった馬の成長適性(高いほど早熟)"
   ]
  },
  {
   "cell_type": "code",
   "execution_count": 72,
   "metadata": {},
   "outputs": [
    {
     "name": "stdout",
     "output_type": "stream",
     "text": [
      "Rank1：サンプル数21\n",
      "InTicket：サンプル数63\n",
      "All：サンプル数326\n"
     ]
    },
    {
     "data": {
      "image/png": "[encoded data removed]",
      "text/plain": [
       "<Figure size 1000x1000 with 3 Axes>"
      ]
     },
     "metadata": {},
     "output_type": "display_data"
    }
   ],
   "source": [
    "plot_count_columns(\"aptitude_growth\", _range = (0, 120))"
   ]
  },
  {
   "cell_type": "markdown",
   "metadata": {},
   "source": [
    "過去20年で1着及び馬券内だった馬の馬場適性(高いほど重馬場得意)"
   ]
  },
  {
   "cell_type": "code",
   "execution_count": 73,
   "metadata": {},
   "outputs": [
    {
     "name": "stdout",
     "output_type": "stream",
     "text": [
      "Rank1：サンプル数21\n",
      "InTicket：サンプル数63\n",
      "All：サンプル数326\n"
     ]
    },
    {
     "data": {
      "image/png": "[encoded data removed]",
      "text/plain": [
       "<Figure size 1000x1000 with 3 Axes>"
      ]
     },
     "metadata": {},
     "output_type": "display_data"
    }
   ],
   "source": [
    "plot_count_columns(\"aptitude_ground\", _range = (0, 120))"
   ]
  },
  {
   "cell_type": "markdown",
   "metadata": {},
   "source": [
    "過去20年で1着及び馬券内だった馬の過去レース順位平均値"
   ]
  },
  {
   "cell_type": "code",
   "execution_count": 74,
   "metadata": {},
   "outputs": [
    {
     "name": "stdout",
     "output_type": "stream",
     "text": [
      "Rank1：サンプル数21\n",
      "InTicket：サンプル数63\n",
      "All：サンプル数326\n"
     ]
    },
    {
     "data": {
      "image/png": "[encoded data removed]",
      "text/plain": [
       "<Figure size 1000x1000 with 3 Axes>"
      ]
     },
     "metadata": {},
     "output_type": "display_data"
    }
   ],
   "source": [
    "plot_count_columns(\"past_rank_ave\", 18,_range = (1, 18))"
   ]
  },
  {
   "cell_type": "markdown",
   "metadata": {},
   "source": [
    "過去20年で1着及び馬券内だった馬の前走着順"
   ]
  },
  {
   "cell_type": "code",
   "execution_count": 75,
   "metadata": {},
   "outputs": [
    {
     "name": "stdout",
     "output_type": "stream",
     "text": [
      "Rank1：サンプル数21\n",
      "InTicket：サンプル数63\n",
      "All：サンプル数326\n"
     ]
    },
    {
     "data": {
      "image/png": "[encoded data removed]",
      "text/plain": [
       "<Figure size 1000x1000 with 3 Axes>"
      ]
     },
     "metadata": {},
     "output_type": "display_data"
    }
   ],
   "source": [
    "plot_count_columns(\"before_race_rank\", 18,_range = (1, 18))"
   ]
  },
  {
   "cell_type": "markdown",
   "metadata": {},
   "source": [
    "過去レースの順位データに(G1)などのレースの格を数値化して計算した平均を算出"
   ]
  },
  {
   "cell_type": "code",
   "execution_count": 76,
   "metadata": {},
   "outputs": [
    {
     "name": "stdout",
     "output_type": "stream",
     "text": [
      "Rank1：サンプル数21\n",
      "InTicket：サンプル数63\n",
      "All：サンプル数326\n"
     ]
    },
    {
     "data": {
      "image/png": "[encoded data removed]",
      "text/plain": [
       "<Figure size 1000x1000 with 3 Axes>"
      ]
     },
     "metadata": {},
     "output_type": "display_data"
    }
   ],
   "source": [
    "plot_count_columns(\"med_race_score\", _range = (0, 200))"
   ]
  },
  {
   "cell_type": "markdown",
   "metadata": {},
   "source": [
    "### 特徴量抽出"
   ]
  },
  {
   "cell_type": "code",
   "execution_count": 77,
   "metadata": {},
   "outputs": [],
   "source": [
    "df_races_train = []\n",
    "df_races_test = []\n",
    "df_races_all = pd.concat(df_races_2)\n",
    "for i in range(len(df_races_2)):\n",
    "    tmp = []\n",
    "    for j in range(len(df_races_2)):\n",
    "        if (i == j):\n",
    "            df_races_test.append(df_races_2[j])\n",
    "        else:\n",
    "            tmp.append(df_races_2[j])\n",
    "    df_races_train.append(pd.concat(tmp))"
   ]
  },
  {
   "cell_type": "code",
   "execution_count": 78,
   "metadata": {},
   "outputs": [],
   "source": [
    "df_races_train_2 = df_races_train.copy()\n",
    "df_races_test_2 = df_races_test.copy()\n",
    "df_races_all_2 = df_races_all.copy()\n",
    "y_trains = []\n",
    "(df_races_all_2, y_all) = func.create_param(df_races_all_2)\n",
    "for i in range(len(df_races_train_2)):\n",
    "    (df_races_train_2[i], df_races_test_2[i], tmp) = func.create_params(df_races_train_2[i], df_races_test_2[i])\n",
    "    y_trains.append(tmp)"
   ]
  },
  {
   "cell_type": "markdown",
   "metadata": {},
   "source": [
    "### 本予想の前に去年のレースを予測してみて正答率を確認する"
   ]
  },
  {
   "cell_type": "code",
   "execution_count": 79,
   "metadata": {},
   "outputs": [],
   "source": [
    "TEST_NUM = 20 # 予想対象レース"
   ]
  },
  {
   "cell_type": "code",
   "execution_count": 80,
   "metadata": {},
   "outputs": [
    {
     "data": {
      "text/html": [
       "<div>\n",
       "<style scoped>\n",
       "    .dataframe tbody tr th:only-of-type {\n",
       "        vertical-align: middle;\n",
       "    }\n",
       "\n",
       "    .dataframe tbody tr th {\n",
       "        vertical-align: top;\n",
       "    }\n",
       "\n",
       "    .dataframe thead th {\n",
       "        text-align: right;\n",
       "    }\n",
       "</style>\n",
       "<table border=\"1\" class=\"dataframe\">\n",
       "  <thead>\n",
       "    <tr style=\"text-align: right;\">\n",
       "      <th></th>\n",
       "      <th>frame_number</th>\n",
       "      <th>aptitude_course</th>\n",
       "      <th>aptitude_distance</th>\n",
       "      <th>aptitude_run</th>\n",
       "      <th>aptitude_growth</th>\n",
       "      <th>aptitude_ground</th>\n",
       "      <th>weight</th>\n",
       "      <th>race_count</th>\n",
       "      <th>jockey_rate</th>\n",
       "      <th>past_rank_ave</th>\n",
       "      <th>before_race_rank</th>\n",
       "      <th>past_rank_std</th>\n",
       "      <th>med_race_score</th>\n",
       "    </tr>\n",
       "  </thead>\n",
       "  <tbody>\n",
       "    <tr>\n",
       "      <th>0</th>\n",
       "      <td>2</td>\n",
       "      <td>103</td>\n",
       "      <td>75</td>\n",
       "      <td>74</td>\n",
       "      <td>69</td>\n",
       "      <td>59</td>\n",
       "      <td>58.5</td>\n",
       "      <td>3</td>\n",
       "      <td>0.56</td>\n",
       "      <td>2.866667</td>\n",
       "      <td>2</td>\n",
       "      <td>3.226379</td>\n",
       "      <td>76.923077</td>\n",
       "    </tr>\n",
       "  </tbody>\n",
       "</table>\n",
       "</div>"
      ],
      "text/plain": [
       "   frame_number  aptitude_course  aptitude_distance  aptitude_run  \\\n",
       "0             2              103                 75            74   \n",
       "\n",
       "   aptitude_growth  aptitude_ground  weight  race_count  jockey_rate  \\\n",
       "0               69               59    58.5           3         0.56   \n",
       "\n",
       "   past_rank_ave  before_race_rank  past_rank_std  med_race_score  \n",
       "0       2.866667                 2       3.226379       76.923077  "
      ]
     },
     "execution_count": 80,
     "metadata": {},
     "output_type": "execute_result"
    }
   ],
   "source": [
    "df_races_test_2[0].head(1)"
   ]
  },
  {
   "cell_type": "code",
   "execution_count": 81,
   "metadata": {},
   "outputs": [],
   "source": [
    "y_train = y_trains[TEST_NUM]"
   ]
  },
  {
   "cell_type": "code",
   "execution_count": 82,
   "metadata": {},
   "outputs": [
    {
     "data": {
      "text/plain": [
       "(311, 13)"
      ]
     },
     "execution_count": 82,
     "metadata": {},
     "output_type": "execute_result"
    }
   ],
   "source": [
    "X_train = df_races_train_2[TEST_NUM].values.astype(np.float)\n",
    "X_train.shape"
   ]
  },
  {
   "cell_type": "code",
   "execution_count": 83,
   "metadata": {},
   "outputs": [
    {
     "data": {
      "text/plain": [
       "(15, 13)"
      ]
     },
     "execution_count": 83,
     "metadata": {},
     "output_type": "execute_result"
    }
   ],
   "source": [
    "X_test = df_races_test_2[TEST_NUM].values.astype(np.float)\n",
    "X_test.shape"
   ]
  },
  {
   "cell_type": "code",
   "execution_count": 84,
   "metadata": {
    "scrolled": true
   },
   "outputs": [],
   "source": [
    "mm = preprocessing.MinMaxScaler()\n",
    "X_train = mm.fit_transform(X_train)\n",
    "X_test = mm.fit_transform(X_test)"
   ]
  },
  {
   "cell_type": "markdown",
   "metadata": {},
   "source": [
    "### 機械学習開始"
   ]
  },
  {
   "cell_type": "code",
   "execution_count": 85,
   "metadata": {},
   "outputs": [],
   "source": [
    "# 機械学習のモデルを読み込む\n",
    "from sklearn import tree\n",
    "from sklearn import svm\n",
    "from sklearn import ensemble\n",
    "from sklearn import neighbors\n",
    "from sklearn import linear_model\n",
    "\n",
    "# 機械学習のお役立ちモジュールを読み込む\n",
    "from sklearn.model_selection import cross_val_score\n",
    "from sklearn.model_selection import StratifiedKFold\n",
    "from sklearn import metrics"
   ]
  },
  {
   "cell_type": "code",
   "execution_count": 86,
   "metadata": {},
   "outputs": [],
   "source": [
    "def stratified_cv(X, y, clf_class, shuffle=True, n_folds=10, **kwargs):\n",
    "    stratified_k_fold = StratifiedKFold(n_splits = n_folds, shuffle = shuffle).split(X, y)\n",
    "    y_pred = y.copy()\n",
    "    for ii, jj in stratified_k_fold:\n",
    "        X_train, X_test = X[ii], X[jj]\n",
    "        y_train = y[ii]\n",
    "        clf = clf_class(**kwargs)\n",
    "        clf.fit(X_train, y_train)\n",
    "        y_pred[jj] = clf.predict(X_test)\n",
    "    return y_pred"
   ]
  },
  {
   "cell_type": "markdown",
   "metadata": {},
   "source": [
    "5つの学習モデルで正答率比較　(Dump Classifierはすべての入力に0を返すモデル)"
   ]
  },
  {
   "cell_type": "code",
   "execution_count": 87,
   "metadata": {},
   "outputs": [
    {
     "name": "stdout",
     "output_type": "stream",
     "text": [
      "Passive Aggressive Classifier: 0.736\n",
      "Gradient Boosting Classifier:  0.791\n",
      "Support vector machine(SVM):   0.807\n",
      "Random Forest Classifier:      0.807\n",
      "K Nearest Neighbor Classifier: 0.804\n",
      "Dump Classifier: 0.807\n"
     ]
    }
   ],
   "source": [
    "print('Passive Aggressive Classifier: {:.3f}'.format(metrics.accuracy_score(y_train, stratified_cv(X_train, y_train, linear_model.PassiveAggressiveClassifier))))\n",
    "print('Gradient Boosting Classifier:  {:.3f}'.format(metrics.accuracy_score(y_train, stratified_cv(X_train, y_train, ensemble.GradientBoostingClassifier))))\n",
    "print('Support vector machine(SVM):   {:.3f}'.format(metrics.accuracy_score(y_train, stratified_cv(X_train, y_train, svm.SVC))))\n",
    "print('Random Forest Classifier:      {:.3f}'.format(metrics.accuracy_score(y_train, stratified_cv(X_train, y_train, ensemble.RandomForestClassifier))))\n",
    "print('K Nearest Neighbor Classifier: {:.3f}'.format(metrics.accuracy_score(y_train, stratified_cv(X_train, y_train, neighbors.KNeighborsClassifier))))\n",
    "print('Dump Classifier: {:.3f}'.format(metrics.accuracy_score(y_train, [0 for ii in y_train.tolist()])))"
   ]
  },
  {
   "cell_type": "markdown",
   "metadata": {},
   "source": [
    "### 正答率の高かったモデルが予測時に何を重要視したかを出力"
   ]
  },
  {
   "cell_type": "code",
   "execution_count": 88,
   "metadata": {},
   "outputs": [
    {
     "data": {
      "text/plain": [
       "RandomForestClassifier()"
      ]
     },
     "execution_count": 88,
     "metadata": {},
     "output_type": "execute_result"
    }
   ],
   "source": [
    "# linear_model.PassiveAggressiveClassifier()\n",
    "# ensemble.GradientBoostingClassifier()\n",
    "# svm.SVC()\n",
    "# ensemble.RandomForestClassifier()\n",
    "# neighbors.KNeighborsClassifier()\n",
    "\n",
    "model = ensemble.RandomForestClassifier()\n",
    "model.fit(X_train, y_train)"
   ]
  },
  {
   "cell_type": "code",
   "execution_count": 89,
   "metadata": {},
   "outputs": [
    {
     "data": {
      "image/png": "[encoded data removed]",
      "text/plain": [
       "<Figure size 800x500 with 1 Axes>"
      ]
     },
     "metadata": {},
     "output_type": "display_data"
    },
    {
     "name": "stdout",
     "output_type": "stream",
     "text": [
      "jockey_rate, perturbation effect: 14.13%\n",
      "aptitude_growth, perturbation effect: 12.97%\n",
      "before_race_rank, perturbation effect: 12.13%\n",
      "frame_number, perturbation effect: 10.25%\n",
      "past_rank_ave, perturbation effect: 8.58%\n",
      "past_rank_std, perturbation effect: 7.25%\n",
      "race_count, perturbation effect: 6.48%\n",
      "aptitude_distance, perturbation effect: 5.61%\n",
      "weight, perturbation effect: 5.61%\n",
      "aptitude_distance, perturbation effect: 4.58%\n",
      "weight, perturbation effect: 4.58%\n",
      "aptitude_course, perturbation effect: 4.58%\n",
      "aptitude_ground, perturbation effect: 3.24%\n"
     ]
    }
   ],
   "source": [
    "func.plot_importance(func.calc_importance(model, X_train), df_races_test_2[0].columns.values)\n",
    "func.print_importance(func.calc_importance(model, X_train), df_races_test_2[0].columns.values)"
   ]
  },
  {
   "cell_type": "markdown",
   "metadata": {},
   "source": [
    "予測結果出力"
   ]
  },
  {
   "cell_type": "code",
   "execution_count": 90,
   "metadata": {},
   "outputs": [
    {
     "name": "stdout",
     "output_type": "stream",
     "text": [
      "[0 0 0 0 0 0 0 0 0 0 0 0 0 0 0]\n"
     ]
    }
   ],
   "source": [
    "y_pred = model.predict(X_test)\n",
    "print(y_pred)\n",
    "for i in range(len(y_pred)):\n",
    "    if (y_pred[i]):\n",
    "        print(df_races_2[TEST_NUM].iloc[[i]]['horse_name'])"
   ]
  },
  {
   "cell_type": "markdown",
   "metadata": {},
   "source": [
    "### 今年のレースを予測"
   ]
  },
  {
   "cell_type": "code",
   "execution_count": 91,
   "metadata": {},
   "outputs": [],
   "source": [
    "PRED_RACE_COLUMNS = [\n",
    "    \"frame_number\",\n",
    "    \"horse_number\",\n",
    "    \"mark\",\n",
    "    \"horse_name\",\n",
    "    \"url\",\n",
    "    \"aptitude_course\",\n",
    "    \"aptitude_distance\",\n",
    "    \"aptitude_run\",\n",
    "    \"aptitude_growth\",\n",
    "    \"aptitude_ground\",\n",
    "    \"age\",\n",
    "    \"weight\",\n",
    "    \"jockey\",\n",
    "    \"jockey_id\",\n",
    "    \"trainer\",\n",
    "    \"blank_1\",\n",
    "    \"blank_2\",\n",
    "    \"blank_3\",\n",
    "    \"blank_4\",\n",
    "    \"blank_5\"\n",
    "]"
   ]
  },
  {
   "cell_type": "code",
   "execution_count": 92,
   "metadata": {},
   "outputs": [],
   "source": [
    "df_pred_race = pd.read_csv(CSV_DIR+ RACE + str(int(TRAIN_RACE_ID[0][:4]) + 1) + RACE_NAME + \".csv\", header=None, names = PRED_RACE_COLUMNS, encoding='shift_jis')"
   ]
  },
  {
   "cell_type": "code",
   "execution_count": 93,
   "metadata": {
    "scrolled": true
   },
   "outputs": [
    {
     "data": {
      "text/html": [
       "<div>\n",
       "<style scoped>\n",
       "    .dataframe tbody tr th:only-of-type {\n",
       "        vertical-align: middle;\n",
       "    }\n",
       "\n",
       "    .dataframe tbody tr th {\n",
       "        vertical-align: top;\n",
       "    }\n",
       "\n",
       "    .dataframe thead th {\n",
       "        text-align: right;\n",
       "    }\n",
       "</style>\n",
       "<table border=\"1\" class=\"dataframe\">\n",
       "  <thead>\n",
       "    <tr style=\"text-align: right;\">\n",
       "      <th></th>\n",
       "      <th>frame_number</th>\n",
       "      <th>horse_number</th>\n",
       "      <th>mark</th>\n",
       "      <th>horse_name</th>\n",
       "      <th>url</th>\n",
       "      <th>aptitude_course</th>\n",
       "      <th>aptitude_distance</th>\n",
       "      <th>aptitude_run</th>\n",
       "      <th>aptitude_growth</th>\n",
       "      <th>aptitude_ground</th>\n",
       "      <th>age</th>\n",
       "      <th>weight</th>\n",
       "      <th>jockey</th>\n",
       "      <th>jockey_id</th>\n",
       "      <th>trainer</th>\n",
       "      <th>blank_1</th>\n",
       "      <th>blank_2</th>\n",
       "      <th>blank_3</th>\n",
       "      <th>blank_4</th>\n",
       "      <th>blank_5</th>\n",
       "    </tr>\n",
       "  </thead>\n",
       "  <tbody>\n",
       "    <tr>\n",
       "      <th>0</th>\n",
       "      <td>1</td>\n",
       "      <td>1</td>\n",
       "      <td>--◎◯▲△☆&amp;#10003消</td>\n",
       "      <td>ベレヌス</td>\n",
       "      <td>https://db.netkeiba.com/horse/2017105269</td>\n",
       "      <td>58</td>\n",
       "      <td>58</td>\n",
       "      <td>116</td>\n",
       "      <td>29</td>\n",
       "      <td>58</td>\n",
       "      <td>牡6</td>\n",
       "      <td>58.0</td>\n",
       "      <td>西村淳</td>\n",
       "      <td>1171</td>\n",
       "      <td>栗東杉山晴</td>\n",
       "      <td>NaN</td>\n",
       "      <td>---.-</td>\n",
       "      <td>**</td>\n",
       "      <td>NaN</td>\n",
       "      <td>NaN</td>\n",
       "    </tr>\n",
       "    <tr>\n",
       "      <th>1</th>\n",
       "      <td>1</td>\n",
       "      <td>2</td>\n",
       "      <td>--◎◯▲△☆&amp;#10003消</td>\n",
       "      <td>プレサージュリフト</td>\n",
       "      <td>https://db.netkeiba.com/horse/2019105226</td>\n",
       "      <td>116</td>\n",
       "      <td>77</td>\n",
       "      <td>1</td>\n",
       "      <td>19</td>\n",
       "      <td>58</td>\n",
       "      <td>牝4</td>\n",
       "      <td>54.0</td>\n",
       "      <td>イーガン</td>\n",
       "      <td>5620</td>\n",
       "      <td>美浦木村</td>\n",
       "      <td>NaN</td>\n",
       "      <td>---.-</td>\n",
       "      <td>**</td>\n",
       "      <td>NaN</td>\n",
       "      <td>NaN</td>\n",
       "    </tr>\n",
       "    <tr>\n",
       "      <th>2</th>\n",
       "      <td>2</td>\n",
       "      <td>3</td>\n",
       "      <td>--◎◯▲△☆&amp;#10003消</td>\n",
       "      <td>ピースワンパラディ</td>\n",
       "      <td>https://db.netkeiba.com/horse/2016103250</td>\n",
       "      <td>116</td>\n",
       "      <td>77</td>\n",
       "      <td>1</td>\n",
       "      <td>38</td>\n",
       "      <td>58</td>\n",
       "      <td>牡7</td>\n",
       "      <td>57.5</td>\n",
       "      <td>松山</td>\n",
       "      <td>1126</td>\n",
       "      <td>美浦大竹</td>\n",
       "      <td>NaN</td>\n",
       "      <td>---.-</td>\n",
       "      <td>**</td>\n",
       "      <td>NaN</td>\n",
       "      <td>NaN</td>\n",
       "    </tr>\n",
       "    <tr>\n",
       "      <th>3</th>\n",
       "      <td>2</td>\n",
       "      <td>4</td>\n",
       "      <td>--◎◯▲△☆&amp;#10003消</td>\n",
       "      <td>アルサトワ</td>\n",
       "      <td>https://db.netkeiba.com/horse/2017106606</td>\n",
       "      <td>58</td>\n",
       "      <td>58</td>\n",
       "      <td>58</td>\n",
       "      <td>58</td>\n",
       "      <td>58</td>\n",
       "      <td>牡6</td>\n",
       "      <td>57.5</td>\n",
       "      <td>幸</td>\n",
       "      <td>732</td>\n",
       "      <td>栗東斉藤崇</td>\n",
       "      <td>NaN</td>\n",
       "      <td>---.-</td>\n",
       "      <td>**</td>\n",
       "      <td>NaN</td>\n",
       "      <td>NaN</td>\n",
       "    </tr>\n",
       "    <tr>\n",
       "      <th>4</th>\n",
       "      <td>3</td>\n",
       "      <td>5</td>\n",
       "      <td>--◎◯▲△☆&amp;#10003消</td>\n",
       "      <td>エアロロノア</td>\n",
       "      <td>https://db.netkeiba.com/horse/2017104685</td>\n",
       "      <td>58</td>\n",
       "      <td>58</td>\n",
       "      <td>58</td>\n",
       "      <td>58</td>\n",
       "      <td>58</td>\n",
       "      <td>牡6</td>\n",
       "      <td>58.0</td>\n",
       "      <td>福永</td>\n",
       "      <td>1014</td>\n",
       "      <td>栗東笹田</td>\n",
       "      <td>NaN</td>\n",
       "      <td>---.-</td>\n",
       "      <td>**</td>\n",
       "      <td>NaN</td>\n",
       "      <td>NaN</td>\n",
       "    </tr>\n",
       "  </tbody>\n",
       "</table>\n",
       "</div>"
      ],
      "text/plain": [
       "   frame_number  horse_number             mark horse_name  \\\n",
       "0             1             1  --◎◯▲△☆&#10003消       ベレヌス   \n",
       "1             1             2  --◎◯▲△☆&#10003消  プレサージュリフト   \n",
       "2             2             3  --◎◯▲△☆&#10003消  ピースワンパラディ   \n",
       "3             2             4  --◎◯▲△☆&#10003消      アルサトワ   \n",
       "4             3             5  --◎◯▲△☆&#10003消     エアロロノア   \n",
       "\n",
       "                                        url  aptitude_course  \\\n",
       "0  https://db.netkeiba.com/horse/2017105269               58   \n",
       "1  https://db.netkeiba.com/horse/2019105226              116   \n",
       "2  https://db.netkeiba.com/horse/2016103250              116   \n",
       "3  https://db.netkeiba.com/horse/2017106606               58   \n",
       "4  https://db.netkeiba.com/horse/2017104685               58   \n",
       "\n",
       "   aptitude_distance  aptitude_run  aptitude_growth  aptitude_ground age  \\\n",
       "0                 58           116               29               58  牡6   \n",
       "1                 77             1               19               58  牝4   \n",
       "2                 77             1               38               58  牡7   \n",
       "3                 58            58               58               58  牡6   \n",
       "4                 58            58               58               58  牡6   \n",
       "\n",
       "   weight jockey  jockey_id trainer  blank_1 blank_2 blank_3  blank_4  blank_5  \n",
       "0    58.0    西村淳       1171   栗東杉山晴      NaN   ---.-      **      NaN      NaN  \n",
       "1    54.0   イーガン       5620    美浦木村      NaN   ---.-      **      NaN      NaN  \n",
       "2    57.5     松山       1126    美浦大竹      NaN   ---.-      **      NaN      NaN  \n",
       "3    57.5      幸        732   栗東斉藤崇      NaN   ---.-      **      NaN      NaN  \n",
       "4    58.0     福永       1014    栗東笹田      NaN   ---.-      **      NaN      NaN  "
      ]
     },
     "execution_count": 93,
     "metadata": {},
     "output_type": "execute_result"
    }
   ],
   "source": [
    "num = RACE_CNT\n",
    "df_pred_race.head(5)"
   ]
  },
  {
   "cell_type": "code",
   "execution_count": 98,
   "metadata": {},
   "outputs": [],
   "source": [
    "df_pred_race_2 = df_pred_race.copy()\n",
    "drop_columns = ['trainer', 'owner', 'jockey', 'mark', 'url', 'blank_1', 'blank_2', 'blank_3', 'blank_4', 'blank_5']\n",
    "df_pred_race_2.fillna({'time_score': '**'})\n",
    "df_pred_race_2.dropna(how='all', axis = 1, inplace=True)\n",
    "df_pred_race_2 = df_pred_race_2.drop(columns = drop_columns, errors = 'ignore')\n",
    "df_pred_race_2['horse_data_key'] = df_pred_race_2.apply(load_horse_data, num = num, axis = 1)\n",
    "df_pred_race_2['race_count'] = df_pred_race_2.apply(lambda x: int(db_horses[x['horse_data_key']].shape[0]), axis = 1)\n",
    "df_pred_race_2['jockey_rate'] = df_pred_race_2.apply(add_jockey_info, axis = 1)\n",
    "df_pred_race_2 = feature_creation(df_pred_race_2, -1)"
   ]
  },
  {
   "cell_type": "code",
   "execution_count": 99,
   "metadata": {
    "scrolled": true
   },
   "outputs": [
    {
     "data": {
      "text/html": [
       "<div>\n",
       "<style scoped>\n",
       "    .dataframe tbody tr th:only-of-type {\n",
       "        vertical-align: middle;\n",
       "    }\n",
       "\n",
       "    .dataframe tbody tr th {\n",
       "        vertical-align: top;\n",
       "    }\n",
       "\n",
       "    .dataframe thead th {\n",
       "        text-align: right;\n",
       "    }\n",
       "</style>\n",
       "<table border=\"1\" class=\"dataframe\">\n",
       "  <thead>\n",
       "    <tr style=\"text-align: right;\">\n",
       "      <th></th>\n",
       "      <th>frame_number</th>\n",
       "      <th>horse_number</th>\n",
       "      <th>horse_name</th>\n",
       "      <th>aptitude_course</th>\n",
       "      <th>aptitude_distance</th>\n",
       "      <th>aptitude_run</th>\n",
       "      <th>aptitude_growth</th>\n",
       "      <th>aptitude_ground</th>\n",
       "      <th>age</th>\n",
       "      <th>weight</th>\n",
       "      <th>jockey_id</th>\n",
       "      <th>horse_data_key</th>\n",
       "      <th>race_count</th>\n",
       "      <th>jockey_rate</th>\n",
       "      <th>past_rank_ave</th>\n",
       "      <th>before_race_rank</th>\n",
       "      <th>past_rank_std</th>\n",
       "      <th>med_race_score</th>\n",
       "    </tr>\n",
       "  </thead>\n",
       "  <tbody>\n",
       "    <tr>\n",
       "      <th>0</th>\n",
       "      <td>1</td>\n",
       "      <td>1</td>\n",
       "      <td>ベレヌス</td>\n",
       "      <td>58</td>\n",
       "      <td>58</td>\n",
       "      <td>116</td>\n",
       "      <td>29</td>\n",
       "      <td>58</td>\n",
       "      <td>牡6</td>\n",
       "      <td>58.0</td>\n",
       "      <td>1171</td>\n",
       "      <td>2023ベレヌス</td>\n",
       "      <td>23</td>\n",
       "      <td>0.297</td>\n",
       "      <td>5.260870</td>\n",
       "      <td>3</td>\n",
       "      <td>3.852005</td>\n",
       "      <td>0.000000</td>\n",
       "    </tr>\n",
       "    <tr>\n",
       "      <th>1</th>\n",
       "      <td>1</td>\n",
       "      <td>2</td>\n",
       "      <td>プレサージュリフト</td>\n",
       "      <td>116</td>\n",
       "      <td>77</td>\n",
       "      <td>1</td>\n",
       "      <td>19</td>\n",
       "      <td>58</td>\n",
       "      <td>牝4</td>\n",
       "      <td>54.0</td>\n",
       "      <td>5620</td>\n",
       "      <td>2023プレサージュリフト</td>\n",
       "      <td>5</td>\n",
       "      <td>0.356</td>\n",
       "      <td>5.400000</td>\n",
       "      <td>1</td>\n",
       "      <td>4.560702</td>\n",
       "      <td>0.000000</td>\n",
       "    </tr>\n",
       "    <tr>\n",
       "      <th>2</th>\n",
       "      <td>2</td>\n",
       "      <td>3</td>\n",
       "      <td>ピースワンパラディ</td>\n",
       "      <td>116</td>\n",
       "      <td>77</td>\n",
       "      <td>1</td>\n",
       "      <td>38</td>\n",
       "      <td>58</td>\n",
       "      <td>牡7</td>\n",
       "      <td>57.5</td>\n",
       "      <td>1126</td>\n",
       "      <td>2023ピースワンパラディ</td>\n",
       "      <td>15</td>\n",
       "      <td>0.338</td>\n",
       "      <td>2.933333</td>\n",
       "      <td>1</td>\n",
       "      <td>2.218966</td>\n",
       "      <td>43.750000</td>\n",
       "    </tr>\n",
       "    <tr>\n",
       "      <th>3</th>\n",
       "      <td>2</td>\n",
       "      <td>4</td>\n",
       "      <td>アルサトワ</td>\n",
       "      <td>58</td>\n",
       "      <td>58</td>\n",
       "      <td>58</td>\n",
       "      <td>58</td>\n",
       "      <td>58</td>\n",
       "      <td>牡6</td>\n",
       "      <td>57.5</td>\n",
       "      <td>732</td>\n",
       "      <td>2023アルサトワ</td>\n",
       "      <td>18</td>\n",
       "      <td>0.215</td>\n",
       "      <td>5.500000</td>\n",
       "      <td>7</td>\n",
       "      <td>4.341997</td>\n",
       "      <td>0.000000</td>\n",
       "    </tr>\n",
       "    <tr>\n",
       "      <th>4</th>\n",
       "      <td>3</td>\n",
       "      <td>5</td>\n",
       "      <td>エアロロノア</td>\n",
       "      <td>58</td>\n",
       "      <td>58</td>\n",
       "      <td>58</td>\n",
       "      <td>58</td>\n",
       "      <td>58</td>\n",
       "      <td>牡6</td>\n",
       "      <td>58.0</td>\n",
       "      <td>1014</td>\n",
       "      <td>2023エアロロノア</td>\n",
       "      <td>20</td>\n",
       "      <td>0.418</td>\n",
       "      <td>3.600000</td>\n",
       "      <td>3</td>\n",
       "      <td>2.233713</td>\n",
       "      <td>3.055556</td>\n",
       "    </tr>\n",
       "  </tbody>\n",
       "</table>\n",
       "</div>"
      ],
      "text/plain": [
       "   frame_number  horse_number horse_name  aptitude_course  aptitude_distance  \\\n",
       "0             1             1       ベレヌス               58                 58   \n",
       "1             1             2  プレサージュリフト              116                 77   \n",
       "2             2             3  ピースワンパラディ              116                 77   \n",
       "3             2             4      アルサトワ               58                 58   \n",
       "4             3             5     エアロロノア               58                 58   \n",
       "\n",
       "   aptitude_run  aptitude_growth  aptitude_ground age  weight  jockey_id  \\\n",
       "0           116               29               58  牡6    58.0       1171   \n",
       "1             1               19               58  牝4    54.0       5620   \n",
       "2             1               38               58  牡7    57.5       1126   \n",
       "3            58               58               58  牡6    57.5        732   \n",
       "4            58               58               58  牡6    58.0       1014   \n",
       "\n",
       "  horse_data_key  race_count  jockey_rate  past_rank_ave  before_race_rank  \\\n",
       "0       2023ベレヌス          23        0.297       5.260870                 3   \n",
       "1  2023プレサージュリフト           5        0.356       5.400000                 1   \n",
       "2  2023ピースワンパラディ          15        0.338       2.933333                 1   \n",
       "3      2023アルサトワ          18        0.215       5.500000                 7   \n",
       "4     2023エアロロノア          20        0.418       3.600000                 3   \n",
       "\n",
       "   past_rank_std  med_race_score  \n",
       "0       3.852005        0.000000  \n",
       "1       4.560702        0.000000  \n",
       "2       2.218966       43.750000  \n",
       "3       4.341997        0.000000  \n",
       "4       2.233713        3.055556  "
      ]
     },
     "execution_count": 99,
     "metadata": {},
     "output_type": "execute_result"
    }
   ],
   "source": [
    "df_pred_race_2.head(5)"
   ]
  },
  {
   "cell_type": "code",
   "execution_count": 100,
   "metadata": {},
   "outputs": [
    {
     "data": {
      "text/html": [
       "<div>\n",
       "<style scoped>\n",
       "    .dataframe tbody tr th:only-of-type {\n",
       "        vertical-align: middle;\n",
       "    }\n",
       "\n",
       "    .dataframe tbody tr th {\n",
       "        vertical-align: top;\n",
       "    }\n",
       "\n",
       "    .dataframe thead th {\n",
       "        text-align: right;\n",
       "    }\n",
       "</style>\n",
       "<table border=\"1\" class=\"dataframe\">\n",
       "  <thead>\n",
       "    <tr style=\"text-align: right;\">\n",
       "      <th></th>\n",
       "      <th>frame_number</th>\n",
       "      <th>aptitude_course</th>\n",
       "      <th>aptitude_distance</th>\n",
       "      <th>aptitude_run</th>\n",
       "      <th>aptitude_growth</th>\n",
       "      <th>aptitude_ground</th>\n",
       "      <th>weight</th>\n",
       "      <th>race_count</th>\n",
       "      <th>jockey_rate</th>\n",
       "      <th>past_rank_ave</th>\n",
       "      <th>before_race_rank</th>\n",
       "      <th>past_rank_std</th>\n",
       "      <th>med_race_score</th>\n",
       "    </tr>\n",
       "  </thead>\n",
       "  <tbody>\n",
       "    <tr>\n",
       "      <th>0</th>\n",
       "      <td>1</td>\n",
       "      <td>58</td>\n",
       "      <td>58</td>\n",
       "      <td>116</td>\n",
       "      <td>29</td>\n",
       "      <td>58</td>\n",
       "      <td>58.0</td>\n",
       "      <td>23</td>\n",
       "      <td>0.297</td>\n",
       "      <td>5.26087</td>\n",
       "      <td>3</td>\n",
       "      <td>3.852005</td>\n",
       "      <td>0.0</td>\n",
       "    </tr>\n",
       "  </tbody>\n",
       "</table>\n",
       "</div>"
      ],
      "text/plain": [
       "   frame_number  aptitude_course  aptitude_distance  aptitude_run  \\\n",
       "0             1               58                 58           116   \n",
       "\n",
       "   aptitude_growth  aptitude_ground  weight  race_count  jockey_rate  \\\n",
       "0               29               58    58.0          23        0.297   \n",
       "\n",
       "   past_rank_ave  before_race_rank  past_rank_std  med_race_score  \n",
       "0        5.26087                 3       3.852005             0.0  "
      ]
     },
     "execution_count": 100,
     "metadata": {},
     "output_type": "execute_result"
    }
   ],
   "source": [
    "df_pred_race_3 = df_pred_race_2.copy()\n",
    "df_pred_race_3 = df_pred_race_3.drop(columns = [\"horse_name\", \"age\", \"horse_data_key\", \"horse_number\", \"jockey_id\"])\n",
    "df_pred_race_3.head(1)"
   ]
  },
  {
   "cell_type": "code",
   "execution_count": 101,
   "metadata": {},
   "outputs": [],
   "source": [
    "df_pred_race_3.shape\n",
    "x_pred = df_pred_race_3.values.astype(np.float)"
   ]
  },
  {
   "cell_type": "code",
   "execution_count": 102,
   "metadata": {},
   "outputs": [],
   "source": [
    "X_all = df_races_all_2.values.astype(np.float)"
   ]
  },
  {
   "cell_type": "code",
   "execution_count": 103,
   "metadata": {},
   "outputs": [],
   "source": [
    "X_all = mm.fit_transform(X_all)\n",
    "x_pred = mm.fit_transform(x_pred)"
   ]
  },
  {
   "cell_type": "code",
   "execution_count": 104,
   "metadata": {},
   "outputs": [
    {
     "name": "stdout",
     "output_type": "stream",
     "text": [
      "[33, 238, 396, 0, 78, 3, 261, 1, 70, 2, 244, 15, 19, 0, 2, 6]\n",
      "Counter({'ピースワンパラディ': 396, 'イルーシヴパンサー': 261, 'エントシャイデン': 244, 'プレサージュリフト': 238, 'エアロロノア': 78, 'ダイワキャグニー': 70, 'ベレヌス': 33, 'オニャンコポン': 19, 'シュリ': 15, 'ミッキーブリランテ': 6, 'タイムトゥヘヴン': 3, 'マテンロウオリオン': 2, 'シャーレイポピー': 2, 'ヴィクティファルス': 1})\n"
     ]
    }
   ],
   "source": [
    "horse_names = df_pred_race_2['horse_name']\n",
    "models = []\n",
    "models.append(linear_model.PassiveAggressiveClassifier())\n",
    "models.append(ensemble.GradientBoostingClassifier())\n",
    "models.append(svm.SVC())\n",
    "models.append(ensemble.RandomForestClassifier())\n",
    "models.append(neighbors.KNeighborsClassifier())\n",
    "names = []\n",
    "preds = np.zeros(len(horse_names), dtype=np.int64)\n",
    "for _ in range(100):\n",
    "    for i in range(len(models)):\n",
    "        models[i].fit(X_all, y_all)\n",
    "        y_pred = models[i].predict(x_pred)\n",
    "        preds = preds + y_pred\n",
    "        for j in range(len(y_pred)):\n",
    "            if (y_pred[j]):\n",
    "                names.append(horse_names[j])\n",
    "print(preds.tolist())\n",
    "print(collections.Counter(names))"
   ]
  },
  {
   "cell_type": "code",
   "execution_count": null,
   "metadata": {},
   "outputs": [],
   "source": []
  },
  {
   "cell_type": "code",
   "execution_count": null,
   "metadata": {},
   "outputs": [],
   "source": []
  },
  {
   "cell_type": "code",
   "execution_count": null,
   "metadata": {},
   "outputs": [],
   "source": []
  }
 ],
 "metadata": {
  "kernelspec": {
   "display_name": "Python 3",
   "language": "python",
   "name": "python3"
  },
  "language_info": {
   "codemirror_mode": {
    "name": "ipython",
    "version": 3
   },
   "file_extension": ".py",
   "mimetype": "text/x-python",
   "name": "python",
   "nbconvert_exporter": "python",
   "pygments_lexer": "ipython3",
   "version": "3.8.5"
  }
 },
 "nbformat": 4,
 "nbformat_minor": 4
}
