{
 "cells": [
  {
   "cell_type": "markdown",
   "metadata": {},
   "source": [
    "### モジュールインポート"
   ]
  },
  {
   "cell_type": "code",
   "execution_count": 1,
   "metadata": {},
   "outputs": [],
   "source": [
    "import csv\n",
    "import requests\n",
    "import bs4\n",
    "import re\n",
    "import os\n",
    "import time\n",
    "import numpy as np\n",
    "import pandas as pd\n",
    "import matplotlib.pyplot as plt\n",
    "import seaborn as sns\n",
    "from enum import Enum\n",
    "import derby_func as func\n",
    "import collections\n",
    "from sklearn import preprocessing"
   ]
  },
  {
   "cell_type": "markdown",
   "metadata": {},
   "source": [
    "### 定数宣言"
   ]
  },
  {
   "cell_type": "code",
   "execution_count": 2,
   "metadata": {},
   "outputs": [],
   "source": [
    "RACE_NAME = \"ホープフルステークス\"\n",
    "RACE_NAME_2 = \"ホープフルステークス\"\n",
    "RACE = \"/race/\"\n",
    "CSV_DIR = \"csv\"\n",
    "URL_BASE = \"https://db.netkeiba.com\"\n",
    "URL_RACE = \"https://race.netkeiba.com/race/shutuba.html?race_id=\"\n",
    "RACE_CNT = 21\n",
    "\n",
    "RACE_TABLE_NAME = \"race_table_01 nk_tb_common\""
   ]
  },
  {
   "cell_type": "code",
   "execution_count": 3,
   "metadata": {},
   "outputs": [],
   "source": [
    "TRAIN_RACE_DATA_PATH = CSV_DIR+ RACE + RACE_NAME + \"/\"\n",
    "TRAIN_HORSE_DATA_PATH = CSV_DIR + \"/horse/\"\n",
    "# min_cnt = 1で2021のレースは含まない, max_cnt = nとすることで過去のnレースをトレインデータにする\n",
    "TRAIN_RACE_ID = func.get_train_race_id(func.get_text_from_page('https://race.netkeiba.com/special/index.html?id=0132'), min_cnt =0, max_cnt = RACE_CNT)\n",
    "RACE_DATA_COLUMNS = func.race_data_columns()\n",
    "HORSE_DATA_COLUMNS = func.horse_data_columns()\n",
    "JOCKEY_DATA_COLUMNS = func.jockey_data_columns()\n",
    "RACE_RANK = func.race_rank()"
   ]
  },
  {
   "cell_type": "code",
   "execution_count": 4,
   "metadata": {},
   "outputs": [
    {
     "data": {
      "text/plain": [
       "['202106050911',\n",
       " '202006050711',\n",
       " '201906050911',\n",
       " '201806050911',\n",
       " '201706050911',\n",
       " '201606050909',\n",
       " '201506050809',\n",
       " '201406040809',\n",
       " '201309050711',\n",
       " '201209050711',\n",
       " '201109060711',\n",
       " '201009050711',\n",
       " '200909050711',\n",
       " '200809050711',\n",
       " '200709050711',\n",
       " '200609030711',\n",
       " '200509050711',\n",
       " '200409050711',\n",
       " '200309050711',\n",
       " '200209050711',\n",
       " '200109050711']"
      ]
     },
     "execution_count": 4,
     "metadata": {},
     "output_type": "execute_result"
    }
   ],
   "source": [
    "TRAIN_RACE_ID"
   ]
  },
  {
   "cell_type": "code",
   "execution_count": 5,
   "metadata": {},
   "outputs": [
    {
     "data": {
      "text/plain": [
       "21"
      ]
     },
     "execution_count": 5,
     "metadata": {},
     "output_type": "execute_result"
    }
   ],
   "source": [
    "len(TRAIN_RACE_ID)"
   ]
  },
  {
   "cell_type": "markdown",
   "metadata": {},
   "source": [
    "### DataFrame読み込み、前処理"
   ]
  },
  {
   "cell_type": "code",
   "execution_count": 6,
   "metadata": {},
   "outputs": [],
   "source": [
    "df_races = []\n",
    "db_horses = {}\n",
    "for i in range(len(TRAIN_RACE_ID)):\n",
    "    df_races.append(pd.read_csv(TRAIN_RACE_DATA_PATH + str(int(TRAIN_RACE_ID[len(TRAIN_RACE_ID) - 1][:4]) + i) + \".csv\", header=None, names = RACE_DATA_COLUMNS, encoding='shift_jis'))"
   ]
  },
  {
   "cell_type": "code",
   "execution_count": 7,
   "metadata": {},
   "outputs": [
    {
     "data": {
      "text/plain": [
       "21"
      ]
     },
     "execution_count": 7,
     "metadata": {},
     "output_type": "execute_result"
    }
   ],
   "source": [
    "len(df_races)"
   ]
  },
  {
   "cell_type": "code",
   "execution_count": 8,
   "metadata": {},
   "outputs": [],
   "source": [
    "def race_score_define(row):\n",
    "    rank_score = 0\n",
    "    for rank in RACE_RANK:\n",
    "        if (rank.rank in row['race_name']):\n",
    "            rank_score = rank.score\n",
    "    return rank_score"
   ]
  },
  {
   "cell_type": "code",
   "execution_count": 9,
   "metadata": {},
   "outputs": [],
   "source": [
    "def load_horse_data(row, num):\n",
    "    load_path = TRAIN_HORSE_DATA_PATH + str(int(TRAIN_RACE_ID[len(TRAIN_RACE_ID) - 1][:4]) + int(num)) + RACE_NAME + \"/\" + str(row['horse_name']) + \".csv\"\n",
    "    path = str(int(TRAIN_RACE_ID[len(TRAIN_RACE_ID) - 1][:4]) + int(num)) + row['horse_name']\n",
    "    df_tmp = pd.read_csv(load_path, header=None, names = HORSE_DATA_COLUMNS, encoding='shift_jis')\n",
    "    df_tmp = df_tmp.drop(columns=['time_score', \"ground_score\", 'popularity', 'odds', 'R', 'winner', 'reward', \"video\" ,\"coment\", \"coment_2\",])\n",
    "    df_tmp.dropna(how='all', axis = 1, inplace=True)\n",
    "    df_tmp['ground_type'] = df_tmp.apply(lambda x: x['distance'][:1], axis = 1)\n",
    "    df_tmp['distance'] = df_tmp.apply(lambda x: x['distance'][1:], axis = 1)\n",
    "    df_tmp['race_rank_score'] = df_tmp.apply(race_score_define, axis = 1)\n",
    "    df_tmp.dropna(how='any', axis = 0, inplace=True)\n",
    "    db_horses[path] = df_tmp.reset_index()\n",
    "    return path"
   ]
  },
  {
   "cell_type": "code",
   "execution_count": 10,
   "metadata": {},
   "outputs": [],
   "source": [
    "def serch_past_races(row, num):\n",
    "    df_horse = db_horses[row['horse_data_key']]\n",
    "    df_horse['race_date_judge'] = df_horse.apply(lambda x: True if str(x['race_id']) == str(TRAIN_RACE_ID[len(TRAIN_RACE_ID) - 1 - num]) else False, axis = 1)\n",
    "    index = df_horse[df_horse['race_date_judge'] == True].index\n",
    "    df_horse = df_horse.iloc[index[0] + 1:]\n",
    "    db_horses[row['horse_data_key']] = df_horse\n",
    "    if (df_horse.shape[0] > 0):\n",
    "        return index[0]\n",
    "    else :\n",
    "        return 0"
   ]
  },
  {
   "cell_type": "code",
   "execution_count": 11,
   "metadata": {},
   "outputs": [],
   "source": [
    "def rank_to_int(df):\n",
    "    df_2 = df.copy()\n",
    "    df_2 = df_2[(df_2['rank'] != \"取\") & (df_2['rank'] != \"中\") & (df_2['rank'] != \"除\") & (df_2['rank'] != \"失\")]\n",
    "    df_2['rank'] = df_2['rank'].apply(lambda x: int(re.sub(r\"\\D\", \"\", str(x))))\n",
    "    return df_2"
   ]
  },
  {
   "cell_type": "code",
   "execution_count": 12,
   "metadata": {},
   "outputs": [],
   "source": [
    "def calc_past_rank_ave(row):\n",
    "    df_horse = db_horses[row['horse_data_key']]\n",
    "    df_horse = rank_to_int(df_horse)\n",
    "    df_horse['race_score'] = df_horse.apply(lambda x: 0 if x['rank'] > 5 else (x['race_rank_score'] * (4 - x['rank']) * 10) / x['head_count'], axis = 1)\n",
    "    mean = df_horse['rank'].mean(axis = 0)\n",
    "    db_horses[row['horse_data_key']] = df_horse\n",
    "    return mean"
   ]
  },
  {
   "cell_type": "code",
   "execution_count": 13,
   "metadata": {},
   "outputs": [],
   "source": [
    "def feature_creation(df_race_tmp, num = 1):\n",
    "    df = df_race_tmp.copy()\n",
    "    df = df[df['race_count'] > 0]\n",
    "    df['past_rank_ave'] = df.apply(calc_past_rank_ave, axis = 1)\n",
    "    df['before_race_rank'] = df.apply(lambda x: int(db_horses[x['horse_data_key']]['rank'][x['race_count'] + num]), axis = 1)\n",
    "    df['past_rank_std'] = df.apply(lambda x: db_horses[x['horse_data_key']]['rank'].std(axis = 0), axis = 1)\n",
    "    df['ave_race_score'] = df.apply(lambda x: db_horses[x['horse_data_key']]['race_score'].median(axis = 0), axis = 1)\n",
    "    return df.fillna(0)"
   ]
  },
  {
   "cell_type": "code",
   "execution_count": 14,
   "metadata": {},
   "outputs": [],
   "source": [
    "def add_jockey_info(row):\n",
    "    _id = str(str(row['jockey_id']).zfill(5))\n",
    "    load_path = \"csv/jockey/\" + _id + \".csv\"\n",
    "    df_joc = pd.read_csv(load_path, header=None, names = JOCKEY_DATA_COLUMNS, encoding='shift_jis')\n",
    "    return float(df_joc[df_joc[\"year\"] == row['horse_data_key'][:4]][\"3-2-1_rate\"])"
   ]
  },
  {
   "cell_type": "code",
   "execution_count": 15,
   "metadata": {
    "scrolled": true
   },
   "outputs": [
    {
     "name": "stderr",
     "output_type": "stream",
     "text": [
      "/Users/shun/opt/anaconda3/lib/python3.7/site-packages/pandas/core/ops/array_ops.py:253: FutureWarning: elementwise comparison failed; returning scalar instead, but in the future will perform elementwise comparison\n",
      "  res_values = method(rvalues)\n"
     ]
    },
    {
     "data": {
      "text/html": [
       "<div>\n",
       "<style scoped>\n",
       "    .dataframe tbody tr th:only-of-type {\n",
       "        vertical-align: middle;\n",
       "    }\n",
       "\n",
       "    .dataframe tbody tr th {\n",
       "        vertical-align: top;\n",
       "    }\n",
       "\n",
       "    .dataframe thead th {\n",
       "        text-align: right;\n",
       "    }\n",
       "</style>\n",
       "<table border=\"1\" class=\"dataframe\">\n",
       "  <thead>\n",
       "    <tr style=\"text-align: right;\">\n",
       "      <th></th>\n",
       "      <th>rank</th>\n",
       "      <th>frame_number</th>\n",
       "      <th>horse_number</th>\n",
       "      <th>horse_name</th>\n",
       "      <th>aptitude_course</th>\n",
       "      <th>aptitude_distance</th>\n",
       "      <th>aptitude_run</th>\n",
       "      <th>aptitude_growth</th>\n",
       "      <th>aptitude_ground</th>\n",
       "      <th>age</th>\n",
       "      <th>...</th>\n",
       "      <th>odds</th>\n",
       "      <th>popularity</th>\n",
       "      <th>horse_weight</th>\n",
       "      <th>horse_data_key</th>\n",
       "      <th>race_count</th>\n",
       "      <th>jockey_rate</th>\n",
       "      <th>past_rank_ave</th>\n",
       "      <th>before_race_rank</th>\n",
       "      <th>past_rank_std</th>\n",
       "      <th>ave_race_score</th>\n",
       "    </tr>\n",
       "  </thead>\n",
       "  <tbody>\n",
       "    <tr>\n",
       "      <th>0</th>\n",
       "      <td>1</td>\n",
       "      <td>3</td>\n",
       "      <td>5</td>\n",
       "      <td>メガスターダム</td>\n",
       "      <td>111</td>\n",
       "      <td>41</td>\n",
       "      <td>94</td>\n",
       "      <td>52</td>\n",
       "      <td>61</td>\n",
       "      <td>牡2</td>\n",
       "      <td>...</td>\n",
       "      <td>50.3</td>\n",
       "      <td>6</td>\n",
       "      <td>488(0)</td>\n",
       "      <td>2001メガスターダム</td>\n",
       "      <td>13</td>\n",
       "      <td>0.217</td>\n",
       "      <td>3.000000</td>\n",
       "      <td>2</td>\n",
       "      <td>1.732051</td>\n",
       "      <td>6.250000</td>\n",
       "    </tr>\n",
       "    <tr>\n",
       "      <th>1</th>\n",
       "      <td>2</td>\n",
       "      <td>1</td>\n",
       "      <td>2</td>\n",
       "      <td>マチカネアカツキ</td>\n",
       "      <td>108</td>\n",
       "      <td>60</td>\n",
       "      <td>100</td>\n",
       "      <td>72</td>\n",
       "      <td>64</td>\n",
       "      <td>牡2</td>\n",
       "      <td>...</td>\n",
       "      <td>9.5</td>\n",
       "      <td>4</td>\n",
       "      <td>510(+4)</td>\n",
       "      <td>2001マチカネアカツキ</td>\n",
       "      <td>6</td>\n",
       "      <td>0.412</td>\n",
       "      <td>1.666667</td>\n",
       "      <td>2</td>\n",
       "      <td>0.516398</td>\n",
       "      <td>61.111111</td>\n",
       "    </tr>\n",
       "    <tr>\n",
       "      <th>2</th>\n",
       "      <td>3</td>\n",
       "      <td>2</td>\n",
       "      <td>4</td>\n",
       "      <td>アドマイヤマックス</td>\n",
       "      <td>110</td>\n",
       "      <td>99</td>\n",
       "      <td>18</td>\n",
       "      <td>53</td>\n",
       "      <td>44</td>\n",
       "      <td>牡2</td>\n",
       "      <td>...</td>\n",
       "      <td>1.4</td>\n",
       "      <td>1</td>\n",
       "      <td>454(+4)</td>\n",
       "      <td>2001アドマイヤマックス</td>\n",
       "      <td>18</td>\n",
       "      <td>0.291</td>\n",
       "      <td>1.000000</td>\n",
       "      <td>1</td>\n",
       "      <td>0.000000</td>\n",
       "      <td>51.041667</td>\n",
       "    </tr>\n",
       "    <tr>\n",
       "      <th>3</th>\n",
       "      <td>4</td>\n",
       "      <td>3</td>\n",
       "      <td>6</td>\n",
       "      <td>ビワワールド</td>\n",
       "      <td>96</td>\n",
       "      <td>52</td>\n",
       "      <td>88</td>\n",
       "      <td>69</td>\n",
       "      <td>69</td>\n",
       "      <td>牡2</td>\n",
       "      <td>...</td>\n",
       "      <td>8.4</td>\n",
       "      <td>3</td>\n",
       "      <td>438(-6)</td>\n",
       "      <td>2001ビワワールド</td>\n",
       "      <td>20</td>\n",
       "      <td>0.322</td>\n",
       "      <td>2.000000</td>\n",
       "      <td>2</td>\n",
       "      <td>1.000000</td>\n",
       "      <td>13.636364</td>\n",
       "    </tr>\n",
       "    <tr>\n",
       "      <th>4</th>\n",
       "      <td>5</td>\n",
       "      <td>2</td>\n",
       "      <td>3</td>\n",
       "      <td>モビーディック</td>\n",
       "      <td>113</td>\n",
       "      <td>60</td>\n",
       "      <td>71</td>\n",
       "      <td>87</td>\n",
       "      <td>55</td>\n",
       "      <td>牡2</td>\n",
       "      <td>...</td>\n",
       "      <td>4.9</td>\n",
       "      <td>2</td>\n",
       "      <td>470(-10)</td>\n",
       "      <td>2001モビーディック</td>\n",
       "      <td>8</td>\n",
       "      <td>0.468</td>\n",
       "      <td>2.000000</td>\n",
       "      <td>3</td>\n",
       "      <td>1.414214</td>\n",
       "      <td>10.314685</td>\n",
       "    </tr>\n",
       "  </tbody>\n",
       "</table>\n",
       "<p>5 rows × 22 columns</p>\n",
       "</div>"
      ],
      "text/plain": [
       "   rank  frame_number  horse_number horse_name  aptitude_course  \\\n",
       "0     1             3             5    メガスターダム              111   \n",
       "1     2             1             2   マチカネアカツキ              108   \n",
       "2     3             2             4  アドマイヤマックス              110   \n",
       "3     4             3             6     ビワワールド               96   \n",
       "4     5             2             3    モビーディック              113   \n",
       "\n",
       "   aptitude_distance  aptitude_run  aptitude_growth  aptitude_ground age  ...  \\\n",
       "0                 41            94               52               61  牡2  ...   \n",
       "1                 60           100               72               64  牡2  ...   \n",
       "2                 99            18               53               44  牡2  ...   \n",
       "3                 52            88               69               69  牡2  ...   \n",
       "4                 60            71               87               55  牡2  ...   \n",
       "\n",
       "   odds  popularity  horse_weight  horse_data_key race_count jockey_rate  \\\n",
       "0  50.3           6        488(0)     2001メガスターダム         13       0.217   \n",
       "1   9.5           4       510(+4)    2001マチカネアカツキ          6       0.412   \n",
       "2   1.4           1       454(+4)   2001アドマイヤマックス         18       0.291   \n",
       "3   8.4           3       438(-6)      2001ビワワールド         20       0.322   \n",
       "4   4.9           2      470(-10)     2001モビーディック          8       0.468   \n",
       "\n",
       "   past_rank_ave  before_race_rank  past_rank_std  ave_race_score  \n",
       "0       3.000000                 2       1.732051        6.250000  \n",
       "1       1.666667                 2       0.516398       61.111111  \n",
       "2       1.000000                 1       0.000000       51.041667  \n",
       "3       2.000000                 2       1.000000       13.636364  \n",
       "4       2.000000                 3       1.414214       10.314685  \n",
       "\n",
       "[5 rows x 22 columns]"
      ]
     },
     "execution_count": 15,
     "metadata": {},
     "output_type": "execute_result"
    }
   ],
   "source": [
    "df_races_2 = df_races.copy()\n",
    "drop_columns = ['trainer', 'owner', 'jockey', 'reward', 'difference', 'lap_time', 'final_3F', 'time', 'time_score']\n",
    "for i in range(len(TRAIN_RACE_ID)):\n",
    "    df_races_2[i].fillna({'time_score': '**'})\n",
    "    df_races_2[i].dropna(how='all', axis = 1, inplace=True)\n",
    "    df_races_2[i] = rank_to_int(df_races_2[i])\n",
    "    df_races_2[i] = df_races_2[i].drop(columns = drop_columns, errors = 'ignore')\n",
    "    df_races_2[i]['horse_data_key'] = df_races_2[i].apply(load_horse_data, num = i, axis = 1)\n",
    "    df_races_2[i]['race_count'] = df_races_2[i].apply(serch_past_races, num = i, axis = 1)\n",
    "    df_races_2[i]['jockey_rate'] = df_races_2[i].apply(add_jockey_info, axis = 1)\n",
    "    df_races_2[i] = feature_creation(df_races_2[i])\n",
    "df_races_2[0].head(5)"
   ]
  },
  {
   "cell_type": "markdown",
   "metadata": {},
   "source": [
    "### レースの特徴表示"
   ]
  },
  {
   "cell_type": "code",
   "execution_count": 16,
   "metadata": {
    "scrolled": true
   },
   "outputs": [
    {
     "data": {
      "text/plain": [
       "279"
      ]
     },
     "execution_count": 16,
     "metadata": {},
     "output_type": "execute_result"
    }
   ],
   "source": [
    "df_all_races = pd.concat(df_races_2)\n",
    "len(df_all_races)"
   ]
  },
  {
   "cell_type": "code",
   "execution_count": 17,
   "metadata": {},
   "outputs": [],
   "source": [
    "df_all_races_rank = []\n",
    "df_all_races_rank.append(df_all_races[df_all_races['rank'] == 1])\n",
    "df_all_races_rank.append(df_all_races[df_all_races['rank'] <= 3])\n",
    "df_all_races_rank.append(df_all_races)"
   ]
  },
  {
   "cell_type": "code",
   "execution_count": 18,
   "metadata": {},
   "outputs": [],
   "source": [
    "def plot_count_columns(column_name, _bins = 20, _range = (0, 20)):\n",
    "    titles = [\"Rank1\", \"InTicket\", \"All\"]\n",
    "    fig = plt.figure(figsize=(10, 10))\n",
    "    for i in range(len(df_all_races_rank)):\n",
    "        plt.subplot(len(df_all_races_rank), 3, i+1)\n",
    "        plt.title(titles[i] + \"_\" + column_name)\n",
    "        plt.hist(df_all_races_rank[i][column_name], bins=_bins, range = _range)\n",
    "        plt.tight_layout()\n",
    "        print(titles[i] + \"：サンプル数\" + str(len(df_all_races_rank[i])))\n",
    "    plt.style.use('default')\n",
    "    plt.savefig(f\"images/{column_name}.png\", bbox_inches='tight')"
   ]
  },
  {
   "cell_type": "markdown",
   "metadata": {},
   "source": [
    "過去20年で1着及び馬券内だった馬の枠番"
   ]
  },
  {
   "cell_type": "code",
   "execution_count": 19,
   "metadata": {
    "scrolled": false
   },
   "outputs": [
    {
     "name": "stdout",
     "output_type": "stream",
     "text": [
      "Rank1：サンプル数21\n",
      "InTicket：サンプル数63\n",
      "All：サンプル数279\n"
     ]
    },
    {
     "data": {
      "image/png": "[encoded data removed]",
      "text/plain": [
       "<Figure size 720x720 with 3 Axes>"
      ]
     },
     "metadata": {
      "needs_background": "light"
     },
     "output_type": "display_data"
    }
   ],
   "source": [
    "plot_count_columns('frame_number', 8, (1, 8))"
   ]
  },
  {
   "cell_type": "markdown",
   "metadata": {},
   "source": [
    "過去20年で1着及び馬券内だった馬の芝適性"
   ]
  },
  {
   "cell_type": "code",
   "execution_count": 20,
   "metadata": {},
   "outputs": [
    {
     "name": "stdout",
     "output_type": "stream",
     "text": [
      "Rank1：サンプル数21\n",
      "InTicket：サンプル数63\n",
      "All：サンプル数279\n"
     ]
    },
    {
     "data": {
      "image/png": "[encoded data removed]",
      "text/plain": [
       "<Figure size 1000x1000 with 3 Axes>"
      ]
     },
     "metadata": {},
     "output_type": "display_data"
    }
   ],
   "source": [
    "plot_count_columns(\"aptitude_course\", _range = (80, 120))"
   ]
  },
  {
   "cell_type": "markdown",
   "metadata": {},
   "source": [
    "過去20年で1着及び馬券内だった馬の距離適性(高いほど短距離得意)"
   ]
  },
  {
   "cell_type": "code",
   "execution_count": 21,
   "metadata": {},
   "outputs": [
    {
     "name": "stdout",
     "output_type": "stream",
     "text": [
      "Rank1：サンプル数21\n",
      "InTicket：サンプル数63\n",
      "All：サンプル数279\n"
     ]
    },
    {
     "data": {
      "image/png": "[encoded data removed]",
      "text/plain": [
       "<Figure size 1000x1000 with 3 Axes>"
      ]
     },
     "metadata": {},
     "output_type": "display_data"
    }
   ],
   "source": [
    "plot_count_columns(\"aptitude_distance\", _range = (0, 120))"
   ]
  },
  {
   "cell_type": "markdown",
   "metadata": {},
   "source": [
    "過去20年で1着及び馬券内だった馬の脚質適性(高いほど逃げ)"
   ]
  },
  {
   "cell_type": "code",
   "execution_count": 22,
   "metadata": {},
   "outputs": [
    {
     "name": "stdout",
     "output_type": "stream",
     "text": [
      "Rank1：サンプル数21\n",
      "InTicket：サンプル数63\n",
      "All：サンプル数279\n"
     ]
    },
    {
     "data": {
      "image/png": "[encoded data removed]",
      "text/plain": [
       "<Figure size 1000x1000 with 3 Axes>"
      ]
     },
     "metadata": {},
     "output_type": "display_data"
    }
   ],
   "source": [
    "plot_count_columns(\"aptitude_run\", _range = (0, 120))"
   ]
  },
  {
   "cell_type": "markdown",
   "metadata": {},
   "source": [
    "過去20年で1着及び馬券内だった馬の成長適性(高いほど早熟)"
   ]
  },
  {
   "cell_type": "code",
   "execution_count": 23,
   "metadata": {},
   "outputs": [
    {
     "name": "stdout",
     "output_type": "stream",
     "text": [
      "Rank1：サンプル数21\n",
      "InTicket：サンプル数63\n",
      "All：サンプル数279\n"
     ]
    },
    {
     "data": {
      "image/png": "[encoded data removed]",
      "text/plain": [
       "<Figure size 1000x1000 with 3 Axes>"
      ]
     },
     "metadata": {},
     "output_type": "display_data"
    }
   ],
   "source": [
    "plot_count_columns(\"aptitude_growth\", _range = (0, 120))"
   ]
  },
  {
   "cell_type": "markdown",
   "metadata": {},
   "source": [
    "過去20年で1着及び馬券内だった馬の馬場適性(高いほど重馬場得意)"
   ]
  },
  {
   "cell_type": "code",
   "execution_count": 24,
   "metadata": {},
   "outputs": [
    {
     "name": "stdout",
     "output_type": "stream",
     "text": [
      "Rank1：サンプル数21\n",
      "InTicket：サンプル数63\n",
      "All：サンプル数279\n"
     ]
    },
    {
     "data": {
      "image/png": "[encoded data removed]",
      "text/plain": [
       "<Figure size 1000x1000 with 3 Axes>"
      ]
     },
     "metadata": {},
     "output_type": "display_data"
    }
   ],
   "source": [
    "plot_count_columns(\"aptitude_ground\", _range = (0, 120))"
   ]
  },
  {
   "cell_type": "markdown",
   "metadata": {},
   "source": [
    "過去20年で1着及び馬券内だった馬の過去レース順位平均値"
   ]
  },
  {
   "cell_type": "code",
   "execution_count": 25,
   "metadata": {},
   "outputs": [
    {
     "name": "stdout",
     "output_type": "stream",
     "text": [
      "Rank1：サンプル数21\n",
      "InTicket：サンプル数63\n",
      "All：サンプル数279\n"
     ]
    },
    {
     "data": {
      "image/png": "[encoded data removed]",
      "text/plain": [
       "<Figure size 1000x1000 with 3 Axes>"
      ]
     },
     "metadata": {},
     "output_type": "display_data"
    }
   ],
   "source": [
    "plot_count_columns(\"past_rank_ave\", 18,_range = (1, 18))"
   ]
  },
  {
   "cell_type": "markdown",
   "metadata": {},
   "source": [
    "過去20年で1着及び馬券内だった馬の前走着順"
   ]
  },
  {
   "cell_type": "code",
   "execution_count": 26,
   "metadata": {},
   "outputs": [
    {
     "name": "stdout",
     "output_type": "stream",
     "text": [
      "Rank1：サンプル数21\n",
      "InTicket：サンプル数63\n",
      "All：サンプル数279\n"
     ]
    },
    {
     "data": {
      "image/png": "[encoded data removed]",
      "text/plain": [
       "<Figure size 1000x1000 with 3 Axes>"
      ]
     },
     "metadata": {},
     "output_type": "display_data"
    }
   ],
   "source": [
    "plot_count_columns(\"before_race_rank\", 18,_range = (1, 18))"
   ]
  },
  {
   "cell_type": "markdown",
   "metadata": {},
   "source": [
    "過去レースの順位データに(G1)などのレースの格を数値化して計算した平均を算出"
   ]
  },
  {
   "cell_type": "code",
   "execution_count": 27,
   "metadata": {},
   "outputs": [
    {
     "name": "stdout",
     "output_type": "stream",
     "text": [
      "Rank1：サンプル数21\n",
      "InTicket：サンプル数63\n",
      "All：サンプル数279\n"
     ]
    },
    {
     "data": {
      "image/png": "[encoded data removed]",
      "text/plain": [
       "<Figure size 1000x1000 with 3 Axes>"
      ]
     },
     "metadata": {},
     "output_type": "display_data"
    }
   ],
   "source": [
    "plot_count_columns(\"ave_race_score\", _range = (0, 200))"
   ]
  },
  {
   "cell_type": "markdown",
   "metadata": {},
   "source": [
    "### 特徴量抽出"
   ]
  },
  {
   "cell_type": "code",
   "execution_count": 28,
   "metadata": {},
   "outputs": [],
   "source": [
    "df_races_train = []\n",
    "df_races_test = []\n",
    "df_races_all = pd.concat(df_races_2)\n",
    "for i in range(len(df_races_2)):\n",
    "    tmp = []\n",
    "    for j in range(len(df_races_2)):\n",
    "        if (i == j):\n",
    "            df_races_test.append(df_races_2[j])\n",
    "        else:\n",
    "            tmp.append(df_races_2[j])\n",
    "    df_races_train.append(pd.concat(tmp))"
   ]
  },
  {
   "cell_type": "code",
   "execution_count": 29,
   "metadata": {},
   "outputs": [],
   "source": [
    "df_races_train_2 = df_races_train.copy()\n",
    "df_races_test_2 = df_races_test.copy()\n",
    "df_races_all_2 = df_races_all.copy()\n",
    "y_trains = []\n",
    "(df_races_all_2, y_all) = func.create_param(df_races_all_2)\n",
    "for i in range(len(df_races_train_2)):\n",
    "    (df_races_train_2[i], df_races_test_2[i], tmp) = func.create_params(df_races_train_2[i], df_races_test_2[i])\n",
    "    y_trains.append(tmp)"
   ]
  },
  {
   "cell_type": "markdown",
   "metadata": {},
   "source": [
    "### 2000～2019までのデータで2020年のレースを予測してみて正答率を確認する"
   ]
  },
  {
   "cell_type": "code",
   "execution_count": 30,
   "metadata": {},
   "outputs": [],
   "source": [
    "TEST_NUM = 10"
   ]
  },
  {
   "cell_type": "code",
   "execution_count": 31,
   "metadata": {},
   "outputs": [
    {
     "data": {
      "text/html": [
       "<div>\n",
       "<style scoped>\n",
       "    .dataframe tbody tr th:only-of-type {\n",
       "        vertical-align: middle;\n",
       "    }\n",
       "\n",
       "    .dataframe tbody tr th {\n",
       "        vertical-align: top;\n",
       "    }\n",
       "\n",
       "    .dataframe thead th {\n",
       "        text-align: right;\n",
       "    }\n",
       "</style>\n",
       "<table border=\"1\" class=\"dataframe\">\n",
       "  <thead>\n",
       "    <tr style=\"text-align: right;\">\n",
       "      <th></th>\n",
       "      <th>frame_number</th>\n",
       "      <th>aptitude_course</th>\n",
       "      <th>aptitude_distance</th>\n",
       "      <th>aptitude_run</th>\n",
       "      <th>aptitude_growth</th>\n",
       "      <th>aptitude_ground</th>\n",
       "      <th>weight</th>\n",
       "      <th>race_count</th>\n",
       "      <th>jockey_rate</th>\n",
       "      <th>past_rank_ave</th>\n",
       "      <th>before_race_rank</th>\n",
       "      <th>past_rank_std</th>\n",
       "      <th>ave_race_score</th>\n",
       "    </tr>\n",
       "  </thead>\n",
       "  <tbody>\n",
       "    <tr>\n",
       "      <th>0</th>\n",
       "      <td>3</td>\n",
       "      <td>111</td>\n",
       "      <td>41</td>\n",
       "      <td>94</td>\n",
       "      <td>52</td>\n",
       "      <td>61</td>\n",
       "      <td>55</td>\n",
       "      <td>13</td>\n",
       "      <td>0.217</td>\n",
       "      <td>3.0</td>\n",
       "      <td>2</td>\n",
       "      <td>1.732051</td>\n",
       "      <td>6.25</td>\n",
       "    </tr>\n",
       "  </tbody>\n",
       "</table>\n",
       "</div>"
      ],
      "text/plain": [
       "   frame_number  aptitude_course  aptitude_distance  aptitude_run  \\\n",
       "0             3              111                 41            94   \n",
       "\n",
       "   aptitude_growth  aptitude_ground  weight  race_count  jockey_rate  \\\n",
       "0               52               61      55          13        0.217   \n",
       "\n",
       "   past_rank_ave  before_race_rank  past_rank_std  ave_race_score  \n",
       "0            3.0                 2       1.732051            6.25  "
      ]
     },
     "execution_count": 31,
     "metadata": {},
     "output_type": "execute_result"
    }
   ],
   "source": [
    "df_races_test_2[0].head(1)"
   ]
  },
  {
   "cell_type": "code",
   "execution_count": 32,
   "metadata": {},
   "outputs": [],
   "source": [
    "y_train = y_trains[TEST_NUM]"
   ]
  },
  {
   "cell_type": "code",
   "execution_count": 33,
   "metadata": {},
   "outputs": [
    {
     "data": {
      "text/plain": [
       "(263, 13)"
      ]
     },
     "execution_count": 33,
     "metadata": {},
     "output_type": "execute_result"
    }
   ],
   "source": [
    "X_train = df_races_train_2[TEST_NUM].values.astype(np.float)\n",
    "X_train.shape"
   ]
  },
  {
   "cell_type": "code",
   "execution_count": 34,
   "metadata": {},
   "outputs": [
    {
     "data": {
      "text/plain": [
       "(16, 13)"
      ]
     },
     "execution_count": 34,
     "metadata": {},
     "output_type": "execute_result"
    }
   ],
   "source": [
    "X_test = df_races_test_2[TEST_NUM].values.astype(np.float)\n",
    "X_test.shape"
   ]
  },
  {
   "cell_type": "code",
   "execution_count": 35,
   "metadata": {
    "scrolled": true
   },
   "outputs": [],
   "source": [
    "mm = preprocessing.MinMaxScaler()\n",
    "X_train = mm.fit_transform(X_train)\n",
    "X_test = mm.fit_transform(X_test)"
   ]
  },
  {
   "cell_type": "markdown",
   "metadata": {},
   "source": [
    "### 機械学習開始"
   ]
  },
  {
   "cell_type": "code",
   "execution_count": 36,
   "metadata": {},
   "outputs": [],
   "source": [
    "# 機械学習のモデルを読み込む\n",
    "from sklearn import tree\n",
    "from sklearn import svm\n",
    "from sklearn import ensemble\n",
    "from sklearn import neighbors\n",
    "from sklearn import linear_model\n",
    "\n",
    "# 機械学習のお役立ちモジュールを読み込む\n",
    "from sklearn.model_selection import cross_val_score\n",
    "from sklearn.model_selection import StratifiedKFold\n",
    "from sklearn import metrics"
   ]
  },
  {
   "cell_type": "code",
   "execution_count": 37,
   "metadata": {},
   "outputs": [],
   "source": [
    "def stratified_cv(X, y, clf_class, shuffle=True, n_folds=10, **kwargs):\n",
    "    stratified_k_fold = StratifiedKFold(n_splits = n_folds, shuffle = shuffle).split(X, y)\n",
    "    y_pred = y.copy()\n",
    "    for ii, jj in stratified_k_fold:\n",
    "        X_train, X_test = X[ii], X[jj]\n",
    "        y_train = y[ii]\n",
    "        clf = clf_class(**kwargs)\n",
    "        clf.fit(X_train, y_train)\n",
    "        y_pred[jj] = clf.predict(X_test)\n",
    "    return y_pred"
   ]
  },
  {
   "cell_type": "markdown",
   "metadata": {},
   "source": [
    "5つの学習モデルで正答率比較　(Dump Classifierはすべての入力に0を返すモデル)"
   ]
  },
  {
   "cell_type": "code",
   "execution_count": 38,
   "metadata": {},
   "outputs": [
    {
     "name": "stdout",
     "output_type": "stream",
     "text": [
      "Passive Aggressive Classifier: 0.654\n",
      "Gradient Boosting Classifier:  0.791\n",
      "Support vector machine(SVM):   0.764\n",
      "Random Forest Classifier:      0.798\n",
      "K Nearest Neighbor Classifier: 0.646\n",
      "Dump Classifier: 0.772\n"
     ]
    }
   ],
   "source": [
    "print('Passive Aggressive Classifier: {:.3f}'.format(metrics.accuracy_score(y_train, stratified_cv(X_train, y_train, linear_model.PassiveAggressiveClassifier))))\n",
    "print('Gradient Boosting Classifier:  {:.3f}'.format(metrics.accuracy_score(y_train, stratified_cv(X_train, y_train, ensemble.GradientBoostingClassifier))))\n",
    "print('Support vector machine(SVM):   {:.3f}'.format(metrics.accuracy_score(y_train, stratified_cv(X_train, y_train, svm.SVC))))\n",
    "print('Random Forest Classifier:      {:.3f}'.format(metrics.accuracy_score(y_train, stratified_cv(X_train, y_train, ensemble.RandomForestClassifier))))\n",
    "print('K Nearest Neighbor Classifier: {:.3f}'.format(metrics.accuracy_score(y_train, stratified_cv(X_train, y_train, neighbors.KNeighborsClassifier))))\n",
    "print('Dump Classifier: {:.3f}'.format(metrics.accuracy_score(y_train, [0 for ii in y_train.tolist()])))"
   ]
  },
  {
   "cell_type": "markdown",
   "metadata": {},
   "source": [
    "### 正答率の高かったモデルが予測時に何を重要視したかを出力"
   ]
  },
  {
   "cell_type": "code",
   "execution_count": 39,
   "metadata": {},
   "outputs": [
    {
     "data": {
      "text/plain": [
       "RandomForestClassifier(bootstrap=True, ccp_alpha=0.0, class_weight=None,\n",
       "                       criterion='gini', max_depth=None, max_features='auto',\n",
       "                       max_leaf_nodes=None, max_samples=None,\n",
       "                       min_impurity_decrease=0.0, min_impurity_split=None,\n",
       "                       min_samples_leaf=1, min_samples_split=2,\n",
       "                       min_weight_fraction_leaf=0.0, n_estimators=100,\n",
       "                       n_jobs=None, oob_score=False, random_state=None,\n",
       "                       verbose=0, warm_start=False)"
      ]
     },
     "execution_count": 39,
     "metadata": {},
     "output_type": "execute_result"
    }
   ],
   "source": [
    "# linear_model.PassiveAggressiveClassifier()\n",
    "# ensemble.GradientBoostingClassifier()\n",
    "# svm.SVC()\n",
    "# ensemble.RandomForestClassifier()\n",
    "# neighbors.KNeighborsClassifier()\n",
    "\n",
    "model = ensemble.RandomForestClassifier()\n",
    "model.fit(X_train, y_train)"
   ]
  },
  {
   "cell_type": "code",
   "execution_count": 40,
   "metadata": {},
   "outputs": [
    {
     "data": {
      "image/png": "[encoded data removed]",
      "text/plain": [
       "<Figure size 800x500 with 1 Axes>"
      ]
     },
     "metadata": {},
     "output_type": "display_data"
    },
    {
     "name": "stdout",
     "output_type": "stream",
     "text": [
      "jockey_rate, perturbation effect: 19.07%\n",
      "aptitude_ground, perturbation effect: 14.34%\n",
      "aptitude_course, perturbation effect: 10.52%\n",
      "aptitude_distance, perturbation effect: 9.74%\n",
      "past_rank_std, perturbation effect: 9.74%\n",
      "aptitude_distance, perturbation effect: 8.89%\n",
      "past_rank_std, perturbation effect: 8.89%\n",
      "frame_number, perturbation effect: 7.95%\n",
      "aptitude_run, perturbation effect: 6.89%\n",
      "frame_number, perturbation effect: 3.98%\n",
      "aptitude_run, perturbation effect: 0.00%\n",
      "ave_race_score, perturbation effect: 0.00%\n",
      "aptitude_growth, perturbation effect: 0.00%\n"
     ]
    }
   ],
   "source": [
    "func.plot_importance(func.calc_importance(model, X_train), df_races_test_2[0].columns.values)\n",
    "func.print_importance(func.calc_importance(model, X_train), df_races_test_2[0].columns.values)"
   ]
  },
  {
   "cell_type": "markdown",
   "metadata": {},
   "source": [
    "予測結果出力"
   ]
  },
  {
   "cell_type": "code",
   "execution_count": 41,
   "metadata": {},
   "outputs": [
    {
     "name": "stdout",
     "output_type": "stream",
     "text": [
      "[0 0 0 1 0 1 0 0 0 0 0 0 0 0 0 0]\n",
      "3    トリップ\n",
      "Name: horse_name, dtype: object\n",
      "5    サンライズマヌー\n",
      "Name: horse_name, dtype: object\n"
     ]
    }
   ],
   "source": [
    "y_pred = model.predict(X_test)\n",
    "print(y_pred)\n",
    "for i in range(len(y_pred)):\n",
    "    if (y_pred[i]):\n",
    "        print(df_races_2[TEST_NUM].iloc[[i]]['horse_name'])"
   ]
  },
  {
   "cell_type": "markdown",
   "metadata": {},
   "source": [
    "### 今年のレースを予測"
   ]
  },
  {
   "cell_type": "code",
   "execution_count": 53,
   "metadata": {},
   "outputs": [],
   "source": [
    "PRED_RACE_COLUMNS = [\n",
    "    \"frame_number\",\n",
    "    \"horse_number\",\n",
    "    \"mark\",\n",
    "    \"horse_name\",\n",
    "    \"url\",\n",
    "    \"aptitude_course\",\n",
    "    \"aptitude_distance\",\n",
    "    \"aptitude_run\",\n",
    "    \"aptitude_growth\",\n",
    "    \"aptitude_ground\",\n",
    "    \"age\",\n",
    "    \"weight\",\n",
    "    \"jockey\",\n",
    "    \"jockey_id\",\n",
    "    \"trainer\",\n",
    "    \"blank_1\",\n",
    "    \"blank_2\",\n",
    "    \"blank_3\",\n",
    "    \"blank_4\",\n",
    "    \"blank_5\"\n",
    "]"
   ]
  },
  {
   "cell_type": "code",
   "execution_count": 54,
   "metadata": {},
   "outputs": [
    {
     "data": {
      "text/plain": [
       "'202106050911'"
      ]
     },
     "execution_count": 54,
     "metadata": {},
     "output_type": "execute_result"
    }
   ],
   "source": [
    "TRAIN_RACE_ID[0]"
   ]
  },
  {
   "cell_type": "code",
   "execution_count": 55,
   "metadata": {},
   "outputs": [],
   "source": [
    "RACE_NAME = RACE_NAME_2"
   ]
  },
  {
   "cell_type": "code",
   "execution_count": 56,
   "metadata": {},
   "outputs": [],
   "source": [
    "df_pred_race = pd.read_csv(CSV_DIR+ RACE + str(int(TRAIN_RACE_ID[0][:4]) + 1) + RACE_NAME_2 + \".csv\", header=None, names = PRED_RACE_COLUMNS, encoding='shift_jis')"
   ]
  },
  {
   "cell_type": "code",
   "execution_count": 57,
   "metadata": {
    "scrolled": true
   },
   "outputs": [
    {
     "data": {
      "text/html": [
       "<div>\n",
       "<style scoped>\n",
       "    .dataframe tbody tr th:only-of-type {\n",
       "        vertical-align: middle;\n",
       "    }\n",
       "\n",
       "    .dataframe tbody tr th {\n",
       "        vertical-align: top;\n",
       "    }\n",
       "\n",
       "    .dataframe thead th {\n",
       "        text-align: right;\n",
       "    }\n",
       "</style>\n",
       "<table border=\"1\" class=\"dataframe\">\n",
       "  <thead>\n",
       "    <tr style=\"text-align: right;\">\n",
       "      <th></th>\n",
       "      <th>frame_number</th>\n",
       "      <th>horse_number</th>\n",
       "      <th>mark</th>\n",
       "      <th>horse_name</th>\n",
       "      <th>url</th>\n",
       "      <th>aptitude_course</th>\n",
       "      <th>aptitude_distance</th>\n",
       "      <th>aptitude_run</th>\n",
       "      <th>aptitude_growth</th>\n",
       "      <th>aptitude_ground</th>\n",
       "      <th>age</th>\n",
       "      <th>weight</th>\n",
       "      <th>jockey</th>\n",
       "      <th>jockey_id</th>\n",
       "      <th>trainer</th>\n",
       "      <th>blank_1</th>\n",
       "      <th>blank_2</th>\n",
       "      <th>blank_3</th>\n",
       "      <th>blank_4</th>\n",
       "      <th>blank_5</th>\n",
       "    </tr>\n",
       "  </thead>\n",
       "  <tbody>\n",
       "    <tr>\n",
       "      <th>0</th>\n",
       "      <td>1</td>\n",
       "      <td>1</td>\n",
       "      <td>--◎◯▲△☆&amp;#10003消</td>\n",
       "      <td>ファントムシーフ</td>\n",
       "      <td>https://db.netkeiba.com/horse/2020106582</td>\n",
       "      <td>116</td>\n",
       "      <td>19</td>\n",
       "      <td>58</td>\n",
       "      <td>58</td>\n",
       "      <td>96</td>\n",
       "      <td>牡2</td>\n",
       "      <td>55.0</td>\n",
       "      <td>福永</td>\n",
       "      <td>1014</td>\n",
       "      <td>栗東西村</td>\n",
       "      <td>NaN</td>\n",
       "      <td>---.-</td>\n",
       "      <td>**</td>\n",
       "      <td>NaN</td>\n",
       "      <td>NaN</td>\n",
       "    </tr>\n",
       "    <tr>\n",
       "      <th>1</th>\n",
       "      <td>1</td>\n",
       "      <td>2</td>\n",
       "      <td>--◎◯▲△☆&amp;#10003消</td>\n",
       "      <td>ハーツコンチェルト</td>\n",
       "      <td>https://db.netkeiba.com/horse/2020105681</td>\n",
       "      <td>116</td>\n",
       "      <td>1</td>\n",
       "      <td>1</td>\n",
       "      <td>58</td>\n",
       "      <td>58</td>\n",
       "      <td>牡2</td>\n",
       "      <td>55.0</td>\n",
       "      <td>松山</td>\n",
       "      <td>1126</td>\n",
       "      <td>美浦武井</td>\n",
       "      <td>NaN</td>\n",
       "      <td>---.-</td>\n",
       "      <td>**</td>\n",
       "      <td>NaN</td>\n",
       "      <td>NaN</td>\n",
       "    </tr>\n",
       "    <tr>\n",
       "      <th>2</th>\n",
       "      <td>2</td>\n",
       "      <td>3</td>\n",
       "      <td>--◎◯▲△☆&amp;#10003消</td>\n",
       "      <td>シーウィザード</td>\n",
       "      <td>https://db.netkeiba.com/horse/2020101695</td>\n",
       "      <td>58</td>\n",
       "      <td>58</td>\n",
       "      <td>58</td>\n",
       "      <td>58</td>\n",
       "      <td>58</td>\n",
       "      <td>牡2</td>\n",
       "      <td>55.0</td>\n",
       "      <td>浜中</td>\n",
       "      <td>1115</td>\n",
       "      <td>美浦鹿戸</td>\n",
       "      <td>NaN</td>\n",
       "      <td>---.-</td>\n",
       "      <td>**</td>\n",
       "      <td>NaN</td>\n",
       "      <td>NaN</td>\n",
       "    </tr>\n",
       "    <tr>\n",
       "      <th>3</th>\n",
       "      <td>2</td>\n",
       "      <td>4</td>\n",
       "      <td>--◎◯▲△☆&amp;#10003消</td>\n",
       "      <td>セレンディピティ</td>\n",
       "      <td>https://db.netkeiba.com/horse/2020103420</td>\n",
       "      <td>116</td>\n",
       "      <td>1</td>\n",
       "      <td>1</td>\n",
       "      <td>1</td>\n",
       "      <td>116</td>\n",
       "      <td>牡2</td>\n",
       "      <td>55.0</td>\n",
       "      <td>武豊</td>\n",
       "      <td>666</td>\n",
       "      <td>栗東音無</td>\n",
       "      <td>NaN</td>\n",
       "      <td>---.-</td>\n",
       "      <td>**</td>\n",
       "      <td>NaN</td>\n",
       "      <td>NaN</td>\n",
       "    </tr>\n",
       "    <tr>\n",
       "      <th>4</th>\n",
       "      <td>3</td>\n",
       "      <td>5</td>\n",
       "      <td>--◎◯▲△☆&amp;#10003消</td>\n",
       "      <td>フェイト</td>\n",
       "      <td>https://db.netkeiba.com/horse/2020103388</td>\n",
       "      <td>58</td>\n",
       "      <td>58</td>\n",
       "      <td>58</td>\n",
       "      <td>58</td>\n",
       "      <td>58</td>\n",
       "      <td>牡2</td>\n",
       "      <td>55.0</td>\n",
       "      <td>坂井</td>\n",
       "      <td>1163</td>\n",
       "      <td>栗東矢作</td>\n",
       "      <td>NaN</td>\n",
       "      <td>---.-</td>\n",
       "      <td>**</td>\n",
       "      <td>NaN</td>\n",
       "      <td>NaN</td>\n",
       "    </tr>\n",
       "  </tbody>\n",
       "</table>\n",
       "</div>"
      ],
      "text/plain": [
       "   frame_number  horse_number             mark horse_name  \\\n",
       "0             1             1  --◎◯▲△☆&#10003消   ファントムシーフ   \n",
       "1             1             2  --◎◯▲△☆&#10003消  ハーツコンチェルト   \n",
       "2             2             3  --◎◯▲△☆&#10003消    シーウィザード   \n",
       "3             2             4  --◎◯▲△☆&#10003消   セレンディピティ   \n",
       "4             3             5  --◎◯▲△☆&#10003消       フェイト   \n",
       "\n",
       "                                        url  aptitude_course  \\\n",
       "0  https://db.netkeiba.com/horse/2020106582              116   \n",
       "1  https://db.netkeiba.com/horse/2020105681              116   \n",
       "2  https://db.netkeiba.com/horse/2020101695               58   \n",
       "3  https://db.netkeiba.com/horse/2020103420              116   \n",
       "4  https://db.netkeiba.com/horse/2020103388               58   \n",
       "\n",
       "   aptitude_distance  aptitude_run  aptitude_growth  aptitude_ground age  \\\n",
       "0                 19            58               58               96  牡2   \n",
       "1                  1             1               58               58  牡2   \n",
       "2                 58            58               58               58  牡2   \n",
       "3                  1             1                1              116  牡2   \n",
       "4                 58            58               58               58  牡2   \n",
       "\n",
       "   weight jockey  jockey_id trainer  blank_1 blank_2 blank_3  blank_4  blank_5  \n",
       "0    55.0     福永       1014    栗東西村      NaN   ---.-      **      NaN      NaN  \n",
       "1    55.0     松山       1126    美浦武井      NaN   ---.-      **      NaN      NaN  \n",
       "2    55.0     浜中       1115    美浦鹿戸      NaN   ---.-      **      NaN      NaN  \n",
       "3    55.0     武豊        666    栗東音無      NaN   ---.-      **      NaN      NaN  \n",
       "4    55.0     坂井       1163    栗東矢作      NaN   ---.-      **      NaN      NaN  "
      ]
     },
     "execution_count": 57,
     "metadata": {},
     "output_type": "execute_result"
    }
   ],
   "source": [
    "num = RACE_CNT\n",
    "df_pred_race.head(5)"
   ]
  },
  {
   "cell_type": "code",
   "execution_count": 59,
   "metadata": {},
   "outputs": [],
   "source": [
    "df_pred_race_2 = df_pred_race.copy()\n",
    "drop_columns = ['trainer', 'owner', 'jockey', 'mark', 'url', 'blank_1', 'blank_2', 'blank_3', 'blank_4', 'blank_5']\n",
    "df_pred_race_2.fillna({'time_score': '**'})\n",
    "df_pred_race_2.dropna(how='all', axis = 1, inplace=True)\n",
    "df_pred_race_2 = df_pred_race_2.drop(columns = drop_columns, errors = 'ignore')\n",
    "df_pred_race_2['horse_data_key'] = df_pred_race_2.apply(load_horse_data, num = num, axis = 1)\n",
    "df_pred_race_2['race_count'] = df_pred_race_2.apply(lambda x: int(db_horses[x['horse_data_key']].shape[0]), axis = 1)\n",
    "df_pred_race_2['jockey_rate'] = df_pred_race_2.apply(add_jockey_info, axis = 1)\n",
    "df_pred_race_2 = feature_creation(df_pred_race_2, -1)"
   ]
  },
  {
   "cell_type": "code",
   "execution_count": 60,
   "metadata": {
    "scrolled": true
   },
   "outputs": [
    {
     "data": {
      "text/html": [
       "<div>\n",
       "<style scoped>\n",
       "    .dataframe tbody tr th:only-of-type {\n",
       "        vertical-align: middle;\n",
       "    }\n",
       "\n",
       "    .dataframe tbody tr th {\n",
       "        vertical-align: top;\n",
       "    }\n",
       "\n",
       "    .dataframe thead th {\n",
       "        text-align: right;\n",
       "    }\n",
       "</style>\n",
       "<table border=\"1\" class=\"dataframe\">\n",
       "  <thead>\n",
       "    <tr style=\"text-align: right;\">\n",
       "      <th></th>\n",
       "      <th>frame_number</th>\n",
       "      <th>horse_number</th>\n",
       "      <th>horse_name</th>\n",
       "      <th>aptitude_course</th>\n",
       "      <th>aptitude_distance</th>\n",
       "      <th>aptitude_run</th>\n",
       "      <th>aptitude_growth</th>\n",
       "      <th>aptitude_ground</th>\n",
       "      <th>age</th>\n",
       "      <th>weight</th>\n",
       "      <th>jockey_id</th>\n",
       "      <th>horse_data_key</th>\n",
       "      <th>race_count</th>\n",
       "      <th>jockey_rate</th>\n",
       "      <th>past_rank_ave</th>\n",
       "      <th>before_race_rank</th>\n",
       "      <th>past_rank_std</th>\n",
       "      <th>ave_race_score</th>\n",
       "    </tr>\n",
       "  </thead>\n",
       "  <tbody>\n",
       "    <tr>\n",
       "      <th>0</th>\n",
       "      <td>1</td>\n",
       "      <td>1</td>\n",
       "      <td>ファントムシーフ</td>\n",
       "      <td>116</td>\n",
       "      <td>19</td>\n",
       "      <td>58</td>\n",
       "      <td>58</td>\n",
       "      <td>96</td>\n",
       "      <td>牡2</td>\n",
       "      <td>55.0</td>\n",
       "      <td>1014</td>\n",
       "      <td>2022ファントムシーフ</td>\n",
       "      <td>2</td>\n",
       "      <td>0.419</td>\n",
       "      <td>1.000000</td>\n",
       "      <td>1</td>\n",
       "      <td>0.000000</td>\n",
       "      <td>91.964286</td>\n",
       "    </tr>\n",
       "    <tr>\n",
       "      <th>1</th>\n",
       "      <td>1</td>\n",
       "      <td>2</td>\n",
       "      <td>ハーツコンチェルト</td>\n",
       "      <td>116</td>\n",
       "      <td>1</td>\n",
       "      <td>1</td>\n",
       "      <td>58</td>\n",
       "      <td>58</td>\n",
       "      <td>牡2</td>\n",
       "      <td>55.0</td>\n",
       "      <td>1126</td>\n",
       "      <td>2022ハーツコンチェルト</td>\n",
       "      <td>2</td>\n",
       "      <td>0.340</td>\n",
       "      <td>2.000000</td>\n",
       "      <td>1</td>\n",
       "      <td>1.414214</td>\n",
       "      <td>38.636364</td>\n",
       "    </tr>\n",
       "    <tr>\n",
       "      <th>2</th>\n",
       "      <td>2</td>\n",
       "      <td>3</td>\n",
       "      <td>シーウィザード</td>\n",
       "      <td>58</td>\n",
       "      <td>58</td>\n",
       "      <td>58</td>\n",
       "      <td>58</td>\n",
       "      <td>58</td>\n",
       "      <td>牡2</td>\n",
       "      <td>55.0</td>\n",
       "      <td>1115</td>\n",
       "      <td>2022シーウィザード</td>\n",
       "      <td>3</td>\n",
       "      <td>0.278</td>\n",
       "      <td>1.666667</td>\n",
       "      <td>1</td>\n",
       "      <td>1.154701</td>\n",
       "      <td>45.454545</td>\n",
       "    </tr>\n",
       "    <tr>\n",
       "      <th>3</th>\n",
       "      <td>2</td>\n",
       "      <td>4</td>\n",
       "      <td>セレンディピティ</td>\n",
       "      <td>116</td>\n",
       "      <td>1</td>\n",
       "      <td>1</td>\n",
       "      <td>1</td>\n",
       "      <td>116</td>\n",
       "      <td>牡2</td>\n",
       "      <td>55.0</td>\n",
       "      <td>666</td>\n",
       "      <td>2022セレンディピティ</td>\n",
       "      <td>2</td>\n",
       "      <td>0.369</td>\n",
       "      <td>1.500000</td>\n",
       "      <td>2</td>\n",
       "      <td>0.707107</td>\n",
       "      <td>12.373737</td>\n",
       "    </tr>\n",
       "    <tr>\n",
       "      <th>4</th>\n",
       "      <td>3</td>\n",
       "      <td>5</td>\n",
       "      <td>フェイト</td>\n",
       "      <td>58</td>\n",
       "      <td>58</td>\n",
       "      <td>58</td>\n",
       "      <td>58</td>\n",
       "      <td>58</td>\n",
       "      <td>牡2</td>\n",
       "      <td>55.0</td>\n",
       "      <td>1163</td>\n",
       "      <td>2022フェイト</td>\n",
       "      <td>2</td>\n",
       "      <td>0.329</td>\n",
       "      <td>3.000000</td>\n",
       "      <td>1</td>\n",
       "      <td>2.828427</td>\n",
       "      <td>-25.000000</td>\n",
       "    </tr>\n",
       "  </tbody>\n",
       "</table>\n",
       "</div>"
      ],
      "text/plain": [
       "   frame_number  horse_number horse_name  aptitude_course  aptitude_distance  \\\n",
       "0             1             1   ファントムシーフ              116                 19   \n",
       "1             1             2  ハーツコンチェルト              116                  1   \n",
       "2             2             3    シーウィザード               58                 58   \n",
       "3             2             4   セレンディピティ              116                  1   \n",
       "4             3             5       フェイト               58                 58   \n",
       "\n",
       "   aptitude_run  aptitude_growth  aptitude_ground age  weight  jockey_id  \\\n",
       "0            58               58               96  牡2    55.0       1014   \n",
       "1             1               58               58  牡2    55.0       1126   \n",
       "2            58               58               58  牡2    55.0       1115   \n",
       "3             1                1              116  牡2    55.0        666   \n",
       "4            58               58               58  牡2    55.0       1163   \n",
       "\n",
       "  horse_data_key  race_count  jockey_rate  past_rank_ave  before_race_rank  \\\n",
       "0   2022ファントムシーフ           2        0.419       1.000000                 1   \n",
       "1  2022ハーツコンチェルト           2        0.340       2.000000                 1   \n",
       "2    2022シーウィザード           3        0.278       1.666667                 1   \n",
       "3   2022セレンディピティ           2        0.369       1.500000                 2   \n",
       "4       2022フェイト           2        0.329       3.000000                 1   \n",
       "\n",
       "   past_rank_std  ave_race_score  \n",
       "0       0.000000       91.964286  \n",
       "1       1.414214       38.636364  \n",
       "2       1.154701       45.454545  \n",
       "3       0.707107       12.373737  \n",
       "4       2.828427      -25.000000  "
      ]
     },
     "execution_count": 60,
     "metadata": {},
     "output_type": "execute_result"
    }
   ],
   "source": [
    "df_pred_race_2.head(5)"
   ]
  },
  {
   "cell_type": "code",
   "execution_count": 66,
   "metadata": {},
   "outputs": [
    {
     "data": {
      "text/html": [
       "<div>\n",
       "<style scoped>\n",
       "    .dataframe tbody tr th:only-of-type {\n",
       "        vertical-align: middle;\n",
       "    }\n",
       "\n",
       "    .dataframe tbody tr th {\n",
       "        vertical-align: top;\n",
       "    }\n",
       "\n",
       "    .dataframe thead th {\n",
       "        text-align: right;\n",
       "    }\n",
       "</style>\n",
       "<table border=\"1\" class=\"dataframe\">\n",
       "  <thead>\n",
       "    <tr style=\"text-align: right;\">\n",
       "      <th></th>\n",
       "      <th>frame_number</th>\n",
       "      <th>aptitude_course</th>\n",
       "      <th>aptitude_distance</th>\n",
       "      <th>aptitude_run</th>\n",
       "      <th>aptitude_growth</th>\n",
       "      <th>aptitude_ground</th>\n",
       "      <th>weight</th>\n",
       "      <th>race_count</th>\n",
       "      <th>jockey_rate</th>\n",
       "      <th>past_rank_ave</th>\n",
       "      <th>before_race_rank</th>\n",
       "      <th>past_rank_std</th>\n",
       "      <th>ave_race_score</th>\n",
       "    </tr>\n",
       "  </thead>\n",
       "  <tbody>\n",
       "    <tr>\n",
       "      <th>0</th>\n",
       "      <td>1</td>\n",
       "      <td>116</td>\n",
       "      <td>19</td>\n",
       "      <td>58</td>\n",
       "      <td>58</td>\n",
       "      <td>96</td>\n",
       "      <td>55.0</td>\n",
       "      <td>2</td>\n",
       "      <td>0.419</td>\n",
       "      <td>1.0</td>\n",
       "      <td>1</td>\n",
       "      <td>0.0</td>\n",
       "      <td>91.964286</td>\n",
       "    </tr>\n",
       "  </tbody>\n",
       "</table>\n",
       "</div>"
      ],
      "text/plain": [
       "   frame_number  aptitude_course  aptitude_distance  aptitude_run  \\\n",
       "0             1              116                 19            58   \n",
       "\n",
       "   aptitude_growth  aptitude_ground  weight  race_count  jockey_rate  \\\n",
       "0               58               96    55.0           2        0.419   \n",
       "\n",
       "   past_rank_ave  before_race_rank  past_rank_std  ave_race_score  \n",
       "0            1.0                 1            0.0       91.964286  "
      ]
     },
     "execution_count": 66,
     "metadata": {},
     "output_type": "execute_result"
    }
   ],
   "source": [
    "df_pred_race_3 = df_pred_race_2.copy()\n",
    "df_pred_race_3 = df_pred_race_3.drop(columns = [\"horse_name\", \"age\", \"horse_data_key\", \"horse_number\", \"jockey_id\"])\n",
    "df_pred_race_3.head(1)"
   ]
  },
  {
   "cell_type": "code",
   "execution_count": 67,
   "metadata": {},
   "outputs": [],
   "source": [
    "df_pred_race_3.shape\n",
    "x_pred = df_pred_race_3.values.astype(np.float)"
   ]
  },
  {
   "cell_type": "code",
   "execution_count": 68,
   "metadata": {},
   "outputs": [],
   "source": [
    "X_all = df_races_all_2.values.astype(np.float)"
   ]
  },
  {
   "cell_type": "code",
   "execution_count": 69,
   "metadata": {},
   "outputs": [],
   "source": [
    "X_all = mm.fit_transform(X_all)\n",
    "x_pred = mm.fit_transform(x_pred)"
   ]
  },
  {
   "cell_type": "code",
   "execution_count": 70,
   "metadata": {},
   "outputs": [
    {
     "name": "stdout",
     "output_type": "stream",
     "text": [
      "[372, 28, 5, 16, 0, 14, 0, 0, 2, 11, 0, 0, 1, 0, 14, 11, 0, 5]\n",
      "Counter({'ファントムシーフ': 372, 'ハーツコンチェルト': 28, 'セレンディピティ': 16, 'グリューネグリーン': 14, 'キングズレイン': 14, 'ガストリック': 11, 'スカパラダイス': 11, 'ミッキーカプチーノ': 5, 'シーウィザード': 5, 'セブンマジシャン': 2, 'ヴェルテンベルク': 1})\n"
     ]
    }
   ],
   "source": [
    "horse_names = df_pred_race_2['horse_name']\n",
    "models = []\n",
    "models.append(linear_model.PassiveAggressiveClassifier())\n",
    "models.append(ensemble.GradientBoostingClassifier())\n",
    "models.append(svm.SVC())\n",
    "models.append(ensemble.RandomForestClassifier())\n",
    "models.append(neighbors.KNeighborsClassifier())\n",
    "names = []\n",
    "preds = np.zeros(len(horse_names), dtype=np.int64)\n",
    "for _ in range(100):\n",
    "    for i in range(len(models)):\n",
    "        models[i].fit(X_all, y_all)\n",
    "        y_pred = models[i].predict(x_pred)\n",
    "        preds = preds + y_pred\n",
    "        for j in range(len(y_pred)):\n",
    "            if (y_pred[j]):\n",
    "                names.append(horse_names[j])\n",
    "print(preds.tolist())\n",
    "print(collections.Counter(names))"
   ]
  },
  {
   "cell_type": "code",
   "execution_count": null,
   "metadata": {},
   "outputs": [],
   "source": []
  },
  {
   "cell_type": "code",
   "execution_count": null,
   "metadata": {},
   "outputs": [],
   "source": []
  },
  {
   "cell_type": "code",
   "execution_count": null,
   "metadata": {},
   "outputs": [],
   "source": []
  }
 ],
 "metadata": {
  "kernelspec": {
   "display_name": "Python 3",
   "language": "python",
   "name": "python3"
  },
  "language_info": {
   "codemirror_mode": {
    "name": "ipython",
    "version": 3
   },
   "file_extension": ".py",
   "mimetype": "text/x-python",
   "name": "python",
   "nbconvert_exporter": "python",
   "pygments_lexer": "ipython3",
   "version": "3.7.6"
  }
 },
 "nbformat": 4,
 "nbformat_minor": 4
}
