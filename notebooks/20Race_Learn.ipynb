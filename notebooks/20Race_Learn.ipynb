{
 "cells": [
  {
   "cell_type": "markdown",
   "metadata": {},
   "source": [
    "### モジュールインポート"
   ]
  },
  {
   "cell_type": "code",
   "execution_count": 1,
   "metadata": {},
   "outputs": [
    {
     "name": "stderr",
     "output_type": "stream",
     "text": [
      "C:\\Users\\mano2\\anaconda3\\lib\\site-packages\\requests\\__init__.py:89: RequestsDependencyWarning: urllib3 (1.26.9) or chardet (3.0.4) doesn't match a supported version!\n",
      "  warnings.warn(\"urllib3 ({}) or chardet ({}) doesn't match a supported \"\n"
     ]
    }
   ],
   "source": [
    "import csv\n",
    "import requests\n",
    "import bs4\n",
    "import re\n",
    "import os\n",
    "import time\n",
    "import numpy as np\n",
    "import pandas as pd\n",
    "import matplotlib.pyplot as plt\n",
    "import seaborn as sns\n",
    "from enum import Enum\n",
    "import derby_func as func\n",
    "import collections\n",
    "from sklearn import preprocessing"
   ]
  },
  {
   "cell_type": "markdown",
   "metadata": {},
   "source": [
    "### 定数宣言"
   ]
  },
  {
   "cell_type": "code",
   "execution_count": 2,
   "metadata": {},
   "outputs": [],
   "source": [
    "RACE_NAME = \"有馬記念\"\n",
    "RACE_NAME_2 = \"有馬記念\"\n",
    "RACE = \"/race/\"\n",
    "CSV_DIR = \"csv\"\n",
    "URL_BASE = \"https://db.netkeiba.com\"\n",
    "URL_RACE = \"https://race.netkeiba.com/race/shutuba.html?race_id=\"\n",
    "\n",
    "RACE_TABLE_NAME = \"race_table_01 nk_tb_common\""
   ]
  },
  {
   "cell_type": "code",
   "execution_count": 58,
   "metadata": {},
   "outputs": [],
   "source": [
    "TRAIN_RACE_DATA_PATH = CSV_DIR+ RACE + RACE_NAME + \"/\"\n",
    "TRAIN_HORSE_DATA_PATH = CSV_DIR + \"/horse/\"\n",
    "# min_cnt = 1で2021のレースは含まない, max_cnt = nとすることで過去のnレースをトレインデータにする\n",
    "TRAIN_RACE_ID = func.get_train_race_id(func.get_text_from_page('https://race.netkeiba.com/special/index.html?id=0133'), min_cnt =0, max_cnt = 11)\n",
    "RACE_DATA_COLUMNS = func.race_data_columns()\n",
    "HORSE_DATA_COLUMNS = func.horse_data_columns()\n",
    "RACE_RANK = func.race_rank()"
   ]
  },
  {
   "cell_type": "code",
   "execution_count": 59,
   "metadata": {},
   "outputs": [
    {
     "data": {
      "text/plain": [
       "['202106050811',\n",
       " '202006050811',\n",
       " '201906050811',\n",
       " '201806050811',\n",
       " '201706050811',\n",
       " '201606050910',\n",
       " '201506050810',\n",
       " '201406040810',\n",
       " '201306050810',\n",
       " '201206050810',\n",
       " '201106050810']"
      ]
     },
     "execution_count": 59,
     "metadata": {},
     "output_type": "execute_result"
    }
   ],
   "source": [
    "TRAIN_RACE_ID"
   ]
  },
  {
   "cell_type": "code",
   "execution_count": 60,
   "metadata": {},
   "outputs": [
    {
     "data": {
      "text/plain": [
       "11"
      ]
     },
     "execution_count": 60,
     "metadata": {},
     "output_type": "execute_result"
    }
   ],
   "source": [
    "len(TRAIN_RACE_ID)"
   ]
  },
  {
   "cell_type": "markdown",
   "metadata": {},
   "source": [
    "### DataFrame読み込み、前処理"
   ]
  },
  {
   "cell_type": "code",
   "execution_count": 61,
   "metadata": {},
   "outputs": [],
   "source": [
    "df_races = []\n",
    "db_horses = {}\n",
    "for i in range(len(TRAIN_RACE_ID)):\n",
    "    df_races.append(pd.read_csv(TRAIN_RACE_DATA_PATH + str(int(TRAIN_RACE_ID[len(TRAIN_RACE_ID) - 1][:4]) + i) + \".csv\", header=None, names = RACE_DATA_COLUMNS, encoding='shift_jis'))"
   ]
  },
  {
   "cell_type": "code",
   "execution_count": 62,
   "metadata": {},
   "outputs": [
    {
     "data": {
      "text/plain": [
       "11"
      ]
     },
     "execution_count": 62,
     "metadata": {},
     "output_type": "execute_result"
    }
   ],
   "source": [
    "len(df_races)"
   ]
  },
  {
   "cell_type": "code",
   "execution_count": 63,
   "metadata": {},
   "outputs": [],
   "source": [
    "def race_score_define(row):\n",
    "    rank_score = 0\n",
    "    for rank in RACE_RANK:\n",
    "        if (rank.rank in row['race_name']):\n",
    "            rank_score = rank.score\n",
    "    return rank_score"
   ]
  },
  {
   "cell_type": "code",
   "execution_count": 64,
   "metadata": {},
   "outputs": [],
   "source": [
    "def load_horse_data(row, num):\n",
    "    load_path = TRAIN_HORSE_DATA_PATH + str(int(TRAIN_RACE_ID[len(TRAIN_RACE_ID) - 1][:4]) + int(num)) + RACE_NAME + \"/\" + row['horse_name'] + \".csv\"\n",
    "    path = str(int(TRAIN_RACE_ID[len(TRAIN_RACE_ID) - 1][:4]) + int(num)) + row['horse_name']\n",
    "    df_tmp = pd.read_csv(load_path, header=None, names = HORSE_DATA_COLUMNS, encoding='shift_jis')\n",
    "    df_tmp = df_tmp.drop(columns=['time_score', \"ground_score\", 'popularity', 'odds', 'R', 'winner', 'reward', \"video\" ,\"coment\", \"coment_2\",])\n",
    "    df_tmp.dropna(how='all', axis = 1, inplace=True)\n",
    "    df_tmp['ground_type'] = df_tmp.apply(lambda x: x['distance'][:1], axis = 1)\n",
    "    df_tmp['distance'] = df_tmp.apply(lambda x: x['distance'][1:], axis = 1)\n",
    "    df_tmp['race_rank_score'] = df_tmp.apply(race_score_define, axis = 1)\n",
    "    df_tmp.dropna(how='any', axis = 0, inplace=True)\n",
    "    db_horses[path] = df_tmp.reset_index()\n",
    "    return path"
   ]
  },
  {
   "cell_type": "code",
   "execution_count": 65,
   "metadata": {},
   "outputs": [],
   "source": [
    "def serch_past_races(row, num):\n",
    "    df_horse = db_horses[row['horse_data_key']]\n",
    "    df_horse['race_date_judge'] = df_horse.apply(lambda x: True if str(x['race_id']) == str(TRAIN_RACE_ID[len(TRAIN_RACE_ID) - 1 - num]) else False, axis = 1)\n",
    "    index = df_horse[df_horse['race_date_judge'] == True].index\n",
    "    df_horse = df_horse.iloc[index[0] + 1:]\n",
    "    db_horses[row['horse_data_key']] = df_horse\n",
    "    if (df_horse.shape[0] > 0):\n",
    "        return index[0]\n",
    "    else :\n",
    "        return 0"
   ]
  },
  {
   "cell_type": "code",
   "execution_count": 66,
   "metadata": {},
   "outputs": [],
   "source": [
    "def rank_to_int(df):\n",
    "    df_2 = df.copy()\n",
    "    df_2 = df_2[(df_2['rank'] != \"取\") & (df_2['rank'] != \"中\") & (df_2['rank'] != \"除\") & (df_2['rank'] != \"失\")]\n",
    "    df_2['rank'] = df_2['rank'].apply(lambda x: int(re.sub(r\"\\D\", \"\", str(x))))\n",
    "    return df_2"
   ]
  },
  {
   "cell_type": "code",
   "execution_count": 67,
   "metadata": {},
   "outputs": [],
   "source": [
    "def calc_past_rank_ave(row):\n",
    "    df_horse = db_horses[row['horse_data_key']]\n",
    "    df_horse = rank_to_int(df_horse)\n",
    "    df_horse['race_score'] = df_horse.apply(lambda x: 0 if x['rank'] > 5 else (x['race_rank_score'] * (4 - x['rank']) * 10) / x['head_count'], axis = 1)\n",
    "    mean = df_horse['rank'].mean(axis = 0)\n",
    "    db_horses[row['horse_data_key']] = df_horse\n",
    "    return mean"
   ]
  },
  {
   "cell_type": "code",
   "execution_count": 68,
   "metadata": {},
   "outputs": [],
   "source": [
    "def feature_creation(df_race_tmp, num = 1):\n",
    "    df = df_race_tmp.copy()\n",
    "    df = df[df['race_count'] > 0]\n",
    "    df['past_rank_ave'] = df.apply(calc_past_rank_ave, axis = 1)\n",
    "    df['before_race_rank'] = df.apply(lambda x: int(db_horses[x['horse_data_key']]['rank'][x['race_count'] + num]), axis = 1)\n",
    "    df['past_rank_std'] = df.apply(lambda x: db_horses[x['horse_data_key']]['rank'].std(axis = 0), axis = 1)\n",
    "    df['ave_race_score'] = df.apply(lambda x: db_horses[x['horse_data_key']]['race_score'].median(axis = 0), axis = 1)\n",
    "    return df.fillna(0)"
   ]
  },
  {
   "cell_type": "code",
   "execution_count": 69,
   "metadata": {
    "scrolled": true
   },
   "outputs": [
    {
     "data": {
      "text/html": [
       "<div>\n",
       "<style scoped>\n",
       "    .dataframe tbody tr th:only-of-type {\n",
       "        vertical-align: middle;\n",
       "    }\n",
       "\n",
       "    .dataframe tbody tr th {\n",
       "        vertical-align: top;\n",
       "    }\n",
       "\n",
       "    .dataframe thead th {\n",
       "        text-align: right;\n",
       "    }\n",
       "</style>\n",
       "<table border=\"1\" class=\"dataframe\">\n",
       "  <thead>\n",
       "    <tr style=\"text-align: right;\">\n",
       "      <th></th>\n",
       "      <th>rank</th>\n",
       "      <th>frame_number</th>\n",
       "      <th>horse_number</th>\n",
       "      <th>horse_name</th>\n",
       "      <th>aptitude_course</th>\n",
       "      <th>aptitude_distance</th>\n",
       "      <th>aptitude_run</th>\n",
       "      <th>aptitude_growth</th>\n",
       "      <th>aptitude_ground</th>\n",
       "      <th>age</th>\n",
       "      <th>weight</th>\n",
       "      <th>odds</th>\n",
       "      <th>popularity</th>\n",
       "      <th>horse_weight</th>\n",
       "      <th>horse_data_key</th>\n",
       "      <th>race_count</th>\n",
       "      <th>past_rank_ave</th>\n",
       "      <th>before_race_rank</th>\n",
       "      <th>past_rank_std</th>\n",
       "      <th>ave_race_score</th>\n",
       "    </tr>\n",
       "  </thead>\n",
       "  <tbody>\n",
       "    <tr>\n",
       "      <th>0</th>\n",
       "      <td>1</td>\n",
       "      <td>6</td>\n",
       "      <td>9</td>\n",
       "      <td>オルフェーヴル</td>\n",
       "      <td>110</td>\n",
       "      <td>43</td>\n",
       "      <td>9</td>\n",
       "      <td>42</td>\n",
       "      <td>101</td>\n",
       "      <td>牡3</td>\n",
       "      <td>55</td>\n",
       "      <td>2.2</td>\n",
       "      <td>1.0</td>\n",
       "      <td>462(-4)</td>\n",
       "      <td>2011オルフェーヴル</td>\n",
       "      <td>6</td>\n",
       "      <td>2.300000</td>\n",
       "      <td>1</td>\n",
       "      <td>2.790858</td>\n",
       "      <td>108.333333</td>\n",
       "    </tr>\n",
       "    <tr>\n",
       "      <th>1</th>\n",
       "      <td>2</td>\n",
       "      <td>4</td>\n",
       "      <td>5</td>\n",
       "      <td>エイシンフラッシュ</td>\n",
       "      <td>110</td>\n",
       "      <td>44</td>\n",
       "      <td>24</td>\n",
       "      <td>59</td>\n",
       "      <td>79</td>\n",
       "      <td>牡4</td>\n",
       "      <td>57</td>\n",
       "      <td>26.8</td>\n",
       "      <td>7.0</td>\n",
       "      <td>488(-4)</td>\n",
       "      <td>2011エイシンフラッシュ</td>\n",
       "      <td>9</td>\n",
       "      <td>3.666667</td>\n",
       "      <td>8</td>\n",
       "      <td>2.609506</td>\n",
       "      <td>40.000000</td>\n",
       "    </tr>\n",
       "    <tr>\n",
       "      <th>2</th>\n",
       "      <td>3</td>\n",
       "      <td>5</td>\n",
       "      <td>7</td>\n",
       "      <td>トゥザグローリー</td>\n",
       "      <td>90</td>\n",
       "      <td>53</td>\n",
       "      <td>62</td>\n",
       "      <td>41</td>\n",
       "      <td>67</td>\n",
       "      <td>牡4</td>\n",
       "      <td>57</td>\n",
       "      <td>47.1</td>\n",
       "      <td>9.0</td>\n",
       "      <td>536(+12)</td>\n",
       "      <td>2011トゥザグローリー</td>\n",
       "      <td>16</td>\n",
       "      <td>4.625000</td>\n",
       "      <td>11</td>\n",
       "      <td>4.379878</td>\n",
       "      <td>23.437500</td>\n",
       "    </tr>\n",
       "    <tr>\n",
       "      <th>3</th>\n",
       "      <td>4</td>\n",
       "      <td>8</td>\n",
       "      <td>14</td>\n",
       "      <td>ルーラーシップ</td>\n",
       "      <td>107</td>\n",
       "      <td>50</td>\n",
       "      <td>35</td>\n",
       "      <td>35</td>\n",
       "      <td>76</td>\n",
       "      <td>牡4</td>\n",
       "      <td>57</td>\n",
       "      <td>52.9</td>\n",
       "      <td>11.0</td>\n",
       "      <td>504(+6)</td>\n",
       "      <td>2011ルーラーシップ</td>\n",
       "      <td>6</td>\n",
       "      <td>2.636364</td>\n",
       "      <td>5</td>\n",
       "      <td>2.110579</td>\n",
       "      <td>21.428571</td>\n",
       "    </tr>\n",
       "    <tr>\n",
       "      <th>4</th>\n",
       "      <td>5</td>\n",
       "      <td>6</td>\n",
       "      <td>10</td>\n",
       "      <td>トーセンジョーダン</td>\n",
       "      <td>109</td>\n",
       "      <td>42</td>\n",
       "      <td>81</td>\n",
       "      <td>43</td>\n",
       "      <td>62</td>\n",
       "      <td>牡5</td>\n",
       "      <td>57</td>\n",
       "      <td>9.2</td>\n",
       "      <td>3.0</td>\n",
       "      <td>482(+4)</td>\n",
       "      <td>2011トーセンジョーダン</td>\n",
       "      <td>12</td>\n",
       "      <td>2.588235</td>\n",
       "      <td>2</td>\n",
       "      <td>2.373258</td>\n",
       "      <td>64.285714</td>\n",
       "    </tr>\n",
       "  </tbody>\n",
       "</table>\n",
       "</div>"
      ],
      "text/plain": [
       "   rank  frame_number  horse_number horse_name  aptitude_course  \\\n",
       "0     1             6             9    オルフェーヴル              110   \n",
       "1     2             4             5  エイシンフラッシュ              110   \n",
       "2     3             5             7   トゥザグローリー               90   \n",
       "3     4             8            14    ルーラーシップ              107   \n",
       "4     5             6            10  トーセンジョーダン              109   \n",
       "\n",
       "   aptitude_distance  aptitude_run  aptitude_growth  aptitude_ground age  \\\n",
       "0                 43             9               42              101  牡3   \n",
       "1                 44            24               59               79  牡4   \n",
       "2                 53            62               41               67  牡4   \n",
       "3                 50            35               35               76  牡4   \n",
       "4                 42            81               43               62  牡5   \n",
       "\n",
       "   weight  odds  popularity horse_weight horse_data_key  race_count  \\\n",
       "0      55   2.2         1.0      462(-4)    2011オルフェーヴル           6   \n",
       "1      57  26.8         7.0      488(-4)  2011エイシンフラッシュ           9   \n",
       "2      57  47.1         9.0     536(+12)   2011トゥザグローリー          16   \n",
       "3      57  52.9        11.0      504(+6)    2011ルーラーシップ           6   \n",
       "4      57   9.2         3.0      482(+4)  2011トーセンジョーダン          12   \n",
       "\n",
       "   past_rank_ave  before_race_rank  past_rank_std  ave_race_score  \n",
       "0       2.300000                 1       2.790858      108.333333  \n",
       "1       3.666667                 8       2.609506       40.000000  \n",
       "2       4.625000                11       4.379878       23.437500  \n",
       "3       2.636364                 5       2.110579       21.428571  \n",
       "4       2.588235                 2       2.373258       64.285714  "
      ]
     },
     "execution_count": 69,
     "metadata": {},
     "output_type": "execute_result"
    }
   ],
   "source": [
    "df_races_2 = df_races.copy()\n",
    "drop_columns = ['trainer', 'owner', 'jockey', 'reward', 'difference', 'lap_time', 'final_3F', 'time', 'time_score']\n",
    "for i in range(len(TRAIN_RACE_ID)):\n",
    "    df_races_2[i].fillna({'time_score': '**'})\n",
    "    df_races_2[i].dropna(how='all', axis = 1, inplace=True)\n",
    "    df_races_2[i] = rank_to_int(df_races_2[i])\n",
    "    df_races_2[i] = df_races_2[i].drop(columns = drop_columns, errors = 'ignore')\n",
    "    df_races_2[i]['horse_data_key'] = df_races_2[i].apply(load_horse_data, num = i, axis = 1)\n",
    "    df_races_2[i]['race_count'] = df_races_2[i].apply(serch_past_races, num = i, axis = 1)\n",
    "    df_races_2[i] = feature_creation(df_races_2[i])\n",
    "df_races_2[0].head(5)"
   ]
  },
  {
   "cell_type": "markdown",
   "metadata": {},
   "source": [
    "### レースの特徴表示"
   ]
  },
  {
   "cell_type": "code",
   "execution_count": 70,
   "metadata": {
    "scrolled": true
   },
   "outputs": [
    {
     "data": {
      "text/plain": [
       "135"
      ]
     },
     "execution_count": 70,
     "metadata": {},
     "output_type": "execute_result"
    }
   ],
   "source": [
    "df_all_races = pd.concat(df_races_2)\n",
    "len(df_all_races)"
   ]
  },
  {
   "cell_type": "code",
   "execution_count": 71,
   "metadata": {},
   "outputs": [],
   "source": [
    "df_all_races_rank = []\n",
    "df_all_races_rank.append(df_all_races[df_all_races['rank'] == 1])\n",
    "df_all_races_rank.append(df_all_races[df_all_races['rank'] <= 3])\n",
    "df_all_races_rank.append(df_all_races)"
   ]
  },
  {
   "cell_type": "code",
   "execution_count": 72,
   "metadata": {},
   "outputs": [],
   "source": [
    "def plot_count_columns(column_name, _bins = 20, _range = (0, 20)):\n",
    "    titles = [\"Rank1\", \"InTicket\", \"All\"]\n",
    "    fig = plt.figure(figsize=(10, 10))\n",
    "    for i in range(len(df_all_races_rank)):\n",
    "        plt.subplot(len(df_all_races_rank), 3, i+1)\n",
    "        plt.title(titles[i] + \"_\" + column_name)\n",
    "        plt.hist(df_all_races_rank[i][column_name], bins=_bins, range = _range)\n",
    "        plt.tight_layout()\n",
    "        print(titles[i] + \"：サンプル数\" + str(len(df_all_races_rank[i])))\n",
    "    plt.style.use('default')\n",
    "    plt.savefig(f\"images/{column_name}.png\", bbox_inches='tight')"
   ]
  },
  {
   "cell_type": "markdown",
   "metadata": {},
   "source": [
    "過去20年で1着及び馬券内だった馬の枠番"
   ]
  },
  {
   "cell_type": "code",
   "execution_count": 73,
   "metadata": {
    "scrolled": false
   },
   "outputs": [
    {
     "name": "stdout",
     "output_type": "stream",
     "text": [
      "Rank1：サンプル数7\n",
      "InTicket：サンプル数23\n",
      "All：サンプル数135\n"
     ]
    },
    {
     "data": {
      "image/png": "[encoded data removed]",
      "text/plain": [
       "<Figure size 1000x1000 with 3 Axes>"
      ]
     },
     "metadata": {},
     "output_type": "display_data"
    }
   ],
   "source": [
    "plot_count_columns('frame_number', 8, (1, 8))"
   ]
  },
  {
   "cell_type": "markdown",
   "metadata": {},
   "source": [
    "過去20年で1着及び馬券内だった馬の芝適性"
   ]
  },
  {
   "cell_type": "code",
   "execution_count": 74,
   "metadata": {},
   "outputs": [
    {
     "name": "stdout",
     "output_type": "stream",
     "text": [
      "Rank1：サンプル数7\n",
      "InTicket：サンプル数23\n",
      "All：サンプル数135\n"
     ]
    },
    {
     "data": {
      "image/png": "[encoded data removed]",
      "text/plain": [
       "<Figure size 1000x1000 with 3 Axes>"
      ]
     },
     "metadata": {},
     "output_type": "display_data"
    }
   ],
   "source": [
    "plot_count_columns(\"aptitude_course\", _range = (80, 120))"
   ]
  },
  {
   "cell_type": "markdown",
   "metadata": {},
   "source": [
    "過去20年で1着及び馬券内だった馬の距離適性(高いほど短距離得意)"
   ]
  },
  {
   "cell_type": "code",
   "execution_count": 75,
   "metadata": {},
   "outputs": [
    {
     "name": "stdout",
     "output_type": "stream",
     "text": [
      "Rank1：サンプル数7\n",
      "InTicket：サンプル数23\n",
      "All：サンプル数135\n"
     ]
    },
    {
     "data": {
      "image/png": "[encoded data removed]",
      "text/plain": [
       "<Figure size 1000x1000 with 3 Axes>"
      ]
     },
     "metadata": {},
     "output_type": "display_data"
    }
   ],
   "source": [
    "plot_count_columns(\"aptitude_distance\", _range = (0, 120))"
   ]
  },
  {
   "cell_type": "markdown",
   "metadata": {},
   "source": [
    "過去20年で1着及び馬券内だった馬の脚質適性(高いほど逃げ)"
   ]
  },
  {
   "cell_type": "code",
   "execution_count": 76,
   "metadata": {},
   "outputs": [
    {
     "name": "stdout",
     "output_type": "stream",
     "text": [
      "Rank1：サンプル数7\n",
      "InTicket：サンプル数23\n",
      "All：サンプル数135\n"
     ]
    },
    {
     "data": {
      "image/png": "[encoded data removed]",
      "text/plain": [
       "<Figure size 1000x1000 with 3 Axes>"
      ]
     },
     "metadata": {},
     "output_type": "display_data"
    }
   ],
   "source": [
    "plot_count_columns(\"aptitude_run\", _range = (0, 120))"
   ]
  },
  {
   "cell_type": "markdown",
   "metadata": {},
   "source": [
    "過去20年で1着及び馬券内だった馬の成長適性(高いほど早熟)"
   ]
  },
  {
   "cell_type": "code",
   "execution_count": 77,
   "metadata": {},
   "outputs": [
    {
     "name": "stdout",
     "output_type": "stream",
     "text": [
      "Rank1：サンプル数7\n",
      "InTicket：サンプル数23\n",
      "All：サンプル数135\n"
     ]
    },
    {
     "data": {
      "image/png": "[encoded data removed]",
      "text/plain": [
       "<Figure size 1000x1000 with 3 Axes>"
      ]
     },
     "metadata": {},
     "output_type": "display_data"
    }
   ],
   "source": [
    "plot_count_columns(\"aptitude_growth\", _range = (0, 120))"
   ]
  },
  {
   "cell_type": "markdown",
   "metadata": {},
   "source": [
    "過去20年で1着及び馬券内だった馬の馬場適性(高いほど重馬場得意)"
   ]
  },
  {
   "cell_type": "code",
   "execution_count": 78,
   "metadata": {},
   "outputs": [
    {
     "name": "stdout",
     "output_type": "stream",
     "text": [
      "Rank1：サンプル数7\n",
      "InTicket：サンプル数23\n",
      "All：サンプル数135\n"
     ]
    },
    {
     "data": {
      "image/png": "[encoded data removed]",
      "text/plain": [
       "<Figure size 1000x1000 with 3 Axes>"
      ]
     },
     "metadata": {},
     "output_type": "display_data"
    }
   ],
   "source": [
    "plot_count_columns(\"aptitude_ground\", _range = (0, 120))"
   ]
  },
  {
   "cell_type": "markdown",
   "metadata": {},
   "source": [
    "過去20年で1着及び馬券内だった馬の過去レース順位平均値"
   ]
  },
  {
   "cell_type": "code",
   "execution_count": 79,
   "metadata": {},
   "outputs": [
    {
     "name": "stdout",
     "output_type": "stream",
     "text": [
      "Rank1：サンプル数7\n",
      "InTicket：サンプル数23\n",
      "All：サンプル数135\n"
     ]
    },
    {
     "data": {
      "image/png": "[encoded data removed]",
      "text/plain": [
       "<Figure size 1000x1000 with 3 Axes>"
      ]
     },
     "metadata": {},
     "output_type": "display_data"
    }
   ],
   "source": [
    "plot_count_columns(\"past_rank_ave\", 18,_range = (1, 18))"
   ]
  },
  {
   "cell_type": "markdown",
   "metadata": {},
   "source": [
    "過去20年で1着及び馬券内だった馬の前走着順"
   ]
  },
  {
   "cell_type": "code",
   "execution_count": 80,
   "metadata": {},
   "outputs": [
    {
     "name": "stdout",
     "output_type": "stream",
     "text": [
      "Rank1：サンプル数7\n",
      "InTicket：サンプル数23\n",
      "All：サンプル数135\n"
     ]
    },
    {
     "data": {
      "image/png": "[encoded data removed]",
      "text/plain": [
       "<Figure size 1000x1000 with 3 Axes>"
      ]
     },
     "metadata": {},
     "output_type": "display_data"
    }
   ],
   "source": [
    "plot_count_columns(\"before_race_rank\", 18,_range = (1, 18))"
   ]
  },
  {
   "cell_type": "markdown",
   "metadata": {},
   "source": [
    "過去レースの順位データに(G1)などのレースの格を数値化して計算した平均を算出"
   ]
  },
  {
   "cell_type": "code",
   "execution_count": 81,
   "metadata": {},
   "outputs": [
    {
     "name": "stdout",
     "output_type": "stream",
     "text": [
      "Rank1：サンプル数7\n",
      "InTicket：サンプル数23\n",
      "All：サンプル数135\n"
     ]
    },
    {
     "data": {
      "image/png": "[encoded data removed]",
      "text/plain": [
       "<Figure size 1000x1000 with 3 Axes>"
      ]
     },
     "metadata": {},
     "output_type": "display_data"
    }
   ],
   "source": [
    "plot_count_columns(\"ave_race_score\", _range = (0, 200))"
   ]
  },
  {
   "cell_type": "markdown",
   "metadata": {},
   "source": [
    "### 特徴量抽出"
   ]
  },
  {
   "cell_type": "code",
   "execution_count": 82,
   "metadata": {},
   "outputs": [],
   "source": [
    "df_races_train = []\n",
    "df_races_test = []\n",
    "df_races_all = pd.concat(df_races_2)\n",
    "for i in range(len(df_races_2)):\n",
    "    tmp = []\n",
    "    for j in range(len(df_races_2)):\n",
    "        if (i == j):\n",
    "            df_races_test.append(df_races_2[j])\n",
    "        else:\n",
    "            tmp.append(df_races_2[j])\n",
    "    df_races_train.append(pd.concat(tmp))"
   ]
  },
  {
   "cell_type": "code",
   "execution_count": 83,
   "metadata": {},
   "outputs": [],
   "source": [
    "df_races_train_2 = df_races_train.copy()\n",
    "df_races_test_2 = df_races_test.copy()\n",
    "df_races_all_2 = df_races_all.copy()\n",
    "y_trains = []\n",
    "(df_races_all_2, y_all) = func.create_param(df_races_all_2)\n",
    "for i in range(len(df_races_train_2)):\n",
    "    (df_races_train_2[i], df_races_test_2[i], tmp) = func.create_params(df_races_train_2[i], df_races_test_2[i])\n",
    "    y_trains.append(tmp)"
   ]
  },
  {
   "cell_type": "markdown",
   "metadata": {},
   "source": [
    "### 2000～2019までのデータで2020年のレースを予測してみて正答率を確認する"
   ]
  },
  {
   "cell_type": "code",
   "execution_count": 88,
   "metadata": {},
   "outputs": [],
   "source": [
    "TEST_NUM = 10"
   ]
  },
  {
   "cell_type": "code",
   "execution_count": 89,
   "metadata": {},
   "outputs": [
    {
     "data": {
      "text/html": [
       "<div>\n",
       "<style scoped>\n",
       "    .dataframe tbody tr th:only-of-type {\n",
       "        vertical-align: middle;\n",
       "    }\n",
       "\n",
       "    .dataframe tbody tr th {\n",
       "        vertical-align: top;\n",
       "    }\n",
       "\n",
       "    .dataframe thead th {\n",
       "        text-align: right;\n",
       "    }\n",
       "</style>\n",
       "<table border=\"1\" class=\"dataframe\">\n",
       "  <thead>\n",
       "    <tr style=\"text-align: right;\">\n",
       "      <th></th>\n",
       "      <th>frame_number</th>\n",
       "      <th>aptitude_course</th>\n",
       "      <th>aptitude_distance</th>\n",
       "      <th>aptitude_run</th>\n",
       "      <th>aptitude_growth</th>\n",
       "      <th>aptitude_ground</th>\n",
       "      <th>weight</th>\n",
       "      <th>race_count</th>\n",
       "      <th>past_rank_ave</th>\n",
       "      <th>before_race_rank</th>\n",
       "      <th>past_rank_std</th>\n",
       "      <th>ave_race_score</th>\n",
       "    </tr>\n",
       "  </thead>\n",
       "  <tbody>\n",
       "    <tr>\n",
       "      <th>0</th>\n",
       "      <td>6</td>\n",
       "      <td>110</td>\n",
       "      <td>43</td>\n",
       "      <td>9</td>\n",
       "      <td>42</td>\n",
       "      <td>101</td>\n",
       "      <td>55</td>\n",
       "      <td>6</td>\n",
       "      <td>2.3</td>\n",
       "      <td>1</td>\n",
       "      <td>2.790858</td>\n",
       "      <td>108.333333</td>\n",
       "    </tr>\n",
       "  </tbody>\n",
       "</table>\n",
       "</div>"
      ],
      "text/plain": [
       "   frame_number  aptitude_course  aptitude_distance  aptitude_run  \\\n",
       "0             6              110                 43             9   \n",
       "\n",
       "   aptitude_growth  aptitude_ground  weight  race_count  past_rank_ave  \\\n",
       "0               42              101      55           6            2.3   \n",
       "\n",
       "   before_race_rank  past_rank_std  ave_race_score  \n",
       "0                 1       2.790858      108.333333  "
      ]
     },
     "execution_count": 89,
     "metadata": {},
     "output_type": "execute_result"
    }
   ],
   "source": [
    "df_races_test_2[0].head(1)"
   ]
  },
  {
   "cell_type": "code",
   "execution_count": 90,
   "metadata": {},
   "outputs": [],
   "source": [
    "y_train = y_trains[TEST_NUM]"
   ]
  },
  {
   "cell_type": "code",
   "execution_count": 91,
   "metadata": {},
   "outputs": [
    {
     "data": {
      "text/plain": [
       "(123, 12)"
      ]
     },
     "execution_count": 91,
     "metadata": {},
     "output_type": "execute_result"
    }
   ],
   "source": [
    "X_train = df_races_train_2[TEST_NUM].values.astype(np.float)\n",
    "X_train.shape"
   ]
  },
  {
   "cell_type": "code",
   "execution_count": 92,
   "metadata": {},
   "outputs": [
    {
     "data": {
      "text/plain": [
       "(12, 12)"
      ]
     },
     "execution_count": 92,
     "metadata": {},
     "output_type": "execute_result"
    }
   ],
   "source": [
    "X_test = df_races_test_2[TEST_NUM].values.astype(np.float)\n",
    "X_test.shape"
   ]
  },
  {
   "cell_type": "code",
   "execution_count": 93,
   "metadata": {
    "scrolled": true
   },
   "outputs": [],
   "source": [
    "mm = preprocessing.MinMaxScaler()\n",
    "X_train = mm.fit_transform(X_train)\n",
    "X_test = mm.fit_transform(X_test)"
   ]
  },
  {
   "cell_type": "markdown",
   "metadata": {},
   "source": [
    "### 機械学習開始"
   ]
  },
  {
   "cell_type": "code",
   "execution_count": 94,
   "metadata": {},
   "outputs": [],
   "source": [
    "# 機械学習のモデルを読み込む\n",
    "from sklearn import tree\n",
    "from sklearn import svm\n",
    "from sklearn import ensemble\n",
    "from sklearn import neighbors\n",
    "from sklearn import linear_model\n",
    "\n",
    "# 機械学習のお役立ちモジュールを読み込む\n",
    "from sklearn.model_selection import cross_val_score\n",
    "from sklearn.model_selection import StratifiedKFold\n",
    "from sklearn import metrics"
   ]
  },
  {
   "cell_type": "code",
   "execution_count": 95,
   "metadata": {},
   "outputs": [],
   "source": [
    "def stratified_cv(X, y, clf_class, shuffle=True, n_folds=10, **kwargs):\n",
    "    stratified_k_fold = StratifiedKFold(n_splits = n_folds, shuffle = shuffle).split(X, y)\n",
    "    y_pred = y.copy()\n",
    "    for ii, jj in stratified_k_fold:\n",
    "        X_train, X_test = X[ii], X[jj]\n",
    "        y_train = y[ii]\n",
    "        clf = clf_class(**kwargs)\n",
    "        clf.fit(X_train, y_train)\n",
    "        y_pred[jj] = clf.predict(X_test)\n",
    "    return y_pred"
   ]
  },
  {
   "cell_type": "markdown",
   "metadata": {},
   "source": [
    "5つの学習モデルで正答率比較　(Dump Classifierはすべての入力に0を返すモデル)"
   ]
  },
  {
   "cell_type": "code",
   "execution_count": 96,
   "metadata": {},
   "outputs": [
    {
     "name": "stdout",
     "output_type": "stream",
     "text": [
      "Passive Aggressive Classifier: 0.764\n",
      "Gradient Boosting Classifier:  0.821\n",
      "Support vector machine(SVM):   0.821\n",
      "Random Forest Classifier:      0.846\n",
      "K Nearest Neighbor Classifier: 0.772\n",
      "Dump Classifier: 0.829\n"
     ]
    }
   ],
   "source": [
    "print('Passive Aggressive Classifier: {:.3f}'.format(metrics.accuracy_score(y_train, stratified_cv(X_train, y_train, linear_model.PassiveAggressiveClassifier))))\n",
    "print('Gradient Boosting Classifier:  {:.3f}'.format(metrics.accuracy_score(y_train, stratified_cv(X_train, y_train, ensemble.GradientBoostingClassifier))))\n",
    "print('Support vector machine(SVM):   {:.3f}'.format(metrics.accuracy_score(y_train, stratified_cv(X_train, y_train, svm.SVC))))\n",
    "print('Random Forest Classifier:      {:.3f}'.format(metrics.accuracy_score(y_train, stratified_cv(X_train, y_train, ensemble.RandomForestClassifier))))\n",
    "print('K Nearest Neighbor Classifier: {:.3f}'.format(metrics.accuracy_score(y_train, stratified_cv(X_train, y_train, neighbors.KNeighborsClassifier))))\n",
    "print('Dump Classifier: {:.3f}'.format(metrics.accuracy_score(y_train, [0 for ii in y_train.tolist()])))"
   ]
  },
  {
   "cell_type": "markdown",
   "metadata": {},
   "source": [
    "### 正答率の高かったモデルが予測時に何を重要視したかを出力"
   ]
  },
  {
   "cell_type": "code",
   "execution_count": 97,
   "metadata": {},
   "outputs": [
    {
     "data": {
      "text/plain": [
       "RandomForestClassifier()"
      ]
     },
     "execution_count": 97,
     "metadata": {},
     "output_type": "execute_result"
    }
   ],
   "source": [
    "# linear_model.PassiveAggressiveClassifier()\n",
    "# ensemble.GradientBoostingClassifier()\n",
    "# svm.SVC()\n",
    "# ensemble.RandomForestClassifier()\n",
    "# neighbors.KNeighborsClassifier()\n",
    "\n",
    "model = ensemble.RandomForestClassifier()\n",
    "model.fit(X_train, y_train)"
   ]
  },
  {
   "cell_type": "code",
   "execution_count": 98,
   "metadata": {},
   "outputs": [
    {
     "data": {
      "image/png": "[encoded data removed]",
      "text/plain": [
       "<Figure size 800x500 with 1 Axes>"
      ]
     },
     "metadata": {},
     "output_type": "display_data"
    },
    {
     "name": "stdout",
     "output_type": "stream",
     "text": [
      "ave_race_score, perturbation effect: 20.66%\n",
      "past_rank_ave, perturbation effect: 19.48%\n",
      "aptitude_course, perturbation effect: 16.87%\n",
      "aptitude_ground, perturbation effect: 9.74%\n",
      "race_count, perturbation effect: 9.74%\n",
      "past_rank_std, perturbation effect: 9.74%\n",
      "aptitude_ground, perturbation effect: 6.89%\n",
      "race_count, perturbation effect: 6.89%\n",
      "past_rank_std, perturbation effect: 0.00%\n",
      "aptitude_ground, perturbation effect: 0.00%\n",
      "race_count, perturbation effect: 0.00%\n",
      "past_rank_std, perturbation effect: 0.00%\n"
     ]
    }
   ],
   "source": [
    "func.plot_importance(func.calc_importance(model, X_train), df_races_test_2[0].columns.values)\n",
    "func.print_importance(func.calc_importance(model, X_train), df_races_test_2[0].columns.values)"
   ]
  },
  {
   "cell_type": "markdown",
   "metadata": {},
   "source": [
    "予測結果出力"
   ]
  },
  {
   "cell_type": "code",
   "execution_count": 99,
   "metadata": {},
   "outputs": [
    {
     "name": "stdout",
     "output_type": "stream",
     "text": [
      "[0 0 0 0 0 0 0 0 0 0 0 0]\n"
     ]
    }
   ],
   "source": [
    "y_pred = model.predict(X_test)\n",
    "print(y_pred)\n",
    "for i in range(len(y_pred)):\n",
    "    if (y_pred[i]):\n",
    "        print(df_races_2[TEST_NUM].iloc[[i]]['horse_name'])"
   ]
  },
  {
   "cell_type": "markdown",
   "metadata": {},
   "source": [
    "### 今年のレースを予測"
   ]
  },
  {
   "cell_type": "code",
   "execution_count": 100,
   "metadata": {},
   "outputs": [],
   "source": [
    "PRED_RACE_COLUMNS = [\n",
    "    \"frame_number\",\n",
    "    \"horse_number\",\n",
    "    \"mark\",\n",
    "    \"horse_name\",\n",
    "    \"url\",\n",
    "    \"aptitude_course\",\n",
    "    \"aptitude_distance\",\n",
    "    \"aptitude_run\",\n",
    "    \"aptitude_growth\",\n",
    "    \"aptitude_ground\",\n",
    "    \"age\",\n",
    "    \"weight\",\n",
    "    \"jockey\",\n",
    "    \"trainer\",\n",
    "    \"blank_1\",\n",
    "    \"blank_2\",\n",
    "    \"blank_3\",\n",
    "    \"blank_4\",\n",
    "    \"blank_5\"\n",
    "]"
   ]
  },
  {
   "cell_type": "code",
   "execution_count": 101,
   "metadata": {},
   "outputs": [
    {
     "data": {
      "text/plain": [
       "'202106050811'"
      ]
     },
     "execution_count": 101,
     "metadata": {},
     "output_type": "execute_result"
    }
   ],
   "source": [
    "TRAIN_RACE_ID[0]"
   ]
  },
  {
   "cell_type": "code",
   "execution_count": 102,
   "metadata": {},
   "outputs": [],
   "source": [
    "RACE_NAME = RACE_NAME_2"
   ]
  },
  {
   "cell_type": "code",
   "execution_count": 103,
   "metadata": {},
   "outputs": [],
   "source": [
    "df_pred_race = pd.read_csv(CSV_DIR+ RACE + str(int(TRAIN_RACE_ID[0][:4]) + 1) + RACE_NAME_2 + \".csv\", header=None, names = PRED_RACE_COLUMNS, encoding='shift_jis')"
   ]
  },
  {
   "cell_type": "code",
   "execution_count": 107,
   "metadata": {
    "scrolled": true
   },
   "outputs": [
    {
     "data": {
      "text/html": [
       "<div>\n",
       "<style scoped>\n",
       "    .dataframe tbody tr th:only-of-type {\n",
       "        vertical-align: middle;\n",
       "    }\n",
       "\n",
       "    .dataframe tbody tr th {\n",
       "        vertical-align: top;\n",
       "    }\n",
       "\n",
       "    .dataframe thead th {\n",
       "        text-align: right;\n",
       "    }\n",
       "</style>\n",
       "<table border=\"1\" class=\"dataframe\">\n",
       "  <thead>\n",
       "    <tr style=\"text-align: right;\">\n",
       "      <th></th>\n",
       "      <th>frame_number</th>\n",
       "      <th>horse_number</th>\n",
       "      <th>mark</th>\n",
       "      <th>horse_name</th>\n",
       "      <th>url</th>\n",
       "      <th>aptitude_course</th>\n",
       "      <th>aptitude_distance</th>\n",
       "      <th>aptitude_run</th>\n",
       "      <th>aptitude_growth</th>\n",
       "      <th>aptitude_ground</th>\n",
       "      <th>age</th>\n",
       "      <th>weight</th>\n",
       "      <th>jockey</th>\n",
       "      <th>trainer</th>\n",
       "      <th>blank_1</th>\n",
       "      <th>blank_2</th>\n",
       "      <th>blank_3</th>\n",
       "      <th>blank_4</th>\n",
       "      <th>blank_5</th>\n",
       "    </tr>\n",
       "  </thead>\n",
       "  <tbody>\n",
       "    <tr>\n",
       "      <th>0</th>\n",
       "      <td>1</td>\n",
       "      <td>1</td>\n",
       "      <td>--◎◯▲△☆&amp;#10003消</td>\n",
       "      <td>アカイイト</td>\n",
       "      <td>https://db.netkeiba.com/horse/2017106203</td>\n",
       "      <td>111</td>\n",
       "      <td>29</td>\n",
       "      <td>12</td>\n",
       "      <td>21</td>\n",
       "      <td>108</td>\n",
       "      <td>牝5</td>\n",
       "      <td>55.0</td>\n",
       "      <td>幸</td>\n",
       "      <td>栗東中竹</td>\n",
       "      <td>NaN</td>\n",
       "      <td>---.-</td>\n",
       "      <td>**</td>\n",
       "      <td>NaN</td>\n",
       "      <td>NaN</td>\n",
       "    </tr>\n",
       "    <tr>\n",
       "      <th>1</th>\n",
       "      <td>1</td>\n",
       "      <td>2</td>\n",
       "      <td>--◎◯▲△☆&amp;#10003消</td>\n",
       "      <td>イズジョーノキセキ</td>\n",
       "      <td>https://db.netkeiba.com/horse/2017102294</td>\n",
       "      <td>116</td>\n",
       "      <td>58</td>\n",
       "      <td>1</td>\n",
       "      <td>1</td>\n",
       "      <td>58</td>\n",
       "      <td>牝5</td>\n",
       "      <td>55.0</td>\n",
       "      <td>岩田康</td>\n",
       "      <td>栗東石坂</td>\n",
       "      <td>NaN</td>\n",
       "      <td>---.-</td>\n",
       "      <td>**</td>\n",
       "      <td>NaN</td>\n",
       "      <td>NaN</td>\n",
       "    </tr>\n",
       "    <tr>\n",
       "      <th>2</th>\n",
       "      <td>2</td>\n",
       "      <td>3</td>\n",
       "      <td>--◎◯▲△☆&amp;#10003消</td>\n",
       "      <td>ボルドグフーシュ</td>\n",
       "      <td>https://db.netkeiba.com/horse/2019104909</td>\n",
       "      <td>116</td>\n",
       "      <td>1</td>\n",
       "      <td>1</td>\n",
       "      <td>19</td>\n",
       "      <td>58</td>\n",
       "      <td>牡3</td>\n",
       "      <td>55.0</td>\n",
       "      <td>福永</td>\n",
       "      <td>栗東宮本</td>\n",
       "      <td>NaN</td>\n",
       "      <td>---.-</td>\n",
       "      <td>**</td>\n",
       "      <td>NaN</td>\n",
       "      <td>NaN</td>\n",
       "    </tr>\n",
       "    <tr>\n",
       "      <th>3</th>\n",
       "      <td>2</td>\n",
       "      <td>4</td>\n",
       "      <td>--◎◯▲△☆&amp;#10003消</td>\n",
       "      <td>アリストテレス</td>\n",
       "      <td>https://db.netkeiba.com/horse/2017105525</td>\n",
       "      <td>116</td>\n",
       "      <td>5</td>\n",
       "      <td>73</td>\n",
       "      <td>32</td>\n",
       "      <td>52</td>\n",
       "      <td>牡5</td>\n",
       "      <td>57.0</td>\n",
       "      <td>武豊</td>\n",
       "      <td>栗東音無</td>\n",
       "      <td>NaN</td>\n",
       "      <td>---.-</td>\n",
       "      <td>**</td>\n",
       "      <td>NaN</td>\n",
       "      <td>NaN</td>\n",
       "    </tr>\n",
       "    <tr>\n",
       "      <th>4</th>\n",
       "      <td>3</td>\n",
       "      <td>5</td>\n",
       "      <td>--◎◯▲△☆&amp;#10003消</td>\n",
       "      <td>ジェラルディーナ</td>\n",
       "      <td>https://db.netkeiba.com/horse/2018105081</td>\n",
       "      <td>116</td>\n",
       "      <td>58</td>\n",
       "      <td>11</td>\n",
       "      <td>1</td>\n",
       "      <td>58</td>\n",
       "      <td>牝4</td>\n",
       "      <td>55.0</td>\n",
       "      <td>Ｃデムーロ</td>\n",
       "      <td>栗東斉藤崇</td>\n",
       "      <td>NaN</td>\n",
       "      <td>---.-</td>\n",
       "      <td>**</td>\n",
       "      <td>NaN</td>\n",
       "      <td>NaN</td>\n",
       "    </tr>\n",
       "  </tbody>\n",
       "</table>\n",
       "</div>"
      ],
      "text/plain": [
       "   frame_number  horse_number             mark horse_name  \\\n",
       "0             1             1  --◎◯▲△☆&#10003消      アカイイト   \n",
       "1             1             2  --◎◯▲△☆&#10003消  イズジョーノキセキ   \n",
       "2             2             3  --◎◯▲△☆&#10003消   ボルドグフーシュ   \n",
       "3             2             4  --◎◯▲△☆&#10003消    アリストテレス   \n",
       "4             3             5  --◎◯▲△☆&#10003消   ジェラルディーナ   \n",
       "\n",
       "                                        url  aptitude_course  \\\n",
       "0  https://db.netkeiba.com/horse/2017106203              111   \n",
       "1  https://db.netkeiba.com/horse/2017102294              116   \n",
       "2  https://db.netkeiba.com/horse/2019104909              116   \n",
       "3  https://db.netkeiba.com/horse/2017105525              116   \n",
       "4  https://db.netkeiba.com/horse/2018105081              116   \n",
       "\n",
       "   aptitude_distance  aptitude_run  aptitude_growth  aptitude_ground age  \\\n",
       "0                 29            12               21              108  牝5   \n",
       "1                 58             1                1               58  牝5   \n",
       "2                  1             1               19               58  牡3   \n",
       "3                  5            73               32               52  牡5   \n",
       "4                 58            11                1               58  牝4   \n",
       "\n",
       "   weight jockey trainer  blank_1 blank_2 blank_3  blank_4  blank_5  \n",
       "0    55.0      幸    栗東中竹      NaN   ---.-      **      NaN      NaN  \n",
       "1    55.0    岩田康    栗東石坂      NaN   ---.-      **      NaN      NaN  \n",
       "2    55.0     福永    栗東宮本      NaN   ---.-      **      NaN      NaN  \n",
       "3    57.0     武豊    栗東音無      NaN   ---.-      **      NaN      NaN  \n",
       "4    55.0  Ｃデムーロ   栗東斉藤崇      NaN   ---.-      **      NaN      NaN  "
      ]
     },
     "execution_count": 107,
     "metadata": {},
     "output_type": "execute_result"
    }
   ],
   "source": [
    "num = 11\n",
    "df_pred_race.head(5)"
   ]
  },
  {
   "cell_type": "code",
   "execution_count": 108,
   "metadata": {},
   "outputs": [],
   "source": [
    "df_pred_race_2 = df_pred_race.copy()\n",
    "drop_columns = ['trainer', 'owner', 'jockey', 'mark', 'url', 'blank_1', 'blank_2', 'blank_3', 'blank_4', 'blank_5']\n",
    "df_pred_race_2.fillna({'time_score': '**'})\n",
    "df_pred_race_2.dropna(how='all', axis = 1, inplace=True)\n",
    "df_pred_race_2 = df_pred_race_2.drop(columns = drop_columns, errors = 'ignore')\n",
    "df_pred_race_2['horse_data_key'] = df_pred_race_2.apply(load_horse_data, num = num, axis = 1)\n",
    "df_pred_race_2['race_count'] = df_pred_race_2.apply(lambda x: int(db_horses[x['horse_data_key']].shape[0]), axis = 1)\n",
    "df_pred_race_2 = feature_creation(df_pred_race_2, -1)"
   ]
  },
  {
   "cell_type": "code",
   "execution_count": 109,
   "metadata": {
    "scrolled": true
   },
   "outputs": [
    {
     "data": {
      "text/html": [
       "<div>\n",
       "<style scoped>\n",
       "    .dataframe tbody tr th:only-of-type {\n",
       "        vertical-align: middle;\n",
       "    }\n",
       "\n",
       "    .dataframe tbody tr th {\n",
       "        vertical-align: top;\n",
       "    }\n",
       "\n",
       "    .dataframe thead th {\n",
       "        text-align: right;\n",
       "    }\n",
       "</style>\n",
       "<table border=\"1\" class=\"dataframe\">\n",
       "  <thead>\n",
       "    <tr style=\"text-align: right;\">\n",
       "      <th></th>\n",
       "      <th>frame_number</th>\n",
       "      <th>horse_number</th>\n",
       "      <th>horse_name</th>\n",
       "      <th>aptitude_course</th>\n",
       "      <th>aptitude_distance</th>\n",
       "      <th>aptitude_run</th>\n",
       "      <th>aptitude_growth</th>\n",
       "      <th>aptitude_ground</th>\n",
       "      <th>age</th>\n",
       "      <th>weight</th>\n",
       "      <th>horse_data_key</th>\n",
       "      <th>race_count</th>\n",
       "      <th>past_rank_ave</th>\n",
       "      <th>before_race_rank</th>\n",
       "      <th>past_rank_std</th>\n",
       "      <th>ave_race_score</th>\n",
       "    </tr>\n",
       "  </thead>\n",
       "  <tbody>\n",
       "    <tr>\n",
       "      <th>0</th>\n",
       "      <td>1</td>\n",
       "      <td>1</td>\n",
       "      <td>アカイイト</td>\n",
       "      <td>111</td>\n",
       "      <td>29</td>\n",
       "      <td>12</td>\n",
       "      <td>21</td>\n",
       "      <td>108</td>\n",
       "      <td>牝5</td>\n",
       "      <td>55.0</td>\n",
       "      <td>2022アカイイト</td>\n",
       "      <td>26</td>\n",
       "      <td>4.269231</td>\n",
       "      <td>4</td>\n",
       "      <td>2.793674</td>\n",
       "      <td>0.000000</td>\n",
       "    </tr>\n",
       "    <tr>\n",
       "      <th>1</th>\n",
       "      <td>1</td>\n",
       "      <td>2</td>\n",
       "      <td>イズジョーノキセキ</td>\n",
       "      <td>116</td>\n",
       "      <td>58</td>\n",
       "      <td>1</td>\n",
       "      <td>1</td>\n",
       "      <td>58</td>\n",
       "      <td>牝5</td>\n",
       "      <td>55.0</td>\n",
       "      <td>2022イズジョーノキセキ</td>\n",
       "      <td>22</td>\n",
       "      <td>3.681818</td>\n",
       "      <td>6</td>\n",
       "      <td>2.417917</td>\n",
       "      <td>6.250000</td>\n",
       "    </tr>\n",
       "    <tr>\n",
       "      <th>2</th>\n",
       "      <td>2</td>\n",
       "      <td>3</td>\n",
       "      <td>ボルドグフーシュ</td>\n",
       "      <td>116</td>\n",
       "      <td>1</td>\n",
       "      <td>1</td>\n",
       "      <td>19</td>\n",
       "      <td>58</td>\n",
       "      <td>牡3</td>\n",
       "      <td>55.0</td>\n",
       "      <td>2022ボルドグフーシュ</td>\n",
       "      <td>9</td>\n",
       "      <td>3.000000</td>\n",
       "      <td>6</td>\n",
       "      <td>2.179449</td>\n",
       "      <td>37.500000</td>\n",
       "    </tr>\n",
       "    <tr>\n",
       "      <th>3</th>\n",
       "      <td>2</td>\n",
       "      <td>4</td>\n",
       "      <td>アリストテレス</td>\n",
       "      <td>116</td>\n",
       "      <td>5</td>\n",
       "      <td>73</td>\n",
       "      <td>32</td>\n",
       "      <td>52</td>\n",
       "      <td>牡5</td>\n",
       "      <td>57.0</td>\n",
       "      <td>2022アリストテレス</td>\n",
       "      <td>18</td>\n",
       "      <td>4.722222</td>\n",
       "      <td>2</td>\n",
       "      <td>4.443178</td>\n",
       "      <td>11.868687</td>\n",
       "    </tr>\n",
       "    <tr>\n",
       "      <th>4</th>\n",
       "      <td>3</td>\n",
       "      <td>5</td>\n",
       "      <td>ジェラルディーナ</td>\n",
       "      <td>116</td>\n",
       "      <td>58</td>\n",
       "      <td>11</td>\n",
       "      <td>1</td>\n",
       "      <td>58</td>\n",
       "      <td>牝4</td>\n",
       "      <td>55.0</td>\n",
       "      <td>2022ジェラルディーナ</td>\n",
       "      <td>16</td>\n",
       "      <td>3.437500</td>\n",
       "      <td>3</td>\n",
       "      <td>2.874456</td>\n",
       "      <td>9.687500</td>\n",
       "    </tr>\n",
       "  </tbody>\n",
       "</table>\n",
       "</div>"
      ],
      "text/plain": [
       "   frame_number  horse_number horse_name  aptitude_course  aptitude_distance  \\\n",
       "0             1             1      アカイイト              111                 29   \n",
       "1             1             2  イズジョーノキセキ              116                 58   \n",
       "2             2             3   ボルドグフーシュ              116                  1   \n",
       "3             2             4    アリストテレス              116                  5   \n",
       "4             3             5   ジェラルディーナ              116                 58   \n",
       "\n",
       "   aptitude_run  aptitude_growth  aptitude_ground age  weight horse_data_key  \\\n",
       "0            12               21              108  牝5    55.0      2022アカイイト   \n",
       "1             1                1               58  牝5    55.0  2022イズジョーノキセキ   \n",
       "2             1               19               58  牡3    55.0   2022ボルドグフーシュ   \n",
       "3            73               32               52  牡5    57.0    2022アリストテレス   \n",
       "4            11                1               58  牝4    55.0   2022ジェラルディーナ   \n",
       "\n",
       "   race_count  past_rank_ave  before_race_rank  past_rank_std  ave_race_score  \n",
       "0          26       4.269231                 4       2.793674        0.000000  \n",
       "1          22       3.681818                 6       2.417917        6.250000  \n",
       "2           9       3.000000                 6       2.179449       37.500000  \n",
       "3          18       4.722222                 2       4.443178       11.868687  \n",
       "4          16       3.437500                 3       2.874456        9.687500  "
      ]
     },
     "execution_count": 109,
     "metadata": {},
     "output_type": "execute_result"
    }
   ],
   "source": [
    "df_pred_race_2.head(5)"
   ]
  },
  {
   "cell_type": "code",
   "execution_count": 110,
   "metadata": {},
   "outputs": [
    {
     "data": {
      "text/html": [
       "<div>\n",
       "<style scoped>\n",
       "    .dataframe tbody tr th:only-of-type {\n",
       "        vertical-align: middle;\n",
       "    }\n",
       "\n",
       "    .dataframe tbody tr th {\n",
       "        vertical-align: top;\n",
       "    }\n",
       "\n",
       "    .dataframe thead th {\n",
       "        text-align: right;\n",
       "    }\n",
       "</style>\n",
       "<table border=\"1\" class=\"dataframe\">\n",
       "  <thead>\n",
       "    <tr style=\"text-align: right;\">\n",
       "      <th></th>\n",
       "      <th>frame_number</th>\n",
       "      <th>aptitude_course</th>\n",
       "      <th>aptitude_distance</th>\n",
       "      <th>aptitude_run</th>\n",
       "      <th>aptitude_growth</th>\n",
       "      <th>aptitude_ground</th>\n",
       "      <th>weight</th>\n",
       "      <th>race_count</th>\n",
       "      <th>past_rank_ave</th>\n",
       "      <th>before_race_rank</th>\n",
       "      <th>past_rank_std</th>\n",
       "      <th>ave_race_score</th>\n",
       "    </tr>\n",
       "  </thead>\n",
       "  <tbody>\n",
       "    <tr>\n",
       "      <th>0</th>\n",
       "      <td>1</td>\n",
       "      <td>111</td>\n",
       "      <td>29</td>\n",
       "      <td>12</td>\n",
       "      <td>21</td>\n",
       "      <td>108</td>\n",
       "      <td>55.0</td>\n",
       "      <td>26</td>\n",
       "      <td>4.269231</td>\n",
       "      <td>4</td>\n",
       "      <td>2.793674</td>\n",
       "      <td>0.0</td>\n",
       "    </tr>\n",
       "  </tbody>\n",
       "</table>\n",
       "</div>"
      ],
      "text/plain": [
       "   frame_number  aptitude_course  aptitude_distance  aptitude_run  \\\n",
       "0             1              111                 29            12   \n",
       "\n",
       "   aptitude_growth  aptitude_ground  weight  race_count  past_rank_ave  \\\n",
       "0               21              108    55.0          26       4.269231   \n",
       "\n",
       "   before_race_rank  past_rank_std  ave_race_score  \n",
       "0                 4       2.793674             0.0  "
      ]
     },
     "execution_count": 110,
     "metadata": {},
     "output_type": "execute_result"
    }
   ],
   "source": [
    "df_pred_race_3 = df_pred_race_2.copy()\n",
    "df_pred_race_3 = df_pred_race_3.drop(columns = [\"horse_name\", \"age\", \"horse_data_key\", \"horse_number\"])\n",
    "df_pred_race_3.head(1)"
   ]
  },
  {
   "cell_type": "code",
   "execution_count": 111,
   "metadata": {},
   "outputs": [],
   "source": [
    "df_pred_race_3.shape\n",
    "x_pred = df_pred_race_3.values.astype(np.float)"
   ]
  },
  {
   "cell_type": "code",
   "execution_count": 112,
   "metadata": {},
   "outputs": [],
   "source": [
    "X_all = df_races_all_2.values.astype(np.float)"
   ]
  },
  {
   "cell_type": "code",
   "execution_count": 113,
   "metadata": {},
   "outputs": [],
   "source": [
    "X_all = mm.fit_transform(X_all)\n",
    "x_pred = mm.fit_transform(x_pred)"
   ]
  },
  {
   "cell_type": "code",
   "execution_count": 114,
   "metadata": {},
   "outputs": [
    {
     "name": "stdout",
     "output_type": "stream",
     "text": [
      "[0, 0, 10, 11, 0, 47, 172, 1, 48, 2, 1, 11, 261, 52, 18, 17]\n",
      "Counter({'タイトルホルダー': 261, 'エフフォーリア': 172, 'ボッケリーニ': 52, 'イクイノックス': 48, 'ヴェラアズール': 47, 'ブレークアップ': 18, 'ディープボンド': 17, 'アリストテレス': 11, 'ポタジェ': 11, 'ボルドグフーシュ': 10, 'ジャスティンパレス': 2, 'ウインマイティー': 1, 'ラストドラフト': 1})\n"
     ]
    }
   ],
   "source": [
    "horse_names = df_pred_race_2['horse_name']\n",
    "models = []\n",
    "models.append(linear_model.PassiveAggressiveClassifier())\n",
    "models.append(ensemble.GradientBoostingClassifier())\n",
    "models.append(svm.SVC())\n",
    "models.append(ensemble.RandomForestClassifier())\n",
    "models.append(neighbors.KNeighborsClassifier())\n",
    "names = []\n",
    "preds = np.zeros(len(horse_names), dtype=np.int64)\n",
    "for _ in range(100):\n",
    "    for i in range(len(models)):\n",
    "        models[i].fit(X_all, y_all)\n",
    "        y_pred = models[i].predict(x_pred)\n",
    "        preds = preds + y_pred\n",
    "        for j in range(len(y_pred)):\n",
    "            if (y_pred[j]):\n",
    "                names.append(horse_names[j])\n",
    "print(preds.tolist())\n",
    "print(collections.Counter(names))"
   ]
  },
  {
   "cell_type": "code",
   "execution_count": null,
   "metadata": {},
   "outputs": [],
   "source": []
  },
  {
   "cell_type": "code",
   "execution_count": null,
   "metadata": {},
   "outputs": [],
   "source": []
  },
  {
   "cell_type": "code",
   "execution_count": null,
   "metadata": {},
   "outputs": [],
   "source": []
  }
 ],
 "metadata": {
  "kernelspec": {
   "display_name": "Python 3",
   "language": "python",
   "name": "python3"
  },
  "language_info": {
   "codemirror_mode": {
    "name": "ipython",
    "version": 3
   },
   "file_extension": ".py",
   "mimetype": "text/x-python",
   "name": "python",
   "nbconvert_exporter": "python",
   "pygments_lexer": "ipython3",
   "version": "3.8.5"
  }
 },
 "nbformat": 4,
 "nbformat_minor": 4
}
